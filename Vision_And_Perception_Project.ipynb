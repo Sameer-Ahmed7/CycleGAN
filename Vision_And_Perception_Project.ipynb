{
  "nbformat": 4,
  "nbformat_minor": 0,
  "metadata": {
    "colab": {
      "provenance": [],
      "gpuType": "T4",
      "include_colab_link": true
    },
    "kernelspec": {
      "name": "python3",
      "display_name": "Python 3"
    },
    "language_info": {
      "name": "python"
    },
    "accelerator": "GPU"
  },
  "cells": [
    {
      "cell_type": "markdown",
      "metadata": {
        "id": "view-in-github",
        "colab_type": "text"
      },
      "source": [
        "<a href=\"https://colab.research.google.com/github/Sameer-Ahmed7/CycleGAN/blob/main/Vision_And_Perception_Project.ipynb\" target=\"_parent\"><img src=\"https://colab.research.google.com/assets/colab-badge.svg\" alt=\"Open In Colab\"/></a>"
      ]
    },
    {
      "cell_type": "code",
      "source": [
        "from google.colab import drive\n",
        "drive.mount('/content/gdrive')"
      ],
      "metadata": {
        "colab": {
          "base_uri": "https://localhost:8080/"
        },
        "id": "YKabZ83lk5r2",
        "outputId": "c3073f43-5d4d-4d0f-b552-63c9436c5a1f"
      },
      "execution_count": null,
      "outputs": [
        {
          "output_type": "stream",
          "name": "stdout",
          "text": [
            "Mounted at /content/gdrive\n"
          ]
        }
      ]
    },
    {
      "cell_type": "code",
      "execution_count": null,
      "metadata": {
        "colab": {
          "base_uri": "https://localhost:8080/"
        },
        "id": "pXEadXC7_hqY",
        "outputId": "7057636c-1387-422d-f4d7-728e8e21b603"
      },
      "outputs": [
        {
          "output_type": "stream",
          "name": "stdout",
          "text": [
            "Requirement already satisfied: albumentations in /usr/local/lib/python3.10/dist-packages (1.2.1)\n",
            "Requirement already satisfied: numpy>=1.11.1 in /usr/local/lib/python3.10/dist-packages (from albumentations) (1.22.4)\n",
            "Requirement already satisfied: scipy in /usr/local/lib/python3.10/dist-packages (from albumentations) (1.10.1)\n",
            "Requirement already satisfied: scikit-image>=0.16.1 in /usr/local/lib/python3.10/dist-packages (from albumentations) (0.19.3)\n",
            "Requirement already satisfied: PyYAML in /usr/local/lib/python3.10/dist-packages (from albumentations) (6.0)\n",
            "Requirement already satisfied: qudida>=0.0.4 in /usr/local/lib/python3.10/dist-packages (from albumentations) (0.0.4)\n",
            "Requirement already satisfied: opencv-python-headless>=4.1.1 in /usr/local/lib/python3.10/dist-packages (from albumentations) (4.8.0.74)\n",
            "Requirement already satisfied: scikit-learn>=0.19.1 in /usr/local/lib/python3.10/dist-packages (from qudida>=0.0.4->albumentations) (1.2.2)\n",
            "Requirement already satisfied: typing-extensions in /usr/local/lib/python3.10/dist-packages (from qudida>=0.0.4->albumentations) (4.7.1)\n",
            "Requirement already satisfied: networkx>=2.2 in /usr/local/lib/python3.10/dist-packages (from scikit-image>=0.16.1->albumentations) (3.1)\n",
            "Requirement already satisfied: pillow!=7.1.0,!=7.1.1,!=8.3.0,>=6.1.0 in /usr/local/lib/python3.10/dist-packages (from scikit-image>=0.16.1->albumentations) (8.4.0)\n",
            "Requirement already satisfied: imageio>=2.4.1 in /usr/local/lib/python3.10/dist-packages (from scikit-image>=0.16.1->albumentations) (2.25.1)\n",
            "Requirement already satisfied: tifffile>=2019.7.26 in /usr/local/lib/python3.10/dist-packages (from scikit-image>=0.16.1->albumentations) (2023.7.10)\n",
            "Requirement already satisfied: PyWavelets>=1.1.1 in /usr/local/lib/python3.10/dist-packages (from scikit-image>=0.16.1->albumentations) (1.4.1)\n",
            "Requirement already satisfied: packaging>=20.0 in /usr/local/lib/python3.10/dist-packages (from scikit-image>=0.16.1->albumentations) (23.1)\n",
            "Requirement already satisfied: joblib>=1.1.1 in /usr/local/lib/python3.10/dist-packages (from scikit-learn>=0.19.1->qudida>=0.0.4->albumentations) (1.3.1)\n",
            "Requirement already satisfied: threadpoolctl>=2.0.0 in /usr/local/lib/python3.10/dist-packages (from scikit-learn>=0.19.1->qudida>=0.0.4->albumentations) (3.1.0)\n"
          ]
        }
      ],
      "source": [
        "!pip install albumentations"
      ]
    },
    {
      "cell_type": "code",
      "source": [
        "!jar xvf /content/gdrive/MyDrive/Horse_2_Zebra/horse2zebra.zip"
      ],
      "metadata": {
        "colab": {
          "base_uri": "https://localhost:8080/"
        },
        "id": "ZP8F6zDyEY3P",
        "outputId": "ade06045-c80c-4519-c33e-b81b706a2a58"
      },
      "execution_count": null,
      "outputs": [
        {
          "output_type": "stream",
          "name": "stdout",
          "text": [
            "  created: horse2zebra/\n",
            "  created: horse2zebra/trainA/\n",
            " inflated: horse2zebra/trainA/n02381460_6223.jpg\n",
            " inflated: horse2zebra/trainA/n02381460_1567.jpg\n",
            " inflated: horse2zebra/trainA/n02381460_3354.jpg\n",
            " inflated: horse2zebra/trainA/n02381460_299.jpg\n",
            " inflated: horse2zebra/trainA/n02381460_3001.jpg\n",
            " inflated: horse2zebra/trainA/n02381460_4242.jpg\n",
            " inflated: horse2zebra/trainA/n02381460_1666.jpg\n",
            " inflated: horse2zebra/trainA/n02381460_4396.jpg\n",
            " inflated: horse2zebra/trainA/n02381460_4502.jpg\n",
            " inflated: horse2zebra/trainA/n02381460_8527.jpg\n",
            " inflated: horse2zebra/trainA/n02381460_14.jpg\n",
            " inflated: horse2zebra/trainA/n02381460_706.jpg\n",
            " inflated: horse2zebra/trainA/n02381460_4019.jpg\n",
            " inflated: horse2zebra/trainA/n02381460_1478.jpg\n",
            " inflated: horse2zebra/trainA/n02381460_3449.jpg\n",
            " inflated: horse2zebra/trainA/n02381460_5558.jpg\n",
            " inflated: horse2zebra/trainA/n02381460_969.jpg\n",
            " inflated: horse2zebra/trainA/n02381460_1494.jpg\n",
            " inflated: horse2zebra/trainA/n02381460_1435.jpg\n",
            " inflated: horse2zebra/trainA/n02381460_5927.jpg\n",
            " inflated: horse2zebra/trainA/n02381460_979.jpg\n",
            " inflated: horse2zebra/trainA/n02381460_4621.jpg\n",
            " inflated: horse2zebra/trainA/n02381460_2412.jpg\n",
            " inflated: horse2zebra/trainA/n02381460_4474.jpg\n",
            " inflated: horse2zebra/trainA/n02381460_5803.jpg\n",
            " inflated: horse2zebra/trainA/n02381460_276.jpg\n",
            " inflated: horse2zebra/trainA/n02381460_1432.jpg\n",
            " inflated: horse2zebra/trainA/n02381460_3353.jpg\n",
            " inflated: horse2zebra/trainA/n02381460_5538.jpg\n",
            " inflated: horse2zebra/trainA/n02381460_2198.jpg\n",
            " inflated: horse2zebra/trainA/n02381460_4347.jpg\n",
            " inflated: horse2zebra/trainA/n02381460_6944.jpg\n",
            " inflated: horse2zebra/trainA/n02381460_4373.jpg\n",
            " inflated: horse2zebra/trainA/n02381460_2751.jpg\n",
            " inflated: horse2zebra/trainA/n02381460_6089.jpg\n",
            " inflated: horse2zebra/trainA/n02381460_2755.jpg\n",
            " inflated: horse2zebra/trainA/n02381460_4276.jpg\n",
            " inflated: horse2zebra/trainA/n02381460_322.jpg\n",
            " inflated: horse2zebra/trainA/n02381460_3221.jpg\n",
            " inflated: horse2zebra/trainA/n02381460_855.jpg\n",
            " inflated: horse2zebra/trainA/n02381460_4141.jpg\n",
            " inflated: horse2zebra/trainA/n02381460_807.jpg\n",
            " inflated: horse2zebra/trainA/n02381460_1019.jpg\n",
            " inflated: horse2zebra/trainA/n02381460_1319.jpg\n",
            " inflated: horse2zebra/trainA/n02381460_2341.jpg\n",
            " inflated: horse2zebra/trainA/n02381460_9064.jpg\n",
            " inflated: horse2zebra/trainA/n02381460_1939.jpg\n",
            " inflated: horse2zebra/trainA/n02381460_1208.jpg\n",
            " inflated: horse2zebra/trainA/n02381460_993.jpg\n",
            " inflated: horse2zebra/trainA/n02381460_863.jpg\n",
            " inflated: horse2zebra/trainA/n02381460_1586.jpg\n",
            " inflated: horse2zebra/trainA/n02381460_4425.jpg\n",
            " inflated: horse2zebra/trainA/n02381460_1226.jpg\n",
            " inflated: horse2zebra/trainA/n02381460_3438.jpg\n",
            " inflated: horse2zebra/trainA/n02381460_948.jpg\n",
            " inflated: horse2zebra/trainA/n02381460_736.jpg\n",
            " inflated: horse2zebra/trainA/n02381460_1197.jpg\n",
            " inflated: horse2zebra/trainA/n02381460_4429.jpg\n",
            " inflated: horse2zebra/trainA/n02381460_3754.jpg\n",
            " inflated: horse2zebra/trainA/n02381460_1482.jpg\n",
            " inflated: horse2zebra/trainA/n02381460_6402.jpg\n",
            " inflated: horse2zebra/trainA/n02381460_5805.jpg\n",
            " inflated: horse2zebra/trainA/n02381460_2462.jpg\n",
            " inflated: horse2zebra/trainA/n02381460_357.jpg\n",
            " inflated: horse2zebra/trainA/n02381460_2476.jpg\n",
            " inflated: horse2zebra/trainA/n02381460_1862.jpg\n",
            " inflated: horse2zebra/trainA/n02381460_5983.jpg\n",
            " inflated: horse2zebra/trainA/n02381460_5944.jpg\n",
            " inflated: horse2zebra/trainA/n02381460_2985.jpg\n",
            " inflated: horse2zebra/trainA/n02381460_3897.jpg\n",
            " inflated: horse2zebra/trainA/n02381460_1105.jpg\n",
            " inflated: horse2zebra/trainA/n02381460_8759.jpg\n",
            " inflated: horse2zebra/trainA/n02381460_732.jpg\n",
            " inflated: horse2zebra/trainA/n02381460_2.jpg\n",
            " inflated: horse2zebra/trainA/n02381460_4729.jpg\n",
            " inflated: horse2zebra/trainA/n02381460_3548.jpg\n",
            " inflated: horse2zebra/trainA/n02381460_3369.jpg\n",
            " inflated: horse2zebra/trainA/n02381460_7515.jpg\n",
            " inflated: horse2zebra/trainA/n02381460_1658.jpg\n",
            " inflated: horse2zebra/trainA/n02381460_1075.jpg\n",
            " inflated: horse2zebra/trainA/n02381460_1501.jpg\n",
            " inflated: horse2zebra/trainA/n02381460_8903.jpg\n",
            " inflated: horse2zebra/trainA/n02381460_674.jpg\n",
            " inflated: horse2zebra/trainA/n02381460_4687.jpg\n",
            " inflated: horse2zebra/trainA/n02381460_4566.jpg\n",
            " inflated: horse2zebra/trainA/n02381460_255.jpg\n",
            " inflated: horse2zebra/trainA/n02381460_908.jpg\n",
            " inflated: horse2zebra/trainA/n02381460_1204.jpg\n",
            " inflated: horse2zebra/trainA/n02381460_236.jpg\n",
            " inflated: horse2zebra/trainA/n02381460_7689.jpg\n",
            " inflated: horse2zebra/trainA/n02381460_155.jpg\n",
            " inflated: horse2zebra/trainA/n02381460_2048.jpg\n",
            " inflated: horse2zebra/trainA/n02381460_3601.jpg\n",
            " inflated: horse2zebra/trainA/n02381460_1675.jpg\n",
            " inflated: horse2zebra/trainA/n02381460_1888.jpg\n",
            " inflated: horse2zebra/trainA/n02381460_8325.jpg\n",
            " inflated: horse2zebra/trainA/n02381460_4413.jpg\n",
            " inflated: horse2zebra/trainA/n02381460_186.jpg\n",
            " inflated: horse2zebra/trainA/n02381460_8735.jpg\n",
            " inflated: horse2zebra/trainA/n02381460_9083.jpg\n",
            " inflated: horse2zebra/trainA/n02381460_1489.jpg\n",
            " inflated: horse2zebra/trainA/n02381460_1874.jpg\n",
            " inflated: horse2zebra/trainA/n02381460_3085.jpg\n",
            " inflated: horse2zebra/trainA/n02381460_4763.jpg\n",
            " inflated: horse2zebra/trainA/n02381460_3483.jpg\n",
            " inflated: horse2zebra/trainA/n02381460_7512.jpg\n",
            " inflated: horse2zebra/trainA/n02381460_2223.jpg\n",
            " inflated: horse2zebra/trainA/n02381460_668.jpg\n",
            " inflated: horse2zebra/trainA/n02381460_596.jpg\n",
            " inflated: horse2zebra/trainA/n02381460_9234.jpg\n",
            " inflated: horse2zebra/trainA/n02381460_3393.jpg\n",
            " inflated: horse2zebra/trainA/n02381460_6289.jpg\n",
            " inflated: horse2zebra/trainA/n02381460_986.jpg\n",
            " inflated: horse2zebra/trainA/n02381460_8668.jpg\n",
            " inflated: horse2zebra/trainA/n02381460_2446.jpg\n",
            " inflated: horse2zebra/trainA/n02381460_1001.jpg\n",
            " inflated: horse2zebra/trainA/n02381460_1624.jpg\n",
            " inflated: horse2zebra/trainA/n02381460_3412.jpg\n",
            " inflated: horse2zebra/trainA/n02381460_1122.jpg\n",
            " inflated: horse2zebra/trainA/n02381460_3175.jpg\n",
            " inflated: horse2zebra/trainA/n02381460_4374.jpg\n",
            " inflated: horse2zebra/trainA/n02381460_8639.jpg\n",
            " inflated: horse2zebra/trainA/n02381460_528.jpg\n",
            " inflated: horse2zebra/trainA/n02381460_11.jpg\n",
            " inflated: horse2zebra/trainA/n02381460_3984.jpg\n",
            " inflated: horse2zebra/trainA/n02381460_1135.jpg\n",
            " inflated: horse2zebra/trainA/n02381460_3902.jpg\n",
            " inflated: horse2zebra/trainA/n02381460_199.jpg\n",
            " inflated: horse2zebra/trainA/n02381460_2967.jpg\n",
            " inflated: horse2zebra/trainA/n02381460_677.jpg\n",
            " inflated: horse2zebra/trainA/n02381460_2043.jpg\n",
            " inflated: horse2zebra/trainA/n02381460_1337.jpg\n",
            " inflated: horse2zebra/trainA/n02381460_1769.jpg\n",
            " inflated: horse2zebra/trainA/n02381460_2325.jpg\n",
            " inflated: horse2zebra/trainA/n02381460_2032.jpg\n",
            " inflated: horse2zebra/trainA/n02381460_27.jpg\n",
            " inflated: horse2zebra/trainA/n02381460_7261.jpg\n",
            " inflated: horse2zebra/trainA/n02381460_852.jpg\n",
            " inflated: horse2zebra/trainA/n02381460_5287.jpg\n",
            " inflated: horse2zebra/trainA/n02381460_2103.jpg\n",
            " inflated: horse2zebra/trainA/n02381460_8944.jpg\n",
            " inflated: horse2zebra/trainA/n02381460_7122.jpg\n",
            " inflated: horse2zebra/trainA/n02381460_1562.jpg\n",
            " inflated: horse2zebra/trainA/n02381460_1365.jpg\n",
            " inflated: horse2zebra/trainA/n02381460_856.jpg\n",
            " inflated: horse2zebra/trainA/n02381460_6549.jpg\n",
            " inflated: horse2zebra/trainA/n02381460_7495.jpg\n",
            " inflated: horse2zebra/trainA/n02381460_108.jpg\n",
            " inflated: horse2zebra/trainA/n02381460_3066.jpg\n",
            " inflated: horse2zebra/trainA/n02381460_5442.jpg\n",
            " inflated: horse2zebra/trainA/n02381460_1796.jpg\n",
            " inflated: horse2zebra/trainA/n02381460_643.jpg\n",
            " inflated: horse2zebra/trainA/n02381460_1487.jpg\n",
            " inflated: horse2zebra/trainA/n02381460_1025.jpg\n",
            " inflated: horse2zebra/trainA/n02381460_5618.jpg\n",
            " inflated: horse2zebra/trainA/n02381460_2578.jpg\n",
            " inflated: horse2zebra/trainA/n02381460_8306.jpg\n",
            " inflated: horse2zebra/trainA/n02381460_105.jpg\n",
            " inflated: horse2zebra/trainA/n02381460_4748.jpg\n",
            " inflated: horse2zebra/trainA/n02381460_4944.jpg\n",
            " inflated: horse2zebra/trainA/n02381460_1952.jpg\n",
            " inflated: horse2zebra/trainA/n02381460_5721.jpg\n",
            " inflated: horse2zebra/trainA/n02381460_919.jpg\n",
            " inflated: horse2zebra/trainA/n02381460_2779.jpg\n",
            " inflated: horse2zebra/trainA/n02381460_1422.jpg\n",
            " inflated: horse2zebra/trainA/n02381460_7905.jpg\n",
            " inflated: horse2zebra/trainA/n02381460_998.jpg\n",
            " inflated: horse2zebra/trainA/n02381460_6743.jpg\n",
            " inflated: horse2zebra/trainA/n02381460_2929.jpg\n",
            " inflated: horse2zebra/trainA/n02381460_697.jpg\n",
            " inflated: horse2zebra/trainA/n02381460_7876.jpg\n",
            " inflated: horse2zebra/trainA/n02381460_122.jpg\n",
            " inflated: horse2zebra/trainA/n02381460_3315.jpg\n",
            " inflated: horse2zebra/trainA/n02381460_3946.jpg\n",
            " inflated: horse2zebra/trainA/n02381460_1813.jpg\n",
            " inflated: horse2zebra/trainA/n02381460_1941.jpg\n",
            " inflated: horse2zebra/trainA/n02381460_242.jpg\n",
            " inflated: horse2zebra/trainA/n02381460_381.jpg\n",
            " inflated: horse2zebra/trainA/n02381460_6441.jpg\n",
            " inflated: horse2zebra/trainA/n02381460_4701.jpg\n",
            " inflated: horse2zebra/trainA/n02381460_4629.jpg\n",
            " inflated: horse2zebra/trainA/n02381460_5525.jpg\n",
            " inflated: horse2zebra/trainA/n02381460_2014.jpg\n",
            " inflated: horse2zebra/trainA/n02381460_3299.jpg\n",
            " inflated: horse2zebra/trainA/n02381460_1006.jpg\n",
            " inflated: horse2zebra/trainA/n02381460_2061.jpg\n",
            " inflated: horse2zebra/trainA/n02381460_7695.jpg\n",
            " inflated: horse2zebra/trainA/n02381460_1009.jpg\n",
            " inflated: horse2zebra/trainA/n02381460_2793.jpg\n",
            " inflated: horse2zebra/trainA/n02381460_1347.jpg\n",
            " inflated: horse2zebra/trainA/n02381460_2027.jpg\n",
            " inflated: horse2zebra/trainA/n02381460_591.jpg\n",
            " inflated: horse2zebra/trainA/n02381460_6964.jpg\n",
            " inflated: horse2zebra/trainA/n02381460_8769.jpg\n",
            " inflated: horse2zebra/trainA/n02381460_2449.jpg\n",
            " inflated: horse2zebra/trainA/n02381460_4467.jpg\n",
            " inflated: horse2zebra/trainA/n02381460_1227.jpg\n",
            " inflated: horse2zebra/trainA/n02381460_3424.jpg\n",
            " inflated: horse2zebra/trainA/n02381460_249.jpg\n",
            " inflated: horse2zebra/trainA/n02381460_274.jpg\n",
            " inflated: horse2zebra/trainA/n02381460_1288.jpg\n",
            " inflated: horse2zebra/trainA/n02381460_1506.jpg\n",
            " inflated: horse2zebra/trainA/n02381460_718.jpg\n",
            " inflated: horse2zebra/trainA/n02381460_2649.jpg\n",
            " inflated: horse2zebra/trainA/n02381460_5292.jpg\n",
            " inflated: horse2zebra/trainA/n02381460_4648.jpg\n",
            " inflated: horse2zebra/trainA/n02381460_3365.jpg\n",
            " inflated: horse2zebra/trainA/n02381460_4613.jpg\n",
            " inflated: horse2zebra/trainA/n02381460_5699.jpg\n",
            " inflated: horse2zebra/trainA/n02381460_1901.jpg\n",
            " inflated: horse2zebra/trainA/n02381460_1058.jpg\n",
            " inflated: horse2zebra/trainA/n02381460_3664.jpg\n",
            " inflated: horse2zebra/trainA/n02381460_2758.jpg\n",
            " inflated: horse2zebra/trainA/n02381460_3081.jpg\n",
            " inflated: horse2zebra/trainA/n02381460_5266.jpg\n",
            " inflated: horse2zebra/trainA/n02381460_903.jpg\n",
            " inflated: horse2zebra/trainA/n02381460_3417.jpg\n",
            " inflated: horse2zebra/trainA/n02381460_869.jpg\n",
            " inflated: horse2zebra/trainA/n02381460_6204.jpg\n",
            " inflated: horse2zebra/trainA/n02381460_518.jpg\n",
            " inflated: horse2zebra/trainA/n02381460_8725.jpg\n",
            " inflated: horse2zebra/trainA/n02381460_4645.jpg\n",
            " inflated: horse2zebra/trainA/n02381460_3115.jpg\n",
            " inflated: horse2zebra/trainA/n02381460_1751.jpg\n",
            " inflated: horse2zebra/trainA/n02381460_8241.jpg\n",
            " inflated: horse2zebra/trainA/n02381460_3619.jpg\n",
            " inflated: horse2zebra/trainA/n02381460_2425.jpg\n",
            " inflated: horse2zebra/trainA/n02381460_5241.jpg\n",
            " inflated: horse2zebra/trainA/n02381460_9127.jpg\n",
            " inflated: horse2zebra/trainA/n02381460_5869.jpg\n",
            " inflated: horse2zebra/trainA/n02381460_2484.jpg\n",
            " inflated: horse2zebra/trainA/n02381460_3192.jpg\n",
            " inflated: horse2zebra/trainA/n02381460_4372.jpg\n",
            " inflated: horse2zebra/trainA/n02381460_6294.jpg\n",
            " inflated: horse2zebra/trainA/n02381460_7456.jpg\n",
            " inflated: horse2zebra/trainA/n02381460_1439.jpg\n",
            " inflated: horse2zebra/trainA/n02381460_754.jpg\n",
            " inflated: horse2zebra/trainA/n02381460_4219.jpg\n",
            " inflated: horse2zebra/trainA/n02381460_4403.jpg\n",
            " inflated: horse2zebra/trainA/n02381460_4118.jpg\n",
            " inflated: horse2zebra/trainA/n02381460_4465.jpg\n",
            " inflated: horse2zebra/trainA/n02381460_69.jpg\n",
            " inflated: horse2zebra/trainA/n02381460_4674.jpg\n",
            " inflated: horse2zebra/trainA/n02381460_175.jpg\n",
            " inflated: horse2zebra/trainA/n02381460_6397.jpg\n",
            " inflated: horse2zebra/trainA/n02381460_386.jpg\n",
            " inflated: horse2zebra/trainA/n02381460_4491.jpg\n",
            " inflated: horse2zebra/trainA/n02381460_5036.jpg\n",
            " inflated: horse2zebra/trainA/n02381460_503.jpg\n",
            " inflated: horse2zebra/trainA/n02381460_8895.jpg\n",
            " inflated: horse2zebra/trainA/n02381460_1023.jpg\n",
            " inflated: horse2zebra/trainA/n02381460_8157.jpg\n",
            " inflated: horse2zebra/trainA/n02381460_4453.jpg\n",
            " inflated: horse2zebra/trainA/n02381460_1262.jpg\n",
            " inflated: horse2zebra/trainA/n02381460_2402.jpg\n",
            " inflated: horse2zebra/trainA/n02381460_2179.jpg\n",
            " inflated: horse2zebra/trainA/n02381460_1034.jpg\n",
            " inflated: horse2zebra/trainA/n02381460_4417.jpg\n",
            " inflated: horse2zebra/trainA/n02381460_911.jpg\n",
            " inflated: horse2zebra/trainA/n02381460_6556.jpg\n",
            " inflated: horse2zebra/trainA/n02381460_1038.jpg\n",
            " inflated: horse2zebra/trainA/n02381460_782.jpg\n",
            " inflated: horse2zebra/trainA/n02381460_1276.jpg\n",
            " inflated: horse2zebra/trainA/n02381460_3447.jpg\n",
            " inflated: horse2zebra/trainA/n02381460_6981.jpg\n",
            " inflated: horse2zebra/trainA/n02381460_525.jpg\n",
            " inflated: horse2zebra/trainA/n02381460_331.jpg\n",
            " inflated: horse2zebra/trainA/n02381460_1979.jpg\n",
            " inflated: horse2zebra/trainA/n02381460_3512.jpg\n",
            " inflated: horse2zebra/trainA/n02381460_5087.jpg\n",
            " inflated: horse2zebra/trainA/n02381460_1402.jpg\n",
            " inflated: horse2zebra/trainA/n02381460_2268.jpg\n",
            " inflated: horse2zebra/trainA/n02381460_1387.jpg\n",
            " inflated: horse2zebra/trainA/n02381460_2016.jpg\n",
            " inflated: horse2zebra/trainA/n02381460_1405.jpg\n",
            " inflated: horse2zebra/trainA/n02381460_2465.jpg\n",
            " inflated: horse2zebra/trainA/n02381460_476.jpg\n",
            " inflated: horse2zebra/trainA/n02381460_1246.jpg\n",
            " inflated: horse2zebra/trainA/n02381460_1003.jpg\n",
            " inflated: horse2zebra/trainA/n02381460_1484.jpg\n",
            " inflated: horse2zebra/trainA/n02381460_2741.jpg\n",
            " inflated: horse2zebra/trainA/n02381460_671.jpg\n",
            " inflated: horse2zebra/trainA/n02381460_1155.jpg\n",
            " inflated: horse2zebra/trainA/n02381460_811.jpg\n",
            " inflated: horse2zebra/trainA/n02381460_739.jpg\n",
            " inflated: horse2zebra/trainA/n02381460_2089.jpg\n",
            " inflated: horse2zebra/trainA/n02381460_422.jpg\n",
            " inflated: horse2zebra/trainA/n02381460_2706.jpg\n",
            " inflated: horse2zebra/trainA/n02381460_1048.jpg\n",
            " inflated: horse2zebra/trainA/n02381460_8714.jpg\n",
            " inflated: horse2zebra/trainA/n02381460_1132.jpg\n",
            " inflated: horse2zebra/trainA/n02381460_5502.jpg\n",
            " inflated: horse2zebra/trainA/n02381460_5607.jpg\n",
            " inflated: horse2zebra/trainA/n02381460_6873.jpg\n",
            " inflated: horse2zebra/trainA/n02381460_9052.jpg\n",
            " inflated: horse2zebra/trainA/n02381460_1216.jpg\n",
            " inflated: horse2zebra/trainA/n02381460_1665.jpg\n",
            " inflated: horse2zebra/trainA/n02381460_616.jpg\n",
            " inflated: horse2zebra/trainA/n02381460_3712.jpg\n",
            " inflated: horse2zebra/trainA/n02381460_9243.jpg\n",
            " inflated: horse2zebra/trainA/n02381460_2177.jpg\n",
            " inflated: horse2zebra/trainA/n02381460_4472.jpg\n",
            " inflated: horse2zebra/trainA/n02381460_4991.jpg\n",
            " inflated: horse2zebra/trainA/n02381460_1267.jpg\n",
            " inflated: horse2zebra/trainA/n02381460_3212.jpg\n",
            " inflated: horse2zebra/trainA/n02381460_1519.jpg\n",
            " inflated: horse2zebra/trainA/n02381460_2795.jpg\n",
            " inflated: horse2zebra/trainA/n02381460_1803.jpg\n",
            " inflated: horse2zebra/trainA/n02381460_222.jpg\n",
            " inflated: horse2zebra/trainA/n02381460_3358.jpg\n",
            " inflated: horse2zebra/trainA/n02381460_3113.jpg\n",
            " inflated: horse2zebra/trainA/n02381460_2627.jpg\n",
            " inflated: horse2zebra/trainA/n02381460_5696.jpg\n",
            " inflated: horse2zebra/trainA/n02381460_4473.jpg\n",
            " inflated: horse2zebra/trainA/n02381460_3018.jpg\n",
            " inflated: horse2zebra/trainA/n02381460_6476.jpg\n",
            " inflated: horse2zebra/trainA/n02381460_238.jpg\n",
            " inflated: horse2zebra/trainA/n02381460_627.jpg\n",
            " inflated: horse2zebra/trainA/n02381460_3283.jpg\n",
            " inflated: horse2zebra/trainA/n02381460_543.jpg\n",
            " inflated: horse2zebra/trainA/n02381460_1027.jpg\n",
            " inflated: horse2zebra/trainA/n02381460_4771.jpg\n",
            " inflated: horse2zebra/trainA/n02381460_3982.jpg\n",
            " inflated: horse2zebra/trainA/n02381460_6792.jpg\n",
            " inflated: horse2zebra/trainA/n02381460_4817.jpg\n",
            " inflated: horse2zebra/trainA/n02381460_4294.jpg\n",
            " inflated: horse2zebra/trainA/n02381460_2339.jpg\n",
            " inflated: horse2zebra/trainA/n02381460_6466.jpg\n",
            " inflated: horse2zebra/trainA/n02381460_2093.jpg\n",
            " inflated: horse2zebra/trainA/n02381460_1651.jpg\n",
            " inflated: horse2zebra/trainA/n02381460_5704.jpg\n",
            " inflated: horse2zebra/trainA/n02381460_7412.jpg\n",
            " inflated: horse2zebra/trainA/n02381460_2936.jpg\n",
            " inflated: horse2zebra/trainA/n02381460_4917.jpg\n",
            " inflated: horse2zebra/trainA/n02381460_2349.jpg\n",
            " inflated: horse2zebra/trainA/n02381460_3694.jpg\n",
            " inflated: horse2zebra/trainA/n02381460_36.jpg\n",
            " inflated: horse2zebra/trainA/n02381460_4779.jpg\n",
            " inflated: horse2zebra/trainA/n02381460_3942.jpg\n",
            " inflated: horse2zebra/trainA/n02381460_1856.jpg\n",
            " inflated: horse2zebra/trainA/n02381460_61.jpg\n",
            " inflated: horse2zebra/trainA/n02381460_1614.jpg\n",
            " inflated: horse2zebra/trainA/n02381460_6782.jpg\n",
            " inflated: horse2zebra/trainA/n02381460_3707.jpg\n",
            " inflated: horse2zebra/trainA/n02381460_541.jpg\n",
            " inflated: horse2zebra/trainA/n02381460_728.jpg\n",
            " inflated: horse2zebra/trainA/n02381460_4642.jpg\n",
            " inflated: horse2zebra/trainA/n02381460_4018.jpg\n",
            " inflated: horse2zebra/trainA/n02381460_9063.jpg\n",
            " inflated: horse2zebra/trainA/n02381460_2245.jpg\n",
            " inflated: horse2zebra/trainA/n02381460_2563.jpg\n",
            " inflated: horse2zebra/trainA/n02381460_7932.jpg\n",
            " inflated: horse2zebra/trainA/n02381460_454.jpg\n",
            " inflated: horse2zebra/trainA/n02381460_4551.jpg\n",
            " inflated: horse2zebra/trainA/n02381460_2643.jpg\n",
            " inflated: horse2zebra/trainA/n02381460_1084.jpg\n",
            " inflated: horse2zebra/trainA/n02381460_3911.jpg\n",
            " inflated: horse2zebra/trainA/n02381460_1596.jpg\n",
            " inflated: horse2zebra/trainA/n02381460_396.jpg\n",
            " inflated: horse2zebra/trainA/n02381460_5406.jpg\n",
            " inflated: horse2zebra/trainA/n02381460_8974.jpg\n",
            " inflated: horse2zebra/trainA/n02381460_1297.jpg\n",
            " inflated: horse2zebra/trainA/n02381460_4059.jpg\n",
            " inflated: horse2zebra/trainA/n02381460_4788.jpg\n",
            " inflated: horse2zebra/trainA/n02381460_8838.jpg\n",
            " inflated: horse2zebra/trainA/n02381460_2374.jpg\n",
            " inflated: horse2zebra/trainA/n02381460_7537.jpg\n",
            " inflated: horse2zebra/trainA/n02381460_4856.jpg\n",
            " inflated: horse2zebra/trainA/n02381460_5029.jpg\n",
            " inflated: horse2zebra/trainA/n02381460_4081.jpg\n",
            " inflated: horse2zebra/trainA/n02381460_3075.jpg\n",
            " inflated: horse2zebra/trainA/n02381460_411.jpg\n",
            " inflated: horse2zebra/trainA/n02381460_4008.jpg\n",
            " inflated: horse2zebra/trainA/n02381460_1579.jpg\n",
            " inflated: horse2zebra/trainA/n02381460_4815.jpg\n",
            " inflated: horse2zebra/trainA/n02381460_203.jpg\n",
            " inflated: horse2zebra/trainA/n02381460_3509.jpg\n",
            " inflated: horse2zebra/trainA/n02381460_631.jpg\n",
            " inflated: horse2zebra/trainA/n02381460_196.jpg\n",
            " inflated: horse2zebra/trainA/n02381460_7597.jpg\n",
            " inflated: horse2zebra/trainA/n02381460_1713.jpg\n",
            " inflated: horse2zebra/trainA/n02381460_2109.jpg\n",
            " inflated: horse2zebra/trainA/n02381460_2317.jpg\n",
            " inflated: horse2zebra/trainA/n02381460_2753.jpg\n",
            " inflated: horse2zebra/trainA/n02381460_4515.jpg\n",
            " inflated: horse2zebra/trainA/n02381460_3783.jpg\n",
            " inflated: horse2zebra/trainA/n02381460_1578.jpg\n",
            " inflated: horse2zebra/trainA/n02381460_1978.jpg\n",
            " inflated: horse2zebra/trainA/n02381460_2684.jpg\n",
            " inflated: horse2zebra/trainA/n02381460_1458.jpg\n",
            " inflated: horse2zebra/trainA/n02381460_967.jpg\n",
            " inflated: horse2zebra/trainA/n02381460_2139.jpg\n",
            " inflated: horse2zebra/trainA/n02381460_2019.jpg\n",
            " inflated: horse2zebra/trainA/n02381460_558.jpg\n",
            " inflated: horse2zebra/trainA/n02381460_3905.jpg\n",
            " inflated: horse2zebra/trainA/n02381460_1581.jpg\n",
            " inflated: horse2zebra/trainA/n02381460_2327.jpg\n",
            " inflated: horse2zebra/trainA/n02381460_1687.jpg\n",
            " inflated: horse2zebra/trainA/n02381460_6987.jpg\n",
            " inflated: horse2zebra/trainA/n02381460_2023.jpg\n",
            " inflated: horse2zebra/trainA/n02381460_2822.jpg\n",
            " inflated: horse2zebra/trainA/n02381460_5708.jpg\n",
            " inflated: horse2zebra/trainA/n02381460_3854.jpg\n",
            " inflated: horse2zebra/trainA/n02381460_2953.jpg\n",
            " inflated: horse2zebra/trainA/n02381460_1521.jpg\n",
            " inflated: horse2zebra/trainA/n02381460_5864.jpg\n",
            " inflated: horse2zebra/trainA/n02381460_1373.jpg\n",
            " inflated: horse2zebra/trainA/n02381460_7919.jpg\n",
            " inflated: horse2zebra/trainA/n02381460_477.jpg\n",
            " inflated: horse2zebra/trainA/n02381460_8006.jpg\n",
            " inflated: horse2zebra/trainA/n02381460_1045.jpg\n",
            " inflated: horse2zebra/trainA/n02381460_3107.jpg\n",
            " inflated: horse2zebra/trainA/n02381460_1852.jpg\n",
            " inflated: horse2zebra/trainA/n02381460_125.jpg\n",
            " inflated: horse2zebra/trainA/n02381460_4493.jpg\n",
            " inflated: horse2zebra/trainA/n02381460_235.jpg\n",
            " inflated: horse2zebra/trainA/n02381460_1507.jpg\n",
            " inflated: horse2zebra/trainA/n02381460_2419.jpg\n",
            " inflated: horse2zebra/trainA/n02381460_891.jpg\n",
            " inflated: horse2zebra/trainA/n02381460_521.jpg\n",
            " inflated: horse2zebra/trainA/n02381460_5526.jpg\n",
            " inflated: horse2zebra/trainA/n02381460_1721.jpg\n",
            " inflated: horse2zebra/trainA/n02381460_4999.jpg\n",
            " inflated: horse2zebra/trainA/n02381460_1758.jpg\n",
            " inflated: horse2zebra/trainA/n02381460_66.jpg\n",
            " inflated: horse2zebra/trainA/n02381460_2517.jpg\n",
            " inflated: horse2zebra/trainA/n02381460_1232.jpg\n",
            " inflated: horse2zebra/trainA/n02381460_2474.jpg\n",
            " inflated: horse2zebra/trainA/n02381460_2259.jpg\n",
            " inflated: horse2zebra/trainA/n02381460_2565.jpg\n",
            " inflated: horse2zebra/trainA/n02381460_4079.jpg\n",
            " inflated: horse2zebra/trainA/n02381460_391.jpg\n",
            " inflated: horse2zebra/trainA/n02381460_3363.jpg\n",
            " inflated: horse2zebra/trainA/n02381460_2192.jpg\n",
            " inflated: horse2zebra/trainA/n02381460_8437.jpg\n",
            " inflated: horse2zebra/trainA/n02381460_1426.jpg\n",
            " inflated: horse2zebra/trainA/n02381460_2468.jpg\n",
            " inflated: horse2zebra/trainA/n02381460_968.jpg\n",
            " inflated: horse2zebra/trainA/n02381460_4523.jpg\n",
            " inflated: horse2zebra/trainA/n02381460_5857.jpg\n",
            " inflated: horse2zebra/trainA/n02381460_3661.jpg\n",
            " inflated: horse2zebra/trainA/n02381460_5214.jpg\n",
            " inflated: horse2zebra/trainA/n02381460_4711.jpg\n",
            " inflated: horse2zebra/trainA/n02381460_4513.jpg\n",
            " inflated: horse2zebra/trainA/n02381460_4928.jpg\n",
            " inflated: horse2zebra/trainA/n02381460_7231.jpg\n",
            " inflated: horse2zebra/trainA/n02381460_4927.jpg\n",
            " inflated: horse2zebra/trainA/n02381460_5203.jpg\n",
            " inflated: horse2zebra/trainA/n02381460_8985.jpg\n",
            " inflated: horse2zebra/trainA/n02381460_5411.jpg\n",
            " inflated: horse2zebra/trainA/n02381460_2552.jpg\n",
            " inflated: horse2zebra/trainA/n02381460_4231.jpg\n",
            " inflated: horse2zebra/trainA/n02381460_6152.jpg\n",
            " inflated: horse2zebra/trainA/n02381460_2995.jpg\n",
            " inflated: horse2zebra/trainA/n02381460_8048.jpg\n",
            " inflated: horse2zebra/trainA/n02381460_1191.jpg\n",
            " inflated: horse2zebra/trainA/n02381460_2714.jpg\n",
            " inflated: horse2zebra/trainA/n02381460_1044.jpg\n",
            " inflated: horse2zebra/trainA/n02381460_4665.jpg\n",
            " inflated: horse2zebra/trainA/n02381460_4783.jpg\n",
            " inflated: horse2zebra/trainA/n02381460_703.jpg\n",
            " inflated: horse2zebra/trainA/n02381460_278.jpg\n",
            " inflated: horse2zebra/trainA/n02381460_2596.jpg\n",
            " inflated: horse2zebra/trainA/n02381460_7476.jpg\n",
            " inflated: horse2zebra/trainA/n02381460_7297.jpg\n",
            " inflated: horse2zebra/trainA/n02381460_4516.jpg\n",
            " inflated: horse2zebra/trainA/n02381460_5891.jpg\n",
            " inflated: horse2zebra/trainA/n02381460_7571.jpg\n",
            " inflated: horse2zebra/trainA/n02381460_6403.jpg\n",
            " inflated: horse2zebra/trainA/n02381460_1305.jpg\n",
            " inflated: horse2zebra/trainA/n02381460_1991.jpg\n",
            " inflated: horse2zebra/trainA/n02381460_1798.jpg\n",
            " inflated: horse2zebra/trainA/n02381460_595.jpg\n",
            " inflated: horse2zebra/trainA/n02381460_2083.jpg\n",
            " inflated: horse2zebra/trainA/n02381460_921.jpg\n",
            " inflated: horse2zebra/trainA/n02381460_2555.jpg\n",
            " inflated: horse2zebra/trainA/n02381460_858.jpg\n",
            " inflated: horse2zebra/trainA/n02381460_4625.jpg\n",
            " inflated: horse2zebra/trainA/n02381460_8277.jpg\n",
            " inflated: horse2zebra/trainA/n02381460_3366.jpg\n",
            " inflated: horse2zebra/trainA/n02381460_2695.jpg\n",
            " inflated: horse2zebra/trainA/n02381460_3265.jpg\n",
            " inflated: horse2zebra/trainA/n02381460_4053.jpg\n",
            " inflated: horse2zebra/trainA/n02381460_804.jpg\n",
            " inflated: horse2zebra/trainA/n02381460_4107.jpg\n",
            " inflated: horse2zebra/trainA/n02381460_1995.jpg\n",
            " inflated: horse2zebra/trainA/n02381460_3336.jpg\n",
            " inflated: horse2zebra/trainA/n02381460_2403.jpg\n",
            " inflated: horse2zebra/trainA/n02381460_424.jpg\n",
            " inflated: horse2zebra/trainA/n02381460_4726.jpg\n",
            " inflated: horse2zebra/trainA/n02381460_489.jpg\n",
            " inflated: horse2zebra/trainA/n02381460_2605.jpg\n",
            " inflated: horse2zebra/trainA/n02381460_1331.jpg\n",
            " inflated: horse2zebra/trainA/n02381460_4112.jpg\n",
            " inflated: horse2zebra/trainA/n02381460_7803.jpg\n",
            " inflated: horse2zebra/trainA/n02381460_2921.jpg\n",
            " inflated: horse2zebra/trainA/n02381460_584.jpg\n",
            " inflated: horse2zebra/trainA/n02381460_4402.jpg\n",
            " inflated: horse2zebra/trainA/n02381460_3557.jpg\n",
            " inflated: horse2zebra/trainA/n02381460_4946.jpg\n",
            " inflated: horse2zebra/trainA/n02381460_2615.jpg\n",
            " inflated: horse2zebra/trainA/n02381460_117.jpg\n",
            " inflated: horse2zebra/trainA/n02381460_3685.jpg\n",
            " inflated: horse2zebra/trainA/n02381460_854.jpg\n",
            " inflated: horse2zebra/trainA/n02381460_6388.jpg\n",
            " inflated: horse2zebra/trainA/n02381460_2883.jpg\n",
            " inflated: horse2zebra/trainA/n02381460_1583.jpg\n",
            " inflated: horse2zebra/trainA/n02381460_803.jpg\n",
            " inflated: horse2zebra/trainA/n02381460_1973.jpg\n",
            " inflated: horse2zebra/trainA/n02381460_1525.jpg\n",
            " inflated: horse2zebra/trainA/n02381460_5045.jpg\n",
            " inflated: horse2zebra/trainA/n02381460_4608.jpg\n",
            " inflated: horse2zebra/trainA/n02381460_1703.jpg\n",
            " inflated: horse2zebra/trainA/n02381460_1266.jpg\n",
            " inflated: horse2zebra/trainA/n02381460_3746.jpg\n",
            " inflated: horse2zebra/trainA/n02381460_971.jpg\n",
            " inflated: horse2zebra/trainA/n02381460_4125.jpg\n",
            " inflated: horse2zebra/trainA/n02381460_7493.jpg\n",
            " inflated: horse2zebra/trainA/n02381460_4538.jpg\n",
            " inflated: horse2zebra/trainA/n02381460_8088.jpg\n",
            " inflated: horse2zebra/trainA/n02381460_6978.jpg\n",
            " inflated: horse2zebra/trainA/n02381460_2217.jpg\n",
            " inflated: horse2zebra/trainA/n02381460_1736.jpg\n",
            " inflated: horse2zebra/trainA/n02381460_394.jpg\n",
            " inflated: horse2zebra/trainA/n02381460_757.jpg\n",
            " inflated: horse2zebra/trainA/n02381460_7348.jpg\n",
            " inflated: horse2zebra/trainA/n02381460_935.jpg\n",
            " inflated: horse2zebra/trainA/n02381460_1711.jpg\n",
            " inflated: horse2zebra/trainA/n02381460_881.jpg\n",
            " inflated: horse2zebra/trainA/n02381460_4371.jpg\n",
            " inflated: horse2zebra/trainA/n02381460_4593.jpg\n",
            " inflated: horse2zebra/trainA/n02381460_4153.jpg\n",
            " inflated: horse2zebra/trainA/n02381460_4536.jpg\n",
            " inflated: horse2zebra/trainA/n02381460_4785.jpg\n",
            " inflated: horse2zebra/trainA/n02381460_4401.jpg\n",
            " inflated: horse2zebra/trainA/n02381460_3065.jpg\n",
            " inflated: horse2zebra/trainA/n02381460_4528.jpg\n",
            " inflated: horse2zebra/trainA/n02381460_933.jpg\n",
            " inflated: horse2zebra/trainA/n02381460_3346.jpg\n",
            " inflated: horse2zebra/trainA/n02381460_5355.jpg\n",
            " inflated: horse2zebra/trainA/n02381460_4965.jpg\n",
            " inflated: horse2zebra/trainA/n02381460_6975.jpg\n",
            " inflated: horse2zebra/trainA/n02381460_8013.jpg\n",
            " inflated: horse2zebra/trainA/n02381460_3383.jpg\n",
            " inflated: horse2zebra/trainA/n02381460_2796.jpg\n",
            " inflated: horse2zebra/trainA/n02381460_3546.jpg\n",
            " inflated: horse2zebra/trainA/n02381460_437.jpg\n",
            " inflated: horse2zebra/trainA/n02381460_4239.jpg\n",
            " inflated: horse2zebra/trainA/n02381460_4009.jpg\n",
            " inflated: horse2zebra/trainA/n02381460_755.jpg\n",
            " inflated: horse2zebra/trainA/n02381460_5265.jpg\n",
            " inflated: horse2zebra/trainA/n02381460_4476.jpg\n",
            " inflated: horse2zebra/trainA/n02381460_5729.jpg\n",
            " inflated: horse2zebra/trainA/n02381460_8435.jpg\n",
            " inflated: horse2zebra/trainA/n02381460_4117.jpg\n",
            " inflated: horse2zebra/trainA/n02381460_1249.jpg\n",
            " inflated: horse2zebra/trainA/n02381460_1063.jpg\n",
            " inflated: horse2zebra/trainA/n02381460_1916.jpg\n",
            " inflated: horse2zebra/trainA/n02381460_8179.jpg\n",
            " inflated: horse2zebra/trainA/n02381460_1144.jpg\n",
            " inflated: horse2zebra/trainA/n02381460_6876.jpg\n",
            " inflated: horse2zebra/trainA/n02381460_6277.jpg\n",
            " inflated: horse2zebra/trainA/n02381460_2632.jpg\n",
            " inflated: horse2zebra/trainA/n02381460_788.jpg\n",
            " inflated: horse2zebra/trainA/n02381460_3329.jpg\n",
            " inflated: horse2zebra/trainA/n02381460_223.jpg\n",
            " inflated: horse2zebra/trainA/n02381460_2799.jpg\n",
            " inflated: horse2zebra/trainA/n02381460_2528.jpg\n",
            " inflated: horse2zebra/trainA/n02381460_4624.jpg\n",
            " inflated: horse2zebra/trainA/n02381460_2499.jpg\n",
            " inflated: horse2zebra/trainA/n02381460_1526.jpg\n",
            " inflated: horse2zebra/trainA/n02381460_1307.jpg\n",
            " inflated: horse2zebra/trainA/n02381460_7942.jpg\n",
            " inflated: horse2zebra/trainA/n02381460_5489.jpg\n",
            " inflated: horse2zebra/trainA/n02381460_1865.jpg\n",
            " inflated: horse2zebra/trainA/n02381460_1648.jpg\n",
            " inflated: horse2zebra/trainA/n02381460_1592.jpg\n",
            " inflated: horse2zebra/trainA/n02381460_2282.jpg\n",
            " inflated: horse2zebra/trainA/n02381460_135.jpg\n",
            " inflated: horse2zebra/trainA/n02381460_4251.jpg\n",
            " inflated: horse2zebra/trainA/n02381460_2149.jpg\n",
            " inflated: horse2zebra/trainA/n02381460_1258.jpg\n",
            " inflated: horse2zebra/trainA/n02381460_1872.jpg\n",
            " inflated: horse2zebra/trainA/n02381460_1486.jpg\n",
            " inflated: horse2zebra/trainA/n02381460_1612.jpg\n",
            " inflated: horse2zebra/trainA/n02381460_1108.jpg\n",
            " inflated: horse2zebra/trainA/n02381460_7845.jpg\n",
            " inflated: horse2zebra/trainA/n02381460_2305.jpg\n",
            " inflated: horse2zebra/trainA/n02381460_3394.jpg\n",
            " inflated: horse2zebra/trainA/n02381460_4585.jpg\n",
            " inflated: horse2zebra/trainA/n02381460_3924.jpg\n",
            " inflated: horse2zebra/trainA/n02381460_1904.jpg\n",
            " inflated: horse2zebra/trainA/n02381460_7548.jpg\n",
            " inflated: horse2zebra/trainA/n02381460_3149.jpg\n",
            " inflated: horse2zebra/trainA/n02381460_5551.jpg\n",
            " inflated: horse2zebra/trainA/n02381460_4638.jpg\n",
            " inflated: horse2zebra/trainA/n02381460_5892.jpg\n",
            " inflated: horse2zebra/trainA/n02381460_1621.jpg\n",
            " inflated: horse2zebra/trainA/n02381460_3228.jpg\n",
            " inflated: horse2zebra/trainA/n02381460_3551.jpg\n",
            " inflated: horse2zebra/trainA/n02381460_4637.jpg\n",
            " inflated: horse2zebra/trainA/n02381460_6268.jpg\n",
            " inflated: horse2zebra/trainA/n02381460_7126.jpg\n",
            " inflated: horse2zebra/trainA/n02381460_1734.jpg\n",
            " inflated: horse2zebra/trainA/n02381460_825.jpg\n",
            " inflated: horse2zebra/trainA/n02381460_6721.jpg\n",
            " inflated: horse2zebra/trainA/n02381460_1068.jpg\n",
            " inflated: horse2zebra/trainA/n02381460_1391.jpg\n",
            " inflated: horse2zebra/trainA/n02381460_4086.jpg\n",
            " inflated: horse2zebra/trainA/n02381460_7806.jpg\n",
            " inflated: horse2zebra/trainA/n02381460_4967.jpg\n",
            " inflated: horse2zebra/trainA/n02381460_2226.jpg\n",
            " inflated: horse2zebra/trainA/n02381460_3398.jpg\n",
            " inflated: horse2zebra/trainA/n02381460_2811.jpg\n",
            " inflated: horse2zebra/trainA/n02381460_3811.jpg\n",
            " inflated: horse2zebra/trainA/n02381460_306.jpg\n",
            " inflated: horse2zebra/trainA/n02381460_4501.jpg\n",
            " inflated: horse2zebra/trainA/n02381460_177.jpg\n",
            " inflated: horse2zebra/trainA/n02381460_1127.jpg\n",
            " inflated: horse2zebra/trainA/n02381460_7528.jpg\n",
            " inflated: horse2zebra/trainA/n02381460_1835.jpg\n",
            " inflated: horse2zebra/trainA/n02381460_3702.jpg\n",
            " inflated: horse2zebra/trainA/n02381460_2598.jpg\n",
            " inflated: horse2zebra/trainA/n02381460_4661.jpg\n",
            " inflated: horse2zebra/trainA/n02381460_2575.jpg\n",
            " inflated: horse2zebra/trainA/n02381460_8877.jpg\n",
            " inflated: horse2zebra/trainA/n02381460_767.jpg\n",
            " inflated: horse2zebra/trainA/n02381460_1537.jpg\n",
            " inflated: horse2zebra/trainA/n02381460_4385.jpg\n",
            " inflated: horse2zebra/trainA/n02381460_2581.jpg\n",
            " inflated: horse2zebra/trainA/n02381460_7858.jpg\n",
            " inflated: horse2zebra/trainA/n02381460_3875.jpg\n",
            " inflated: horse2zebra/trainA/n02381460_1635.jpg\n",
            " inflated: horse2zebra/trainA/n02381460_1292.jpg\n",
            " inflated: horse2zebra/trainA/n02381460_1743.jpg\n",
            " inflated: horse2zebra/trainA/n02381460_1388.jpg\n",
            " inflated: horse2zebra/trainA/n02381460_7651.jpg\n",
            " inflated: horse2zebra/trainA/n02381460_153.jpg\n",
            " inflated: horse2zebra/trainA/n02381460_897.jpg\n",
            " inflated: horse2zebra/trainA/n02381460_506.jpg\n",
            " inflated: horse2zebra/trainA/n02381460_4494.jpg\n",
            " inflated: horse2zebra/trainA/n02381460_2433.jpg\n",
            " inflated: horse2zebra/trainA/n02381460_707.jpg\n",
            " inflated: horse2zebra/trainA/n02381460_4094.jpg\n",
            " inflated: horse2zebra/trainA/n02381460_6946.jpg\n",
            " inflated: horse2zebra/trainA/n02381460_565.jpg\n",
            " inflated: horse2zebra/trainA/n02381460_3995.jpg\n",
            " inflated: horse2zebra/trainA/n02381460_384.jpg\n",
            " inflated: horse2zebra/trainA/n02381460_2525.jpg\n",
            " inflated: horse2zebra/trainA/n02381460_624.jpg\n",
            " inflated: horse2zebra/trainA/n02381460_1915.jpg\n",
            " inflated: horse2zebra/trainA/n02381460_5167.jpg\n",
            " inflated: horse2zebra/trainA/n02381460_4263.jpg\n",
            " inflated: horse2zebra/trainA/n02381460_4305.jpg\n",
            " inflated: horse2zebra/trainA/n02381460_3656.jpg\n",
            " inflated: horse2zebra/trainA/n02381460_7756.jpg\n",
            " inflated: horse2zebra/trainA/n02381460_1847.jpg\n",
            " inflated: horse2zebra/trainA/n02381460_743.jpg\n",
            " inflated: horse2zebra/trainA/n02381460_1602.jpg\n",
            " inflated: horse2zebra/trainA/n02381460_2754.jpg\n",
            " inflated: horse2zebra/trainA/n02381460_3829.jpg\n",
            " inflated: horse2zebra/trainA/n02381460_1423.jpg\n",
            " inflated: horse2zebra/trainA/n02381460_2294.jpg\n",
            " inflated: horse2zebra/trainA/n02381460_195.jpg\n",
            " inflated: horse2zebra/trainA/n02381460_4146.jpg\n",
            " inflated: horse2zebra/trainA/n02381460_182.jpg\n",
            " inflated: horse2zebra/trainA/n02381460_2289.jpg\n",
            " inflated: horse2zebra/trainA/n02381460_4731.jpg\n",
            " inflated: horse2zebra/trainA/n02381460_2594.jpg\n",
            " inflated: horse2zebra/trainA/n02381460_6411.jpg\n",
            " inflated: horse2zebra/trainA/n02381460_6836.jpg\n",
            " inflated: horse2zebra/trainA/n02381460_4168.jpg\n",
            " inflated: horse2zebra/trainA/n02381460_358.jpg\n",
            " inflated: horse2zebra/trainA/n02381460_4606.jpg\n",
            " inflated: horse2zebra/trainA/n02381460_3051.jpg\n",
            " inflated: horse2zebra/trainA/n02381460_8507.jpg\n",
            " inflated: horse2zebra/trainA/n02381460_3211.jpg\n",
            " inflated: horse2zebra/trainA/n02381460_902.jpg\n",
            " inflated: horse2zebra/trainA/n02381460_3997.jpg\n",
            " inflated: horse2zebra/trainA/n02381460_4338.jpg\n",
            " inflated: horse2zebra/trainA/n02381460_323.jpg\n",
            " inflated: horse2zebra/trainA/n02381460_8389.jpg\n",
            " inflated: horse2zebra/trainA/n02381460_1283.jpg\n",
            " inflated: horse2zebra/trainA/n02381460_8575.jpg\n",
            " inflated: horse2zebra/trainA/n02381460_1348.jpg\n",
            " inflated: horse2zebra/trainA/n02381460_1106.jpg\n",
            " inflated: horse2zebra/trainA/n02381460_1645.jpg\n",
            " inflated: horse2zebra/trainA/n02381460_3566.jpg\n",
            " inflated: horse2zebra/trainA/n02381460_7779.jpg\n",
            " inflated: horse2zebra/trainA/n02381460_1384.jpg\n",
            " inflated: horse2zebra/trainA/n02381460_393.jpg\n",
            " inflated: horse2zebra/trainA/n02381460_1981.jpg\n",
            " inflated: horse2zebra/trainA/n02381460_2269.jpg\n",
            " inflated: horse2zebra/trainA/n02381460_879.jpg\n",
            " inflated: horse2zebra/trainA/n02381460_6822.jpg\n",
            " inflated: horse2zebra/trainA/n02381460_1498.jpg\n",
            " inflated: horse2zebra/trainA/n02381460_3732.jpg\n",
            " inflated: horse2zebra/trainA/n02381460_419.jpg\n",
            " inflated: horse2zebra/trainA/n02381460_7622.jpg\n",
            " inflated: horse2zebra/trainA/n02381460_7178.jpg\n",
            " inflated: horse2zebra/trainA/n02381460_8586.jpg\n",
            " inflated: horse2zebra/trainA/n02381460_6761.jpg\n",
            " inflated: horse2zebra/trainA/n02381460_588.jpg\n",
            " inflated: horse2zebra/trainA/n02381460_1909.jpg\n",
            " inflated: horse2zebra/trainA/n02381460_1957.jpg\n",
            " inflated: horse2zebra/trainA/n02381460_2056.jpg\n",
            " inflated: horse2zebra/trainA/n02381460_1074.jpg\n",
            " inflated: horse2zebra/trainA/n02381460_1418.jpg\n",
            " inflated: horse2zebra/trainA/n02381460_451.jpg\n",
            " inflated: horse2zebra/trainA/n02381460_7692.jpg\n",
            " inflated: horse2zebra/trainA/n02381460_6297.jpg\n",
            " inflated: horse2zebra/trainA/n02381460_764.jpg\n",
            " inflated: horse2zebra/trainA/n02381460_1722.jpg\n",
            " inflated: horse2zebra/trainA/n02381460_6335.jpg\n",
            " inflated: horse2zebra/trainA/n02381460_3229.jpg\n",
            " inflated: horse2zebra/trainA/n02381460_1834.jpg\n",
            " inflated: horse2zebra/trainA/n02381460_2703.jpg\n",
            " inflated: horse2zebra/trainA/n02381460_3861.jpg\n",
            " inflated: horse2zebra/trainA/n02381460_314.jpg\n",
            " inflated: horse2zebra/trainA/n02381460_3108.jpg\n",
            " inflated: horse2zebra/trainA/n02381460_3563.jpg\n",
            " inflated: horse2zebra/trainA/n02381460_2411.jpg\n",
            " inflated: horse2zebra/trainA/n02381460_2366.jpg\n",
            " inflated: horse2zebra/trainA/n02381460_5537.jpg\n",
            " inflated: horse2zebra/trainA/n02381460_1763.jpg\n",
            " inflated: horse2zebra/trainA/n02381460_1959.jpg\n",
            " inflated: horse2zebra/trainA/n02381460_1389.jpg\n",
            " inflated: horse2zebra/trainA/n02381460_1134.jpg\n",
            " inflated: horse2zebra/trainA/n02381460_8104.jpg\n",
            " inflated: horse2zebra/trainA/n02381460_4804.jpg\n",
            " inflated: horse2zebra/trainA/n02381460_1509.jpg\n",
            " inflated: horse2zebra/trainA/n02381460_2421.jpg\n",
            " inflated: horse2zebra/trainA/n02381460_3371.jpg\n",
            " inflated: horse2zebra/trainA/n02381460_2141.jpg\n",
            " inflated: horse2zebra/trainA/n02381460_1696.jpg\n",
            " inflated: horse2zebra/trainA/n02381460_1014.jpg\n",
            " inflated: horse2zebra/trainA/n02381460_1338.jpg\n",
            " inflated: horse2zebra/trainA/n02381460_3182.jpg\n",
            " inflated: horse2zebra/trainA/n02381460_1727.jpg\n",
            " inflated: horse2zebra/trainA/n02381460_3556.jpg\n",
            " inflated: horse2zebra/trainA/n02381460_1052.jpg\n",
            " inflated: horse2zebra/trainA/n02381460_8659.jpg\n",
            " inflated: horse2zebra/trainA/n02381460_834.jpg\n",
            " inflated: horse2zebra/trainA/n02381460_1336.jpg\n",
            " inflated: horse2zebra/trainA/n02381460_1524.jpg\n",
            " inflated: horse2zebra/trainA/n02381460_8704.jpg\n",
            " inflated: horse2zebra/trainA/n02381460_7613.jpg\n",
            " inflated: horse2zebra/trainA/n02381460_1008.jpg\n",
            " inflated: horse2zebra/trainA/n02381460_5782.jpg\n",
            " inflated: horse2zebra/trainA/n02381460_8765.jpg\n",
            " inflated: horse2zebra/trainA/n02381460_559.jpg\n",
            " inflated: horse2zebra/trainA/n02381460_5674.jpg\n",
            " inflated: horse2zebra/trainA/n02381460_941.jpg\n",
            " inflated: horse2zebra/trainA/n02381460_5156.jpg\n",
            " inflated: horse2zebra/trainA/n02381460_7165.jpg\n",
            " inflated: horse2zebra/trainA/n02381460_3956.jpg\n",
            " inflated: horse2zebra/trainA/n02381460_3348.jpg\n",
            " inflated: horse2zebra/trainA/n02381460_421.jpg\n",
            " inflated: horse2zebra/trainA/n02381460_4482.jpg\n",
            " inflated: horse2zebra/trainA/n02381460_4497.jpg\n",
            " inflated: horse2zebra/trainA/n02381460_2276.jpg\n",
            " inflated: horse2zebra/trainA/n02381460_4395.jpg\n",
            " inflated: horse2zebra/trainA/n02381460_2261.jpg\n",
            " inflated: horse2zebra/trainA/n02381460_1683.jpg\n",
            " inflated: horse2zebra/trainA/n02381460_3286.jpg\n",
            " inflated: horse2zebra/trainA/n02381460_2783.jpg\n",
            " inflated: horse2zebra/trainA/n02381460_285.jpg\n",
            " inflated: horse2zebra/trainA/n02381460_9095.jpg\n",
            " inflated: horse2zebra/trainA/n02381460_8515.jpg\n",
            " inflated: horse2zebra/trainA/n02381460_7959.jpg\n",
            " inflated: horse2zebra/trainA/n02381460_2116.jpg\n",
            " inflated: horse2zebra/trainA/n02381460_9263.jpg\n",
            " inflated: horse2zebra/trainA/n02381460_776.jpg\n",
            " inflated: horse2zebra/trainA/n02381460_2488.jpg\n",
            " inflated: horse2zebra/trainA/n02381460_3989.jpg\n",
            " inflated: horse2zebra/trainA/n02381460_777.jpg\n",
            " inflated: horse2zebra/trainA/n02381460_2872.jpg\n",
            " inflated: horse2zebra/trainA/n02381460_5519.jpg\n",
            " inflated: horse2zebra/trainA/n02381460_3577.jpg\n",
            " inflated: horse2zebra/trainA/n02381460_1533.jpg\n",
            " inflated: horse2zebra/trainA/n02381460_5396.jpg\n",
            " inflated: horse2zebra/trainA/n02381460_2414.jpg\n",
            " inflated: horse2zebra/trainA/n02381460_5915.jpg\n",
            " inflated: horse2zebra/trainA/n02381460_6373.jpg\n",
            " inflated: horse2zebra/trainA/n02381460_2635.jpg\n",
            " inflated: horse2zebra/trainA/n02381460_598.jpg\n",
            " inflated: horse2zebra/trainA/n02381460_1637.jpg\n",
            " inflated: horse2zebra/trainA/n02381460_1855.jpg\n",
            " inflated: horse2zebra/trainA/n02381460_2275.jpg\n",
            " inflated: horse2zebra/trainA/n02381460_4397.jpg\n",
            " inflated: horse2zebra/trainA/n02381460_676.jpg\n",
            " inflated: horse2zebra/trainA/n02381460_4542.jpg\n",
            " inflated: horse2zebra/trainA/n02381460_2834.jpg\n",
            " inflated: horse2zebra/trainA/n02381460_2509.jpg\n",
            " inflated: horse2zebra/trainA/n02381460_1905.jpg\n",
            " inflated: horse2zebra/trainA/n02381460_4521.jpg\n",
            " inflated: horse2zebra/trainA/n02381460_2835.jpg\n",
            " inflated: horse2zebra/trainA/n02381460_1083.jpg\n",
            " inflated: horse2zebra/trainA/n02381460_4809.jpg\n",
            " inflated: horse2zebra/trainA/n02381460_1158.jpg\n",
            " inflated: horse2zebra/trainA/n02381460_2091.jpg\n",
            " inflated: horse2zebra/trainA/n02381460_461.jpg\n",
            " inflated: horse2zebra/trainA/n02381460_3965.jpg\n",
            " inflated: horse2zebra/trainA/n02381460_4055.jpg\n",
            " inflated: horse2zebra/trainA/n02381460_3659.jpg\n",
            " inflated: horse2zebra/trainA/n02381460_4151.jpg\n",
            " inflated: horse2zebra/trainA/n02381460_7634.jpg\n",
            " inflated: horse2zebra/trainA/n02381460_1002.jpg\n",
            " inflated: horse2zebra/trainA/n02381460_3091.jpg\n",
            " inflated: horse2zebra/trainA/n02381460_4446.jpg\n",
            " inflated: horse2zebra/trainA/n02381460_2685.jpg\n",
            " inflated: horse2zebra/trainA/n02381460_1184.jpg\n",
            " inflated: horse2zebra/trainA/n02381460_3928.jpg\n",
            " inflated: horse2zebra/trainA/n02381460_5819.jpg\n",
            " inflated: horse2zebra/trainA/n02381460_8862.jpg\n",
            " inflated: horse2zebra/trainA/n02381460_1101.jpg\n",
            " inflated: horse2zebra/trainA/n02381460_2548.jpg\n",
            " inflated: horse2zebra/trainA/n02381460_3611.jpg\n",
            " inflated: horse2zebra/trainA/n02381460_6258.jpg\n",
            " inflated: horse2zebra/trainA/n02381460_3469.jpg\n",
            " inflated: horse2zebra/trainA/n02381460_2045.jpg\n",
            " inflated: horse2zebra/trainA/n02381460_4668.jpg\n",
            " inflated: horse2zebra/trainA/n02381460_1028.jpg\n",
            " inflated: horse2zebra/trainA/n02381460_102.jpg\n",
            " inflated: horse2zebra/trainA/n02381460_1816.jpg\n",
            " inflated: horse2zebra/trainA/n02381460_567.jpg\n",
            " inflated: horse2zebra/trainA/n02381460_3838.jpg\n",
            " inflated: horse2zebra/trainA/n02381460_654.jpg\n",
            " inflated: horse2zebra/trainA/n02381460_4456.jpg\n",
            " inflated: horse2zebra/trainA/n02381460_474.jpg\n",
            " inflated: horse2zebra/trainA/n02381460_1921.jpg\n",
            " inflated: horse2zebra/trainA/n02381460_1011.jpg\n",
            " inflated: horse2zebra/trainA/n02381460_1159.jpg\n",
            " inflated: horse2zebra/trainA/n02381460_6995.jpg\n",
            " inflated: horse2zebra/trainA/n02381460_545.jpg\n",
            " inflated: horse2zebra/trainA/n02381460_2503.jpg\n",
            " inflated: horse2zebra/trainA/n02381460_398.jpg\n",
            " inflated: horse2zebra/trainA/n02381460_1493.jpg\n",
            " inflated: horse2zebra/trainA/n02381460_2968.jpg\n",
            " inflated: horse2zebra/trainA/n02381460_395.jpg\n",
            " inflated: horse2zebra/trainA/n02381460_4407.jpg\n",
            " inflated: horse2zebra/trainA/n02381460_4916.jpg\n",
            " inflated: horse2zebra/trainA/n02381460_5374.jpg\n",
            " inflated: horse2zebra/trainA/n02381460_178.jpg\n",
            " inflated: horse2zebra/trainA/n02381460_742.jpg\n",
            " inflated: horse2zebra/trainA/n02381460_4657.jpg\n",
            " inflated: horse2zebra/trainA/n02381460_311.jpg\n",
            " inflated: horse2zebra/trainA/n02381460_4743.jpg\n",
            " inflated: horse2zebra/trainA/n02381460_5386.jpg\n",
            " inflated: horse2zebra/trainA/n02381460_4412.jpg\n",
            " inflated: horse2zebra/trainA/n02381460_4751.jpg\n",
            " inflated: horse2zebra/trainA/n02381460_452.jpg\n",
            " inflated: horse2zebra/trainA/n02381460_211.jpg\n",
            " inflated: horse2zebra/trainA/n02381460_3526.jpg\n",
            " inflated: horse2zebra/trainA/n02381460_9184.jpg\n",
            " inflated: horse2zebra/trainA/n02381460_1182.jpg\n",
            " inflated: horse2zebra/trainA/n02381460_128.jpg\n",
            " inflated: horse2zebra/trainA/n02381460_1674.jpg\n",
            " inflated: horse2zebra/trainA/n02381460_4572.jpg\n",
            " inflated: horse2zebra/trainA/n02381460_2699.jpg\n",
            " inflated: horse2zebra/trainA/n02381460_3309.jpg\n",
            " inflated: horse2zebra/trainA/n02381460_4415.jpg\n",
            " inflated: horse2zebra/trainA/n02381460_5878.jpg\n",
            " inflated: horse2zebra/trainA/n02381460_901.jpg\n",
            " inflated: horse2zebra/trainA/n02381460_4169.jpg\n",
            " inflated: horse2zebra/trainA/n02381460_4123.jpg\n",
            " inflated: horse2zebra/trainA/n02381460_1557.jpg\n",
            " inflated: horse2zebra/trainA/n02381460_2878.jpg\n",
            " inflated: horse2zebra/trainA/n02381460_5075.jpg\n",
            " inflated: horse2zebra/trainA/n02381460_4103.jpg\n",
            " inflated: horse2zebra/trainA/n02381460_5601.jpg\n",
            " inflated: horse2zebra/trainA/n02381460_4632.jpg\n",
            " inflated: horse2zebra/trainA/n02381460_1098.jpg\n",
            " inflated: horse2zebra/trainA/n02381460_7888.jpg\n",
            " inflated: horse2zebra/trainA/n02381460_6252.jpg\n",
            " inflated: horse2zebra/trainA/n02381460_58.jpg\n",
            " inflated: horse2zebra/trainA/n02381460_8153.jpg\n",
            " inflated: horse2zebra/trainA/n02381460_24.jpg\n",
            " inflated: horse2zebra/trainA/n02381460_4598.jpg\n",
            " inflated: horse2zebra/trainA/n02381460_4597.jpg\n",
            " inflated: horse2zebra/trainA/n02381460_7398.jpg\n",
            " inflated: horse2zebra/trainA/n02381460_3935.jpg\n",
            " inflated: horse2zebra/trainA/n02381460_1708.jpg\n",
            " inflated: horse2zebra/trainA/n02381460_3466.jpg\n",
            " inflated: horse2zebra/trainA/n02381460_747.jpg\n",
            " inflated: horse2zebra/trainA/n02381460_4833.jpg\n",
            " inflated: horse2zebra/trainA/n02381460_1247.jpg\n",
            " inflated: horse2zebra/trainA/n02381460_1563.jpg\n",
            " inflated: horse2zebra/trainA/n02381460_6941.jpg\n",
            " inflated: horse2zebra/trainA/n02381460_594.jpg\n",
            " inflated: horse2zebra/trainA/n02381460_601.jpg\n",
            " inflated: horse2zebra/trainA/n02381460_1147.jpg\n",
            " inflated: horse2zebra/trainA/n02381460_726.jpg\n",
            " inflated: horse2zebra/trainA/n02381460_2444.jpg\n",
            " inflated: horse2zebra/trainA/n02381460_3857.jpg\n",
            " inflated: horse2zebra/trainA/n02381460_1801.jpg\n",
            " inflated: horse2zebra/trainA/n02381460_8626.jpg\n",
            " inflated: horse2zebra/trainA/n02381460_3638.jpg\n",
            " inflated: horse2zebra/trainA/n02381460_1354.jpg\n",
            " inflated: horse2zebra/trainA/n02381460_849.jpg\n",
            " inflated: horse2zebra/trainA/n02381460_3442.jpg\n",
            " inflated: horse2zebra/trainA/n02381460_4781.jpg\n",
            " inflated: horse2zebra/trainA/n02381460_1051.jpg\n",
            " inflated: horse2zebra/trainA/n02381460_4136.jpg\n",
            " inflated: horse2zebra/trainA/n02381460_8989.jpg\n",
            " inflated: horse2zebra/trainA/n02381460_9223.jpg\n",
            " inflated: horse2zebra/trainA/n02381460_3903.jpg\n",
            " inflated: horse2zebra/trainA/n02381460_4331.jpg\n",
            " inflated: horse2zebra/trainA/n02381460_4975.jpg\n",
            " inflated: horse2zebra/trainA/n02381460_1774.jpg\n",
            " inflated: horse2zebra/trainA/n02381460_691.jpg\n",
            " inflated: horse2zebra/trainA/n02381460_3842.jpg\n",
            " inflated: horse2zebra/trainA/n02381460_2708.jpg\n",
            " inflated: horse2zebra/trainA/n02381460_4159.jpg\n",
            " inflated: horse2zebra/trainA/n02381460_4195.jpg\n",
            " inflated: horse2zebra/trainA/n02381460_6511.jpg\n",
            " inflated: horse2zebra/trainA/n02381460_2788.jpg\n",
            " inflated: horse2zebra/trainA/n02381460_4483.jpg\n",
            " inflated: horse2zebra/trainA/n02381460_1427.jpg\n",
            " inflated: horse2zebra/trainA/n02381460_202.jpg\n",
            " inflated: horse2zebra/trainA/n02381460_553.jpg\n",
            " inflated: horse2zebra/trainA/n02381460_5135.jpg\n",
            " inflated: horse2zebra/trainA/n02381460_2306.jpg\n",
            " inflated: horse2zebra/trainA/n02381460_2806.jpg\n",
            " inflated: horse2zebra/trainA/n02381460_4096.jpg\n",
            " inflated: horse2zebra/trainA/n02381460_1992.jpg\n",
            " inflated: horse2zebra/trainA/n02381460_4228.jpg\n",
            " inflated: horse2zebra/trainA/n02381460_1672.jpg\n",
            " inflated: horse2zebra/trainA/n02381460_7754.jpg\n",
            " inflated: horse2zebra/trainA/n02381460_4602.jpg\n",
            " inflated: horse2zebra/trainA/n02381460_7305.jpg\n",
            " inflated: horse2zebra/trainA/n02381460_4361.jpg\n",
            " inflated: horse2zebra/trainA/n02381460_976.jpg\n",
            " inflated: horse2zebra/trainA/n02381460_5761.jpg\n",
            " inflated: horse2zebra/trainA/n02381460_981.jpg\n",
            " inflated: horse2zebra/trainA/n02381460_3588.jpg\n",
            " inflated: horse2zebra/trainA/n02381460_7219.jpg\n",
            " inflated: horse2zebra/trainA/n02381460_1573.jpg\n",
            " inflated: horse2zebra/trainA/n02381460_4639.jpg\n",
            " inflated: horse2zebra/trainA/n02381460_2181.jpg\n",
            " inflated: horse2zebra/trainA/n02381460_2879.jpg\n",
            " inflated: horse2zebra/trainA/n02381460_4571.jpg\n",
            " inflated: horse2zebra/trainA/n02381460_466.jpg\n",
            " inflated: horse2zebra/trainA/n02381460_5951.jpg\n",
            " inflated: horse2zebra/trainA/n02381460_2848.jpg\n",
            " inflated: horse2zebra/trainA/n02381460_2152.jpg\n",
            " inflated: horse2zebra/trainA/n02381460_4181.jpg\n",
            " inflated: horse2zebra/trainA/n02381460_1766.jpg\n",
            " inflated: horse2zebra/trainA/n02381460_5545.jpg\n",
            " inflated: horse2zebra/trainA/n02381460_4737.jpg\n",
            " inflated: horse2zebra/trainA/n02381460_4766.jpg\n",
            " inflated: horse2zebra/trainA/n02381460_5917.jpg\n",
            " inflated: horse2zebra/trainA/n02381460_7903.jpg\n",
            " inflated: horse2zebra/trainA/n02381460_2572.jpg\n",
            " inflated: horse2zebra/trainA/n02381460_328.jpg\n",
            " inflated: horse2zebra/trainA/n02381460_1082.jpg\n",
            " inflated: horse2zebra/trainA/n02381460_939.jpg\n",
            " inflated: horse2zebra/trainA/n02381460_2612.jpg\n",
            " inflated: horse2zebra/trainA/n02381460_519.jpg\n",
            " inflated: horse2zebra/trainA/n02381460_1425.jpg\n",
            " inflated: horse2zebra/trainA/n02381460_4543.jpg\n",
            " inflated: horse2zebra/trainA/n02381460_912.jpg\n",
            " inflated: horse2zebra/trainA/n02381460_582.jpg\n",
            " inflated: horse2zebra/trainA/n02381460_1682.jpg\n",
            " inflated: horse2zebra/trainA/n02381460_2012.jpg\n",
            " inflated: horse2zebra/trainA/n02381460_1361.jpg\n",
            " inflated: horse2zebra/trainA/n02381460_5107.jpg\n",
            " inflated: horse2zebra/trainA/n02381460_1686.jpg\n",
            " inflated: horse2zebra/trainA/n02381460_3355.jpg\n",
            " inflated: horse2zebra/trainA/n02381460_6824.jpg\n",
            " inflated: horse2zebra/trainA/n02381460_4541.jpg\n",
            " inflated: horse2zebra/trainA/n02381460_769.jpg\n",
            " inflated: horse2zebra/trainA/n02381460_2085.jpg\n",
            " inflated: horse2zebra/trainA/n02381460_8708.jpg\n",
            " inflated: horse2zebra/trainA/n02381460_509.jpg\n",
            " inflated: horse2zebra/trainA/n02381460_8718.jpg\n",
            " inflated: horse2zebra/trainA/n02381460_5771.jpg\n",
            " inflated: horse2zebra/trainA/n02381460_4816.jpg\n",
            " inflated: horse2zebra/trainA/n02381460_1639.jpg\n",
            " inflated: horse2zebra/trainA/n02381460_2514.jpg\n",
            " inflated: horse2zebra/trainA/n02381460_836.jpg\n",
            " inflated: horse2zebra/trainA/n02381460_5804.jpg\n",
            " inflated: horse2zebra/trainA/n02381460_86.jpg\n",
            " inflated: horse2zebra/trainA/n02381460_3028.jpg\n",
            " inflated: horse2zebra/trainA/n02381460_8449.jpg\n",
            " inflated: horse2zebra/trainA/n02381460_4376.jpg\n",
            " inflated: horse2zebra/trainA/n02381460_1793.jpg\n",
            " inflated: horse2zebra/trainA/n02381460_3395.jpg\n",
            " inflated: horse2zebra/trainA/n02381460_2736.jpg\n",
            " inflated: horse2zebra/trainA/n02381460_1053.jpg\n",
            " inflated: horse2zebra/trainA/n02381460_3803.jpg\n",
            " inflated: horse2zebra/trainA/n02381460_552.jpg\n",
            " inflated: horse2zebra/trainA/n02381460_798.jpg\n",
            " inflated: horse2zebra/trainA/n02381460_1035.jpg\n",
            " inflated: horse2zebra/trainA/n02381460_3255.jpg\n",
            " inflated: horse2zebra/trainA/n02381460_6922.jpg\n",
            " inflated: horse2zebra/trainA/n02381460_8611.jpg\n",
            " inflated: horse2zebra/trainA/n02381460_5739.jpg\n",
            " inflated: horse2zebra/trainA/n02381460_6267.jpg\n",
            " inflated: horse2zebra/trainA/n02381460_1334.jpg\n",
            " inflated: horse2zebra/trainA/n02381460_8812.jpg\n",
            " inflated: horse2zebra/trainA/n02381460_73.jpg\n",
            " inflated: horse2zebra/trainA/n02381460_1168.jpg\n",
            " inflated: horse2zebra/trainA/n02381460_4447.jpg\n",
            " inflated: horse2zebra/trainA/n02381460_778.jpg\n",
            " inflated: horse2zebra/trainA/n02381460_4324.jpg\n",
            " inflated: horse2zebra/trainA/n02381460_1037.jpg\n",
            " inflated: horse2zebra/trainA/n02381460_4348.jpg\n",
            " inflated: horse2zebra/trainA/n02381460_1523.jpg\n",
            " inflated: horse2zebra/trainA/n02381460_1531.jpg\n",
            " inflated: horse2zebra/trainA/n02381460_5408.jpg\n",
            " inflated: horse2zebra/trainA/n02381460_2496.jpg\n",
            " inflated: horse2zebra/trainA/n02381460_4695.jpg\n",
            " inflated: horse2zebra/trainA/n02381460_8479.jpg\n",
            " inflated: horse2zebra/trainA/n02381460_3222.jpg\n",
            " inflated: horse2zebra/trainA/n02381460_4307.jpg\n",
            " inflated: horse2zebra/trainA/n02381460_5034.jpg\n",
            " inflated: horse2zebra/trainA/n02381460_4434.jpg\n",
            " inflated: horse2zebra/trainA/n02381460_8577.jpg\n",
            " inflated: horse2zebra/trainA/n02381460_1804.jpg\n",
            " inflated: horse2zebra/trainA/n02381460_1937.jpg\n",
            " inflated: horse2zebra/trainA/n02381460_2951.jpg\n",
            " inflated: horse2zebra/trainA/n02381460_1761.jpg\n",
            " inflated: horse2zebra/trainA/n02381460_1212.jpg\n",
            " inflated: horse2zebra/trainA/n02381460_4977.jpg\n",
            " inflated: horse2zebra/trainA/n02381460_2539.jpg\n",
            " inflated: horse2zebra/trainA/n02381460_8958.jpg\n",
            " inflated: horse2zebra/trainA/n02381460_3605.jpg\n",
            " inflated: horse2zebra/trainA/n02381460_629.jpg\n",
            " inflated: horse2zebra/trainA/n02381460_765.jpg\n",
            " inflated: horse2zebra/trainA/n02381460_1263.jpg\n",
            " inflated: horse2zebra/trainA/n02381460_3226.jpg\n",
            " inflated: horse2zebra/trainA/n02381460_1194.jpg\n",
            " inflated: horse2zebra/trainA/n02381460_91.jpg\n",
            " inflated: horse2zebra/trainA/n02381460_5286.jpg\n",
            " inflated: horse2zebra/trainA/n02381460_4769.jpg\n",
            " inflated: horse2zebra/trainA/n02381460_4312.jpg\n",
            " inflated: horse2zebra/trainA/n02381460_2222.jpg\n",
            " inflated: horse2zebra/trainA/n02381460_2049.jpg\n",
            " inflated: horse2zebra/trainA/n02381460_8052.jpg\n",
            " inflated: horse2zebra/trainA/n02381460_4663.jpg\n",
            " inflated: horse2zebra/trainA/n02381460_1349.jpg\n",
            " inflated: horse2zebra/trainA/n02381460_4529.jpg\n",
            " inflated: horse2zebra/trainA/n02381460_8585.jpg\n",
            " inflated: horse2zebra/trainA/n02381460_2726.jpg\n",
            " inflated: horse2zebra/trainA/n02381460_9167.jpg\n",
            " inflated: horse2zebra/trainA/n02381460_2732.jpg\n",
            " inflated: horse2zebra/trainA/n02381460_2802.jpg\n",
            " inflated: horse2zebra/trainA/n02381460_6688.jpg\n",
            " inflated: horse2zebra/trainA/n02381460_501.jpg\n",
            " inflated: horse2zebra/trainA/n02381460_2371.jpg\n",
            " inflated: horse2zebra/trainA/n02381460_835.jpg\n",
            " inflated: horse2zebra/trainA/n02381460_675.jpg\n",
            " inflated: horse2zebra/trainA/n02381460_3827.jpg\n",
            " inflated: horse2zebra/trainA/n02381460_4758.jpg\n",
            " inflated: horse2zebra/trainA/n02381460_1363.jpg\n",
            " inflated: horse2zebra/trainA/n02381460_3064.jpg\n",
            " inflated: horse2zebra/trainA/n02381460_2564.jpg\n",
            " inflated: horse2zebra/trainA/n02381460_4084.jpg\n",
            " inflated: horse2zebra/trainA/n02381460_376.jpg\n",
            " inflated: horse2zebra/trainA/n02381460_717.jpg\n",
            " inflated: horse2zebra/trainA/n02381460_784.jpg\n",
            " inflated: horse2zebra/trainA/n02381460_2225.jpg\n",
            " inflated: horse2zebra/trainA/n02381460_7033.jpg\n",
            " inflated: horse2zebra/trainA/n02381460_6763.jpg\n",
            " inflated: horse2zebra/trainA/n02381460_3658.jpg\n",
            " inflated: horse2zebra/trainA/n02381460_19.jpg\n",
            "  created: horse2zebra/testB/\n",
            " inflated: horse2zebra/testB/n02391049_3130.jpg\n",
            " inflated: horse2zebra/testB/n02391049_4110.jpg\n",
            " inflated: horse2zebra/testB/n02391049_640.jpg\n",
            " inflated: horse2zebra/testB/n02391049_260.jpg\n",
            " inflated: horse2zebra/testB/n02391049_7060.jpg\n",
            " inflated: horse2zebra/testB/n02391049_2200.jpg\n",
            " inflated: horse2zebra/testB/n02391049_2500.jpg\n",
            " inflated: horse2zebra/testB/n02391049_1270.jpg\n",
            " inflated: horse2zebra/testB/n02391049_5220.jpg\n",
            " inflated: horse2zebra/testB/n02391049_3220.jpg\n",
            " inflated: horse2zebra/testB/n02391049_120.jpg\n",
            " inflated: horse2zebra/testB/n02391049_4610.jpg\n",
            " inflated: horse2zebra/testB/n02391049_9460.jpg\n",
            " inflated: horse2zebra/testB/n02391049_10980.jpg\n",
            " inflated: horse2zebra/testB/n02391049_1760.jpg\n",
            " inflated: horse2zebra/testB/n02391049_2470.jpg\n",
            " inflated: horse2zebra/testB/n02391049_2800.jpg\n",
            " inflated: horse2zebra/testB/n02391049_3070.jpg\n",
            " inflated: horse2zebra/testB/n02391049_980.jpg\n",
            " inflated: horse2zebra/testB/n02391049_2190.jpg\n",
            " inflated: horse2zebra/testB/n02391049_1290.jpg\n",
            " inflated: horse2zebra/testB/n02391049_10590.jpg\n",
            " inflated: horse2zebra/testB/n02391049_1150.jpg\n",
            " inflated: horse2zebra/testB/n02391049_9350.jpg\n",
            " inflated: horse2zebra/testB/n02391049_10910.jpg\n",
            " inflated: horse2zebra/testB/n02391049_1220.jpg\n",
            " inflated: horse2zebra/testB/n02391049_1430.jpg\n",
            " inflated: horse2zebra/testB/n02391049_6650.jpg\n",
            " inflated: horse2zebra/testB/n02391049_2510.jpg\n",
            " inflated: horse2zebra/testB/n02391049_790.jpg\n",
            " inflated: horse2zebra/testB/n02391049_490.jpg\n",
            " inflated: horse2zebra/testB/n02391049_100.jpg\n",
            " inflated: horse2zebra/testB/n02391049_1300.jpg\n",
            " inflated: horse2zebra/testB/n02391049_10210.jpg\n",
            " inflated: horse2zebra/testB/n02391049_2600.jpg\n",
            " inflated: horse2zebra/testB/n02391049_1950.jpg\n",
            " inflated: horse2zebra/testB/n02391049_900.jpg\n",
            " inflated: horse2zebra/testB/n02391049_270.jpg\n",
            " inflated: horse2zebra/testB/n02391049_2420.jpg\n",
            " inflated: horse2zebra/testB/n02391049_1340.jpg\n",
            " inflated: horse2zebra/testB/n02391049_890.jpg\n",
            " inflated: horse2zebra/testB/n02391049_2620.jpg\n",
            " inflated: horse2zebra/testB/n02391049_600.jpg\n",
            " inflated: horse2zebra/testB/n02391049_4490.jpg\n",
            " inflated: horse2zebra/testB/n02391049_9900.jpg\n",
            " inflated: horse2zebra/testB/n02391049_9400.jpg\n",
            " inflated: horse2zebra/testB/n02391049_6860.jpg\n",
            " inflated: horse2zebra/testB/n02391049_440.jpg\n",
            " inflated: horse2zebra/testB/n02391049_2970.jpg\n",
            " inflated: horse2zebra/testB/n02391049_2220.jpg\n",
            " inflated: horse2zebra/testB/n02391049_1020.jpg\n",
            " inflated: horse2zebra/testB/n02391049_2380.jpg\n",
            " inflated: horse2zebra/testB/n02391049_3800.jpg\n",
            " inflated: horse2zebra/testB/n02391049_6180.jpg\n",
            " inflated: horse2zebra/testB/n02391049_3060.jpg\n",
            " inflated: horse2zebra/testB/n02391049_7740.jpg\n",
            " inflated: horse2zebra/testB/n02391049_1880.jpg\n",
            " inflated: horse2zebra/testB/n02391049_4570.jpg\n",
            " inflated: horse2zebra/testB/n02391049_2810.jpg\n",
            " inflated: horse2zebra/testB/n02391049_6890.jpg\n",
            " inflated: horse2zebra/testB/n02391049_5930.jpg\n",
            " inflated: horse2zebra/testB/n02391049_10100.jpg\n",
            " inflated: horse2zebra/testB/n02391049_3770.jpg\n",
            " inflated: horse2zebra/testB/n02391049_410.jpg\n",
            " inflated: horse2zebra/testB/n02391049_1100.jpg\n",
            " inflated: horse2zebra/testB/n02391049_4730.jpg\n",
            " inflated: horse2zebra/testB/n02391049_6190.jpg\n",
            " inflated: horse2zebra/testB/n02391049_390.jpg\n",
            " inflated: horse2zebra/testB/n02391049_6520.jpg\n",
            " inflated: horse2zebra/testB/n02391049_3840.jpg\n",
            " inflated: horse2zebra/testB/n02391049_480.jpg\n",
            " inflated: horse2zebra/testB/n02391049_8340.jpg\n",
            " inflated: horse2zebra/testB/n02391049_750.jpg\n",
            " inflated: horse2zebra/testB/n02391049_1000.jpg\n",
            " inflated: horse2zebra/testB/n02391049_1630.jpg\n",
            " inflated: horse2zebra/testB/n02391049_430.jpg\n",
            " inflated: horse2zebra/testB/n02391049_6780.jpg\n",
            " inflated: horse2zebra/testB/n02391049_400.jpg\n",
            " inflated: horse2zebra/testB/n02391049_5670.jpg\n",
            " inflated: horse2zebra/testB/n02391049_3290.jpg\n",
            " inflated: horse2zebra/testB/n02391049_8000.jpg\n",
            " inflated: horse2zebra/testB/n02391049_80.jpg\n",
            " inflated: horse2zebra/testB/n02391049_1790.jpg\n",
            " inflated: horse2zebra/testB/n02391049_690.jpg\n",
            " inflated: horse2zebra/testB/n02391049_10810.jpg\n",
            " inflated: horse2zebra/testB/n02391049_2290.jpg\n",
            " inflated: horse2zebra/testB/n02391049_2350.jpg\n",
            " inflated: horse2zebra/testB/n02391049_3240.jpg\n",
            " inflated: horse2zebra/testB/n02391049_3310.jpg\n",
            " inflated: horse2zebra/testB/n02391049_2570.jpg\n",
            " inflated: horse2zebra/testB/n02391049_4990.jpg\n",
            " inflated: horse2zebra/testB/n02391049_9960.jpg\n",
            " inflated: horse2zebra/testB/n02391049_3320.jpg\n",
            " inflated: horse2zebra/testB/n02391049_3450.jpg\n",
            " inflated: horse2zebra/testB/n02391049_7190.jpg\n",
            " inflated: horse2zebra/testB/n02391049_7150.jpg\n",
            " inflated: horse2zebra/testB/n02391049_6690.jpg\n",
            " inflated: horse2zebra/testB/n02391049_2100.jpg\n",
            " inflated: horse2zebra/testB/n02391049_8020.jpg\n",
            " inflated: horse2zebra/testB/n02391049_8830.jpg\n",
            " inflated: horse2zebra/testB/n02391049_2730.jpg\n",
            " inflated: horse2zebra/testB/n02391049_920.jpg\n",
            " inflated: horse2zebra/testB/n02391049_8140.jpg\n",
            " inflated: horse2zebra/testB/n02391049_3750.jpg\n",
            " inflated: horse2zebra/testB/n02391049_7860.jpg\n",
            " inflated: horse2zebra/testB/n02391049_180.jpg\n",
            " inflated: horse2zebra/testB/n02391049_1060.jpg\n",
            " inflated: horse2zebra/testB/n02391049_170.jpg\n",
            " inflated: horse2zebra/testB/n02391049_4890.jpg\n",
            " inflated: horse2zebra/testB/n02391049_10160.jpg\n",
            " inflated: horse2zebra/testB/n02391049_10630.jpg\n",
            " inflated: horse2zebra/testB/n02391049_5100.jpg\n",
            " inflated: horse2zebra/testB/n02391049_5240.jpg\n",
            " inflated: horse2zebra/testB/n02391049_200.jpg\n",
            " inflated: horse2zebra/testB/n02391049_3090.jpg\n",
            " inflated: horse2zebra/testB/n02391049_9160.jpg\n",
            " inflated: horse2zebra/testB/n02391049_2930.jpg\n",
            " inflated: horse2zebra/testB/n02391049_2890.jpg\n",
            " inflated: horse2zebra/testB/n02391049_2410.jpg\n",
            " inflated: horse2zebra/testB/n02391049_8080.jpg\n",
            " inflated: horse2zebra/testB/n02391049_5720.jpg\n",
            " inflated: horse2zebra/testB/n02391049_5320.jpg\n",
            " inflated: horse2zebra/testB/n02391049_9740.jpg\n",
            " inflated: horse2zebra/testB/n02391049_3010.jpg\n",
            " inflated: horse2zebra/testB/n02391049_560.jpg\n",
            " inflated: horse2zebra/testB/n02391049_9000.jpg\n",
            " inflated: horse2zebra/testB/n02391049_3200.jpg\n",
            " inflated: horse2zebra/testB/n02391049_2990.jpg\n",
            " inflated: horse2zebra/testB/n02391049_5810.jpg\n",
            " inflated: horse2zebra/testB/n02391049_2480.jpg\n",
            " inflated: horse2zebra/testB/n02391049_3270.jpg\n",
            " inflated: horse2zebra/testB/n02391049_2460.jpg\n",
            " inflated: horse2zebra/testB/n02391049_5030.jpg\n",
            " inflated: horse2zebra/testB/n02391049_9680.jpg\n",
            " inflated: horse2zebra/testB/n02391049_5990.jpg\n",
            " inflated: horse2zebra/testB/n02391049_130.jpg\n",
            " inflated: horse2zebra/testB/n02391049_2790.jpg\n",
            " inflated: horse2zebra/testB/n02391049_2760.jpg\n",
            " inflated: horse2zebra/testB/n02391049_860.jpg\n",
            " inflated: horse2zebra/testB/n02391049_2870.jpg\n",
            "  created: horse2zebra/trainB/\n",
            " inflated: horse2zebra/trainB/n02391049_155.jpg\n",
            " inflated: horse2zebra/trainB/n02391049_165.jpg\n",
            " inflated: horse2zebra/trainB/n02391049_3211.jpg\n",
            " inflated: horse2zebra/trainB/n02391049_295.jpg\n",
            " inflated: horse2zebra/trainB/n02391049_4692.jpg\n",
            " inflated: horse2zebra/trainB/n02391049_8178.jpg\n",
            " inflated: horse2zebra/trainB/n02391049_8032.jpg\n",
            " inflated: horse2zebra/trainB/n02391049_2709.jpg\n",
            " inflated: horse2zebra/trainB/n02391049_2418.jpg\n",
            " inflated: horse2zebra/trainB/n02391049_2985.jpg\n",
            " inflated: horse2zebra/trainB/n02391049_2612.jpg\n",
            " inflated: horse2zebra/trainB/n02391049_2049.jpg\n",
            " inflated: horse2zebra/trainB/n02391049_1087.jpg\n",
            " inflated: horse2zebra/trainB/n02391049_2476.jpg\n",
            " inflated: horse2zebra/trainB/n02391049_2285.jpg\n",
            " inflated: horse2zebra/trainB/n02391049_9149.jpg\n",
            " inflated: horse2zebra/trainB/n02391049_2232.jpg\n",
            " inflated: horse2zebra/trainB/n02391049_7722.jpg\n",
            " inflated: horse2zebra/trainB/n02391049_737.jpg\n",
            " inflated: horse2zebra/trainB/n02391049_5509.jpg\n",
            " inflated: horse2zebra/trainB/n02391049_589.jpg\n",
            " inflated: horse2zebra/trainB/n02391049_2211.jpg\n",
            " inflated: horse2zebra/trainB/n02391049_8061.jpg\n",
            " inflated: horse2zebra/trainB/n02391049_5875.jpg\n",
            " inflated: horse2zebra/trainB/n02391049_1042.jpg\n",
            " inflated: horse2zebra/trainB/n02391049_2446.jpg\n",
            " inflated: horse2zebra/trainB/n02391049_2157.jpg\n",
            " inflated: horse2zebra/trainB/n02391049_141.jpg\n",
            " inflated: horse2zebra/trainB/n02391049_6184.jpg\n",
            " inflated: horse2zebra/trainB/n02391049_344.jpg\n",
            " inflated: horse2zebra/trainB/n02391049_2989.jpg\n",
            " inflated: horse2zebra/trainB/n02391049_2005.jpg\n",
            " inflated: horse2zebra/trainB/n02391049_2116.jpg\n",
            " inflated: horse2zebra/trainB/n02391049_354.jpg\n",
            " inflated: horse2zebra/trainB/n02391049_2999.jpg\n",
            " inflated: horse2zebra/trainB/n02391049_465.jpg\n",
            " inflated: horse2zebra/trainB/n02391049_2789.jpg\n",
            " inflated: horse2zebra/trainB/n02391049_1104.jpg\n",
            " inflated: horse2zebra/trainB/n02391049_7407.jpg\n",
            " inflated: horse2zebra/trainB/n02391049_2424.jpg\n",
            " inflated: horse2zebra/trainB/n02391049_415.jpg\n",
            " inflated: horse2zebra/trainB/n02391049_10467.jpg\n",
            " inflated: horse2zebra/trainB/n02391049_2776.jpg\n",
            " inflated: horse2zebra/trainB/n02391049_5366.jpg\n",
            " inflated: horse2zebra/trainB/n02391049_8447.jpg\n",
            " inflated: horse2zebra/trainB/n02391049_4697.jpg\n",
            " inflated: horse2zebra/trainB/n02391049_2628.jpg\n",
            " inflated: horse2zebra/trainB/n02391049_1869.jpg\n",
            " inflated: horse2zebra/trainB/n02391049_1158.jpg\n",
            " inflated: horse2zebra/trainB/n02391049_11162.jpg\n",
            " inflated: horse2zebra/trainB/n02391049_11195.jpg\n",
            " inflated: horse2zebra/trainB/n02391049_3239.jpg\n",
            " inflated: horse2zebra/trainB/n02391049_2698.jpg\n",
            " inflated: horse2zebra/trainB/n02391049_9675.jpg\n",
            " inflated: horse2zebra/trainB/n02391049_2048.jpg\n",
            " inflated: horse2zebra/trainB/n02391049_9804.jpg\n",
            " inflated: horse2zebra/trainB/n02391049_544.jpg\n",
            " inflated: horse2zebra/trainB/n02391049_2984.jpg\n",
            " inflated: horse2zebra/trainB/n02391049_6121.jpg\n",
            " inflated: horse2zebra/trainB/n02391049_744.jpg\n",
            " inflated: horse2zebra/trainB/n02391049_839.jpg\n",
            " inflated: horse2zebra/trainB/n02391049_2017.jpg\n",
            " inflated: horse2zebra/trainB/n02391049_4569.jpg\n",
            " inflated: horse2zebra/trainB/n02391049_3402.jpg\n",
            " inflated: horse2zebra/trainB/n02391049_1758.jpg\n",
            " inflated: horse2zebra/trainB/n02391049_2289.jpg\n",
            " inflated: horse2zebra/trainB/n02391049_817.jpg\n",
            " inflated: horse2zebra/trainB/n02391049_527.jpg\n",
            " inflated: horse2zebra/trainB/n02391049_56.jpg\n",
            " inflated: horse2zebra/trainB/n02391049_6122.jpg\n",
            " inflated: horse2zebra/trainB/n02391049_7886.jpg\n",
            " inflated: horse2zebra/trainB/n02391049_2541.jpg\n",
            " inflated: horse2zebra/trainB/n02391049_2559.jpg\n",
            " inflated: horse2zebra/trainB/n02391049_3135.jpg\n",
            " inflated: horse2zebra/trainB/n02391049_2816.jpg\n",
            " inflated: horse2zebra/trainB/n02391049_5781.jpg\n",
            " inflated: horse2zebra/trainB/n02391049_10589.jpg\n",
            " inflated: horse2zebra/trainB/n02391049_5982.jpg\n",
            " inflated: horse2zebra/trainB/n02391049_176.jpg\n",
            " inflated: horse2zebra/trainB/n02391049_116.jpg\n",
            " inflated: horse2zebra/trainB/n02391049_6511.jpg\n",
            " inflated: horse2zebra/trainB/n02391049_10278.jpg\n",
            " inflated: horse2zebra/trainB/n02391049_6336.jpg\n",
            " inflated: horse2zebra/trainB/n02391049_2131.jpg\n",
            " inflated: horse2zebra/trainB/n02391049_7263.jpg\n",
            " inflated: horse2zebra/trainB/n02391049_9977.jpg\n",
            " inflated: horse2zebra/trainB/n02391049_351.jpg\n",
            " inflated: horse2zebra/trainB/n02391049_9357.jpg\n",
            " inflated: horse2zebra/trainB/n02391049_6993.jpg\n",
            " inflated: horse2zebra/trainB/n02391049_2921.jpg\n",
            " inflated: horse2zebra/trainB/n02391049_5551.jpg\n",
            " inflated: horse2zebra/trainB/n02391049_4028.jpg\n",
            " inflated: horse2zebra/trainB/n02391049_254.jpg\n",
            " inflated: horse2zebra/trainB/n02391049_77.jpg\n",
            " inflated: horse2zebra/trainB/n02391049_2886.jpg\n",
            " inflated: horse2zebra/trainB/n02391049_3092.jpg\n",
            " inflated: horse2zebra/trainB/n02391049_3733.jpg\n",
            " inflated: horse2zebra/trainB/n02391049_2739.jpg\n",
            " inflated: horse2zebra/trainB/n02391049_6524.jpg\n",
            " inflated: horse2zebra/trainB/n02391049_934.jpg\n",
            " inflated: horse2zebra/trainB/n02391049_835.jpg\n",
            " inflated: horse2zebra/trainB/n02391049_4775.jpg\n",
            " inflated: horse2zebra/trainB/n02391049_6026.jpg\n",
            " inflated: horse2zebra/trainB/n02391049_826.jpg\n",
            " inflated: horse2zebra/trainB/n02391049_4077.jpg\n",
            " inflated: horse2zebra/trainB/n02391049_886.jpg\n",
            " inflated: horse2zebra/trainB/n02391049_2061.jpg\n",
            " inflated: horse2zebra/trainB/n02391049_8764.jpg\n",
            " inflated: horse2zebra/trainB/n02391049_1149.jpg\n",
            " inflated: horse2zebra/trainB/n02391049_7972.jpg\n",
            " inflated: horse2zebra/trainB/n02391049_2889.jpg\n",
            " inflated: horse2zebra/trainB/n02391049_3328.jpg\n",
            " inflated: horse2zebra/trainB/n02391049_2043.jpg\n",
            " inflated: horse2zebra/trainB/n02391049_554.jpg\n",
            " inflated: horse2zebra/trainB/n02391049_4058.jpg\n",
            " inflated: horse2zebra/trainB/n02391049_9416.jpg\n",
            " inflated: horse2zebra/trainB/n02391049_3654.jpg\n",
            " inflated: horse2zebra/trainB/n02391049_2383.jpg\n",
            " inflated: horse2zebra/trainB/n02391049_3261.jpg\n",
            " inflated: horse2zebra/trainB/n02391049_2907.jpg\n",
            " inflated: horse2zebra/trainB/n02391049_169.jpg\n",
            " inflated: horse2zebra/trainB/n02391049_1928.jpg\n",
            " inflated: horse2zebra/trainB/n02391049_6902.jpg\n",
            " inflated: horse2zebra/trainB/n02391049_808.jpg\n",
            " inflated: horse2zebra/trainB/n02391049_10132.jpg\n",
            " inflated: horse2zebra/trainB/n02391049_2511.jpg\n",
            " inflated: horse2zebra/trainB/n02391049_2459.jpg\n",
            " inflated: horse2zebra/trainB/n02391049_717.jpg\n",
            " inflated: horse2zebra/trainB/n02391049_3071.jpg\n",
            " inflated: horse2zebra/trainB/n02391049_4185.jpg\n",
            " inflated: horse2zebra/trainB/n02391049_10824.jpg\n",
            " inflated: horse2zebra/trainB/n02391049_10497.jpg\n",
            " inflated: horse2zebra/trainB/n02391049_6081.jpg\n",
            " inflated: horse2zebra/trainB/n02391049_3242.jpg\n",
            " inflated: horse2zebra/trainB/n02391049_437.jpg\n",
            " inflated: horse2zebra/trainB/n02391049_2657.jpg\n",
            " inflated: horse2zebra/trainB/n02391049_168.jpg\n",
            " inflated: horse2zebra/trainB/n02391049_8856.jpg\n",
            " inflated: horse2zebra/trainB/n02391049_279.jpg\n",
            " inflated: horse2zebra/trainB/n02391049_225.jpg\n",
            " inflated: horse2zebra/trainB/n02391049_2821.jpg\n",
            " inflated: horse2zebra/trainB/n02391049_7836.jpg\n",
            " inflated: horse2zebra/trainB/n02391049_2366.jpg\n",
            " inflated: horse2zebra/trainB/n02391049_71.jpg\n",
            " inflated: horse2zebra/trainB/n02391049_368.jpg\n",
            " inflated: horse2zebra/trainB/n02391049_2304.jpg\n",
            " inflated: horse2zebra/trainB/n02391049_341.jpg\n",
            " inflated: horse2zebra/trainB/n02391049_115.jpg\n",
            " inflated: horse2zebra/trainB/n02391049_10701.jpg\n",
            " inflated: horse2zebra/trainB/n02391049_3778.jpg\n",
            " inflated: horse2zebra/trainB/n02391049_444.jpg\n",
            " inflated: horse2zebra/trainB/n02391049_7261.jpg\n",
            " inflated: horse2zebra/trainB/n02391049_9136.jpg\n",
            " inflated: horse2zebra/trainB/n02391049_46.jpg\n",
            " inflated: horse2zebra/trainB/n02391049_2648.jpg\n",
            " inflated: horse2zebra/trainB/n02391049_2644.jpg\n",
            " inflated: horse2zebra/trainB/n02391049_275.jpg\n",
            " inflated: horse2zebra/trainB/n02391049_2673.jpg\n",
            " inflated: horse2zebra/trainB/n02391049_1752.jpg\n",
            " inflated: horse2zebra/trainB/n02391049_644.jpg\n",
            " inflated: horse2zebra/trainB/n02391049_6012.jpg\n",
            " inflated: horse2zebra/trainB/n02391049_3199.jpg\n",
            " inflated: horse2zebra/trainB/n02391049_1894.jpg\n",
            " inflated: horse2zebra/trainB/n02391049_4969.jpg\n",
            " inflated: horse2zebra/trainB/n02391049_3229.jpg\n",
            " inflated: horse2zebra/trainB/n02391049_1738.jpg\n",
            " inflated: horse2zebra/trainB/n02391049_246.jpg\n",
            " inflated: horse2zebra/trainB/n02391049_3872.jpg\n",
            " inflated: horse2zebra/trainB/n02391049_6198.jpg\n",
            " inflated: horse2zebra/trainB/n02391049_8444.jpg\n",
            " inflated: horse2zebra/trainB/n02391049_1679.jpg\n",
            " inflated: horse2zebra/trainB/n02391049_7832.jpg\n",
            " inflated: horse2zebra/trainB/n02391049_795.jpg\n",
            " inflated: horse2zebra/trainB/n02391049_2239.jpg\n",
            " inflated: horse2zebra/trainB/n02391049_178.jpg\n",
            " inflated: horse2zebra/trainB/n02391049_1751.jpg\n",
            " inflated: horse2zebra/trainB/n02391049_5695.jpg\n",
            " inflated: horse2zebra/trainB/n02391049_8387.jpg\n",
            " inflated: horse2zebra/trainB/n02391049_9051.jpg\n",
            " inflated: horse2zebra/trainB/n02391049_9593.jpg\n",
            " inflated: horse2zebra/trainB/n02391049_11181.jpg\n",
            " inflated: horse2zebra/trainB/n02391049_173.jpg\n",
            " inflated: horse2zebra/trainB/n02391049_7494.jpg\n",
            " inflated: horse2zebra/trainB/n02391049_5503.jpg\n",
            " inflated: horse2zebra/trainB/n02391049_248.jpg\n",
            " inflated: horse2zebra/trainB/n02391049_9719.jpg\n",
            " inflated: horse2zebra/trainB/n02391049_1531.jpg\n",
            " inflated: horse2zebra/trainB/n02391049_3022.jpg\n",
            " inflated: horse2zebra/trainB/n02391049_8699.jpg\n",
            " inflated: horse2zebra/trainB/n02391049_3779.jpg\n",
            " inflated: horse2zebra/trainB/n02391049_2806.jpg\n",
            " inflated: horse2zebra/trainB/n02391049_4898.jpg\n",
            " inflated: horse2zebra/trainB/n02391049_363.jpg\n",
            " inflated: horse2zebra/trainB/n02391049_3173.jpg\n",
            " inflated: horse2zebra/trainB/n02391049_3681.jpg\n",
            " inflated: horse2zebra/trainB/n02391049_904.jpg\n",
            " inflated: horse2zebra/trainB/n02391049_9398.jpg\n",
            " inflated: horse2zebra/trainB/n02391049_232.jpg\n",
            " inflated: horse2zebra/trainB/n02391049_2201.jpg\n",
            " inflated: horse2zebra/trainB/n02391049_3947.jpg\n",
            " inflated: horse2zebra/trainB/n02391049_7839.jpg\n",
            " inflated: horse2zebra/trainB/n02391049_4259.jpg\n",
            " inflated: horse2zebra/trainB/n02391049_226.jpg\n",
            " inflated: horse2zebra/trainB/n02391049_1891.jpg\n",
            " inflated: horse2zebra/trainB/n02391049_2534.jpg\n",
            " inflated: horse2zebra/trainB/n02391049_6834.jpg\n",
            " inflated: horse2zebra/trainB/n02391049_643.jpg\n",
            " inflated: horse2zebra/trainB/n02391049_8565.jpg\n",
            " inflated: horse2zebra/trainB/n02391049_2182.jpg\n",
            " inflated: horse2zebra/trainB/n02391049_2837.jpg\n",
            " inflated: horse2zebra/trainB/n02391049_9918.jpg\n",
            " inflated: horse2zebra/trainB/n02391049_2718.jpg\n",
            " inflated: horse2zebra/trainB/n02391049_6326.jpg\n",
            " inflated: horse2zebra/trainB/n02391049_10429.jpg\n",
            " inflated: horse2zebra/trainB/n02391049_2508.jpg\n",
            " inflated: horse2zebra/trainB/n02391049_383.jpg\n",
            " inflated: horse2zebra/trainB/n02391049_6267.jpg\n",
            " inflated: horse2zebra/trainB/n02391049_8347.jpg\n",
            " inflated: horse2zebra/trainB/n02391049_6374.jpg\n",
            " inflated: horse2zebra/trainB/n02391049_10649.jpg\n",
            " inflated: horse2zebra/trainB/n02391049_1532.jpg\n",
            " inflated: horse2zebra/trainB/n02391049_2856.jpg\n",
            " inflated: horse2zebra/trainB/n02391049_147.jpg\n",
            " inflated: horse2zebra/trainB/n02391049_1126.jpg\n",
            " inflated: horse2zebra/trainB/n02391049_7398.jpg\n",
            " inflated: horse2zebra/trainB/n02391049_8568.jpg\n",
            " inflated: horse2zebra/trainB/n02391049_1076.jpg\n",
            " inflated: horse2zebra/trainB/n02391049_6202.jpg\n",
            " inflated: horse2zebra/trainB/n02391049_7062.jpg\n",
            " inflated: horse2zebra/trainB/n02391049_308.jpg\n",
            " inflated: horse2zebra/trainB/n02391049_6436.jpg\n",
            " inflated: horse2zebra/trainB/n02391049_4805.jpg\n",
            " inflated: horse2zebra/trainB/n02391049_10681.jpg\n",
            " inflated: horse2zebra/trainB/n02391049_10738.jpg\n",
            " inflated: horse2zebra/trainB/n02391049_17.jpg\n",
            " inflated: horse2zebra/trainB/n02391049_935.jpg\n",
            " inflated: horse2zebra/trainB/n02391049_2927.jpg\n",
            " inflated: horse2zebra/trainB/n02391049_3517.jpg\n",
            " inflated: horse2zebra/trainB/n02391049_2364.jpg\n",
            " inflated: horse2zebra/trainB/n02391049_764.jpg\n",
            " inflated: horse2zebra/trainB/n02391049_2665.jpg\n",
            " inflated: horse2zebra/trainB/n02391049_3084.jpg\n",
            " inflated: horse2zebra/trainB/n02391049_8425.jpg\n",
            " inflated: horse2zebra/trainB/n02391049_983.jpg\n",
            " inflated: horse2zebra/trainB/n02391049_1731.jpg\n",
            " inflated: horse2zebra/trainB/n02391049_1451.jpg\n",
            " inflated: horse2zebra/trainB/n02391049_1073.jpg\n",
            "extracted: horse2zebra/trainB/n02391049_7503.jpg\n",
            " inflated: horse2zebra/trainB/n02391049_712.jpg\n",
            " inflated: horse2zebra/trainB/n02391049_9822.jpg\n",
            " inflated: horse2zebra/trainB/n02391049_10948.jpg\n",
            " inflated: horse2zebra/trainB/n02391049_7567.jpg\n",
            " inflated: horse2zebra/trainB/n02391049_1178.jpg\n",
            " inflated: horse2zebra/trainB/n02391049_5638.jpg\n",
            " inflated: horse2zebra/trainB/n02391049_3397.jpg\n",
            " inflated: horse2zebra/trainB/n02391049_8857.jpg\n",
            " inflated: horse2zebra/trainB/n02391049_2204.jpg\n",
            " inflated: horse2zebra/trainB/n02391049_3296.jpg\n",
            " inflated: horse2zebra/trainB/n02391049_10917.jpg\n",
            " inflated: horse2zebra/trainB/n02391049_2606.jpg\n",
            " inflated: horse2zebra/trainB/n02391049_2916.jpg\n",
            " inflated: horse2zebra/trainB/n02391049_4745.jpg\n",
            " inflated: horse2zebra/trainB/n02391049_8659.jpg\n",
            " inflated: horse2zebra/trainB/n02391049_2995.jpg\n",
            " inflated: horse2zebra/trainB/n02391049_1172.jpg\n",
            " inflated: horse2zebra/trainB/n02391049_3228.jpg\n",
            " inflated: horse2zebra/trainB/n02391049_2275.jpg\n",
            " inflated: horse2zebra/trainB/n02391049_316.jpg\n",
            " inflated: horse2zebra/trainB/n02391049_499.jpg\n",
            " inflated: horse2zebra/trainB/n02391049_1296.jpg\n",
            " inflated: horse2zebra/trainB/n02391049_7396.jpg\n",
            " inflated: horse2zebra/trainB/n02391049_6452.jpg\n",
            " inflated: horse2zebra/trainB/n02391049_11166.jpg\n",
            " inflated: horse2zebra/trainB/n02391049_6421.jpg\n",
            " inflated: horse2zebra/trainB/n02391049_907.jpg\n",
            " inflated: horse2zebra/trainB/n02391049_2701.jpg\n",
            " inflated: horse2zebra/trainB/n02391049_3292.jpg\n",
            " inflated: horse2zebra/trainB/n02391049_10825.jpg\n",
            " inflated: horse2zebra/trainB/n02391049_2844.jpg\n",
            " inflated: horse2zebra/trainB/n02391049_1088.jpg\n",
            "extracted: horse2zebra/trainB/n02391049_2361.jpg\n",
            " inflated: horse2zebra/trainB/n02391049_192.jpg\n",
            " inflated: horse2zebra/trainB/n02391049_1316.jpg\n",
            " inflated: horse2zebra/trainB/n02391049_3073.jpg\n",
            " inflated: horse2zebra/trainB/n02391049_8214.jpg\n",
            " inflated: horse2zebra/trainB/n02391049_2187.jpg\n",
            " inflated: horse2zebra/trainB/n02391049_7169.jpg\n",
            " inflated: horse2zebra/trainB/n02391049_19.jpg\n",
            " inflated: horse2zebra/trainB/n02391049_1056.jpg\n",
            " inflated: horse2zebra/trainB/n02391049_3436.jpg\n",
            " inflated: horse2zebra/trainB/n02391049_574.jpg\n",
            " inflated: horse2zebra/trainB/n02391049_639.jpg\n",
            " inflated: horse2zebra/trainB/n02391049_133.jpg\n",
            " inflated: horse2zebra/trainB/n02391049_2596.jpg\n",
            " inflated: horse2zebra/trainB/n02391049_3016.jpg\n",
            " inflated: horse2zebra/trainB/n02391049_2732.jpg\n",
            " inflated: horse2zebra/trainB/n02391049_538.jpg\n",
            " inflated: horse2zebra/trainB/n02391049_1153.jpg\n",
            " inflated: horse2zebra/trainB/n02391049_3693.jpg\n",
            " inflated: horse2zebra/trainB/n02391049_1147.jpg\n",
            " inflated: horse2zebra/trainB/n02391049_1156.jpg\n",
            " inflated: horse2zebra/trainB/n02391049_734.jpg\n",
            " inflated: horse2zebra/trainB/n02391049_956.jpg\n",
            " inflated: horse2zebra/trainB/n02391049_9113.jpg\n",
            " inflated: horse2zebra/trainB/n02391049_384.jpg\n",
            " inflated: horse2zebra/trainB/n02391049_695.jpg\n",
            " inflated: horse2zebra/trainB/n02391049_5209.jpg\n",
            " inflated: horse2zebra/trainB/n02391049_5115.jpg\n",
            " inflated: horse2zebra/trainB/n02391049_8859.jpg\n",
            " inflated: horse2zebra/trainB/n02391049_3115.jpg\n",
            " inflated: horse2zebra/trainB/n02391049_1121.jpg\n",
            " inflated: horse2zebra/trainB/n02391049_635.jpg\n",
            " inflated: horse2zebra/trainB/n02391049_3518.jpg\n",
            " inflated: horse2zebra/trainB/n02391049_2638.jpg\n",
            " inflated: horse2zebra/trainB/n02391049_2162.jpg\n",
            " inflated: horse2zebra/trainB/n02391049_459.jpg\n",
            " inflated: horse2zebra/trainB/n02391049_2251.jpg\n",
            " inflated: horse2zebra/trainB/n02391049_343.jpg\n",
            " inflated: horse2zebra/trainB/n02391049_2899.jpg\n",
            " inflated: horse2zebra/trainB/n02391049_2181.jpg\n",
            " inflated: horse2zebra/trainB/n02391049_8793.jpg\n",
            " inflated: horse2zebra/trainB/n02391049_9542.jpg\n",
            " inflated: horse2zebra/trainB/n02391049_3023.jpg\n",
            " inflated: horse2zebra/trainB/n02391049_2786.jpg\n",
            " inflated: horse2zebra/trainB/n02391049_23.jpg\n",
            " inflated: horse2zebra/trainB/n02391049_9273.jpg\n",
            " inflated: horse2zebra/trainB/n02391049_274.jpg\n",
            " inflated: horse2zebra/trainB/n02391049_824.jpg\n",
            " inflated: horse2zebra/trainB/n02391049_10134.jpg\n",
            " inflated: horse2zebra/trainB/n02391049_2847.jpg\n",
            " inflated: horse2zebra/trainB/n02391049_3248.jpg\n",
            " inflated: horse2zebra/trainB/n02391049_789.jpg\n",
            " inflated: horse2zebra/trainB/n02391049_125.jpg\n",
            " inflated: horse2zebra/trainB/n02391049_3785.jpg\n",
            " inflated: horse2zebra/trainB/n02391049_2321.jpg\n",
            " inflated: horse2zebra/trainB/n02391049_964.jpg\n",
            " inflated: horse2zebra/trainB/n02391049_1836.jpg\n",
            " inflated: horse2zebra/trainB/n02391049_5791.jpg\n",
            " inflated: horse2zebra/trainB/n02391049_2982.jpg\n",
            " inflated: horse2zebra/trainB/n02391049_6762.jpg\n",
            " inflated: horse2zebra/trainB/n02391049_3233.jpg\n",
            " inflated: horse2zebra/trainB/n02391049_474.jpg\n",
            " inflated: horse2zebra/trainB/n02391049_1024.jpg\n",
            " inflated: horse2zebra/trainB/n02391049_10461.jpg\n",
            " inflated: horse2zebra/trainB/n02391049_557.jpg\n",
            " inflated: horse2zebra/trainB/n02391049_4027.jpg\n",
            " inflated: horse2zebra/trainB/n02391049_3038.jpg\n",
            " inflated: horse2zebra/trainB/n02391049_3755.jpg\n",
            " inflated: horse2zebra/trainB/n02391049_7151.jpg\n",
            " inflated: horse2zebra/trainB/n02391049_2811.jpg\n",
            " inflated: horse2zebra/trainB/n02391049_1523.jpg\n",
            " inflated: horse2zebra/trainB/n02391049_1112.jpg\n",
            " inflated: horse2zebra/trainB/n02391049_4496.jpg\n",
            " inflated: horse2zebra/trainB/n02391049_6015.jpg\n",
            " inflated: horse2zebra/trainB/n02391049_10257.jpg\n",
            " inflated: horse2zebra/trainB/n02391049_3209.jpg\n",
            " inflated: horse2zebra/trainB/n02391049_2603.jpg\n",
            " inflated: horse2zebra/trainB/n02391049_10307.jpg\n",
            " inflated: horse2zebra/trainB/n02391049_1025.jpg\n",
            " inflated: horse2zebra/trainB/n02391049_228.jpg\n",
            " inflated: horse2zebra/trainB/n02391049_4165.jpg\n",
            " inflated: horse2zebra/trainB/n02391049_8373.jpg\n",
            " inflated: horse2zebra/trainB/n02391049_3631.jpg\n",
            " inflated: horse2zebra/trainB/n02391049_3257.jpg\n",
            " inflated: horse2zebra/trainB/n02391049_865.jpg\n",
            " inflated: horse2zebra/trainB/n02391049_9193.jpg\n",
            " inflated: horse2zebra/trainB/n02391049_1303.jpg\n",
            " inflated: horse2zebra/trainB/n02391049_1465.jpg\n",
            " inflated: horse2zebra/trainB/n02391049_2098.jpg\n",
            " inflated: horse2zebra/trainB/n02391049_10739.jpg\n",
            " inflated: horse2zebra/trainB/n02391049_3901.jpg\n",
            " inflated: horse2zebra/trainB/n02391049_3303.jpg\n",
            " inflated: horse2zebra/trainB/n02391049_8657.jpg\n",
            " inflated: horse2zebra/trainB/n02391049_2504.jpg\n",
            " inflated: horse2zebra/trainB/n02391049_419.jpg\n",
            " inflated: horse2zebra/trainB/n02391049_3636.jpg\n",
            " inflated: horse2zebra/trainB/n02391049_9151.jpg\n",
            " inflated: horse2zebra/trainB/n02391049_2506.jpg\n",
            " inflated: horse2zebra/trainB/n02391049_7599.jpg\n",
            " inflated: horse2zebra/trainB/n02391049_1189.jpg\n",
            " inflated: horse2zebra/trainB/n02391049_6163.jpg\n",
            " inflated: horse2zebra/trainB/n02391049_2222.jpg\n",
            " inflated: horse2zebra/trainB/n02391049_427.jpg\n",
            " inflated: horse2zebra/trainB/n02391049_9964.jpg\n",
            " inflated: horse2zebra/trainB/n02391049_6467.jpg\n",
            " inflated: horse2zebra/trainB/n02391049_9635.jpg\n",
            " inflated: horse2zebra/trainB/n02391049_5217.jpg\n",
            " inflated: horse2zebra/trainB/n02391049_8015.jpg\n",
            " inflated: horse2zebra/trainB/n02391049_193.jpg\n",
            " inflated: horse2zebra/trainB/n02391049_2591.jpg\n",
            " inflated: horse2zebra/trainB/n02391049_3028.jpg\n",
            " inflated: horse2zebra/trainB/n02391049_2507.jpg\n",
            " inflated: horse2zebra/trainB/n02391049_5344.jpg\n",
            " inflated: horse2zebra/trainB/n02391049_3046.jpg\n",
            " inflated: horse2zebra/trainB/n02391049_2295.jpg\n",
            " inflated: horse2zebra/trainB/n02391049_2355.jpg\n",
            " inflated: horse2zebra/trainB/n02391049_4824.jpg\n",
            " inflated: horse2zebra/trainB/n02391049_377.jpg\n",
            " inflated: horse2zebra/trainB/n02391049_10432.jpg\n",
            " inflated: horse2zebra/trainB/n02391049_1164.jpg\n",
            " inflated: horse2zebra/trainB/n02391049_1288.jpg\n",
            " inflated: horse2zebra/trainB/n02391049_2523.jpg\n",
            " inflated: horse2zebra/trainB/n02391049_10159.jpg\n",
            " inflated: horse2zebra/trainB/n02391049_2924.jpg\n",
            " inflated: horse2zebra/trainB/n02391049_2242.jpg\n",
            " inflated: horse2zebra/trainB/n02391049_3001.jpg\n",
            " inflated: horse2zebra/trainB/n02391049_428.jpg\n",
            " inflated: horse2zebra/trainB/n02391049_3465.jpg\n",
            " inflated: horse2zebra/trainB/n02391049_182.jpg\n",
            " inflated: horse2zebra/trainB/n02391049_5165.jpg\n",
            " inflated: horse2zebra/trainB/n02391049_3754.jpg\n",
            " inflated: horse2zebra/trainB/n02391049_5307.jpg\n",
            " inflated: horse2zebra/trainB/n02391049_3342.jpg\n",
            " inflated: horse2zebra/trainB/n02391049_6475.jpg\n",
            " inflated: horse2zebra/trainB/n02391049_5547.jpg\n",
            " inflated: horse2zebra/trainB/n02391049_2293.jpg\n",
            " inflated: horse2zebra/trainB/n02391049_6947.jpg\n",
            " inflated: horse2zebra/trainB/n02391049_9006.jpg\n",
            " inflated: horse2zebra/trainB/n02391049_2645.jpg\n",
            " inflated: horse2zebra/trainB/n02391049_3154.jpg\n",
            " inflated: horse2zebra/trainB/n02391049_1459.jpg\n",
            " inflated: horse2zebra/trainB/n02391049_217.jpg\n",
            " inflated: horse2zebra/trainB/n02391049_33.jpg\n",
            " inflated: horse2zebra/trainB/n02391049_10324.jpg\n",
            " inflated: horse2zebra/trainB/n02391049_6866.jpg\n",
            " inflated: horse2zebra/trainB/n02391049_8844.jpg\n",
            " inflated: horse2zebra/trainB/n02391049_954.jpg\n",
            " inflated: horse2zebra/trainB/n02391049_2265.jpg\n",
            " inflated: horse2zebra/trainB/n02391049_10269.jpg\n",
            " inflated: horse2zebra/trainB/n02391049_3236.jpg\n",
            " inflated: horse2zebra/trainB/n02391049_424.jpg\n",
            " inflated: horse2zebra/trainB/n02391049_2623.jpg\n",
            " inflated: horse2zebra/trainB/n02391049_5595.jpg\n",
            " inflated: horse2zebra/trainB/n02391049_2768.jpg\n",
            " inflated: horse2zebra/trainB/n02391049_3235.jpg\n",
            " inflated: horse2zebra/trainB/n02391049_7487.jpg\n",
            " inflated: horse2zebra/trainB/n02391049_3128.jpg\n",
            " inflated: horse2zebra/trainB/n02391049_9698.jpg\n",
            " inflated: horse2zebra/trainB/n02391049_4517.jpg\n",
            " inflated: horse2zebra/trainB/n02391049_8951.jpg\n",
            " inflated: horse2zebra/trainB/n02391049_3348.jpg\n",
            " inflated: horse2zebra/trainB/n02391049_515.jpg\n",
            " inflated: horse2zebra/trainB/n02391049_566.jpg\n",
            " inflated: horse2zebra/trainB/n02391049_37.jpg\n",
            " inflated: horse2zebra/trainB/n02391049_6465.jpg\n",
            " inflated: horse2zebra/trainB/n02391049_2407.jpg\n",
            " inflated: horse2zebra/trainB/n02391049_4176.jpg\n",
            " inflated: horse2zebra/trainB/n02391049_26.jpg\n",
            " inflated: horse2zebra/trainB/n02391049_4474.jpg\n",
            " inflated: horse2zebra/trainB/n02391049_2273.jpg\n",
            " inflated: horse2zebra/trainB/n02391049_3861.jpg\n",
            " inflated: horse2zebra/trainB/n02391049_642.jpg\n",
            " inflated: horse2zebra/trainB/n02391049_98.jpg\n",
            " inflated: horse2zebra/trainB/n02391049_9336.jpg\n",
            " inflated: horse2zebra/trainB/n02391049_986.jpg\n",
            " inflated: horse2zebra/trainB/n02391049_148.jpg\n",
            " inflated: horse2zebra/trainB/n02391049_7105.jpg\n",
            " inflated: horse2zebra/trainB/n02391049_3075.jpg\n",
            " inflated: horse2zebra/trainB/n02391049_6396.jpg\n",
            " inflated: horse2zebra/trainB/n02391049_2996.jpg\n",
            " inflated: horse2zebra/trainB/n02391049_6444.jpg\n",
            " inflated: horse2zebra/trainB/n02391049_9919.jpg\n",
            " inflated: horse2zebra/trainB/n02391049_142.jpg\n",
            " inflated: horse2zebra/trainB/n02391049_471.jpg\n",
            " inflated: horse2zebra/trainB/n02391049_711.jpg\n",
            " inflated: horse2zebra/trainB/n02391049_936.jpg\n",
            " inflated: horse2zebra/trainB/n02391049_3105.jpg\n",
            " inflated: horse2zebra/trainB/n02391049_2723.jpg\n",
            " inflated: horse2zebra/trainB/n02391049_543.jpg\n",
            " inflated: horse2zebra/trainB/n02391049_5501.jpg\n",
            " inflated: horse2zebra/trainB/n02391049_7188.jpg\n",
            " inflated: horse2zebra/trainB/n02391049_2133.jpg\n",
            " inflated: horse2zebra/trainB/n02391049_2852.jpg\n",
            " inflated: horse2zebra/trainB/n02391049_7911.jpg\n",
            " inflated: horse2zebra/trainB/n02391049_10576.jpg\n",
            " inflated: horse2zebra/trainB/n02391049_2481.jpg\n",
            " inflated: horse2zebra/trainB/n02391049_8028.jpg\n",
            " inflated: horse2zebra/trainB/n02391049_3153.jpg\n",
            " inflated: horse2zebra/trainB/n02391049_2946.jpg\n",
            " inflated: horse2zebra/trainB/n02391049_608.jpg\n",
            " inflated: horse2zebra/trainB/n02391049_3938.jpg\n",
            " inflated: horse2zebra/trainB/n02391049_1818.jpg\n",
            " inflated: horse2zebra/trainB/n02391049_251.jpg\n",
            " inflated: horse2zebra/trainB/n02391049_556.jpg\n",
            " inflated: horse2zebra/trainB/n02391049_10175.jpg\n",
            " inflated: horse2zebra/trainB/n02391049_10342.jpg\n",
            " inflated: horse2zebra/trainB/n02391049_1743.jpg\n",
            " inflated: horse2zebra/trainB/n02391049_514.jpg\n",
            " inflated: horse2zebra/trainB/n02391049_8075.jpg\n",
            " inflated: horse2zebra/trainB/n02391049_8209.jpg\n",
            " inflated: horse2zebra/trainB/n02391049_2024.jpg\n",
            " inflated: horse2zebra/trainB/n02391049_2627.jpg\n",
            " inflated: horse2zebra/trainB/n02391049_7668.jpg\n",
            " inflated: horse2zebra/trainB/n02391049_2549.jpg\n",
            " inflated: horse2zebra/trainB/n02391049_3165.jpg\n",
            " inflated: horse2zebra/trainB/n02391049_6565.jpg\n",
            " inflated: horse2zebra/trainB/n02391049_11.jpg\n",
            " inflated: horse2zebra/trainB/n02391049_1817.jpg\n",
            " inflated: horse2zebra/trainB/n02391049_4952.jpg\n",
            " inflated: horse2zebra/trainB/n02391049_1054.jpg\n",
            " inflated: horse2zebra/trainB/n02391049_3174.jpg\n",
            " inflated: horse2zebra/trainB/n02391049_154.jpg\n",
            " inflated: horse2zebra/trainB/n02391049_1509.jpg\n",
            " inflated: horse2zebra/trainB/n02391049_2465.jpg\n",
            " inflated: horse2zebra/trainB/n02391049_79.jpg\n",
            " inflated: horse2zebra/trainB/n02391049_4974.jpg\n",
            " inflated: horse2zebra/trainB/n02391049_8878.jpg\n",
            " inflated: horse2zebra/trainB/n02391049_4914.jpg\n",
            " inflated: horse2zebra/trainB/n02391049_2416.jpg\n",
            " inflated: horse2zebra/trainB/n02391049_2687.jpg\n",
            " inflated: horse2zebra/trainB/n02391049_2696.jpg\n",
            " inflated: horse2zebra/trainB/n02391049_3044.jpg\n",
            " inflated: horse2zebra/trainB/n02391049_329.jpg\n",
            " inflated: horse2zebra/trainB/n02391049_2451.jpg\n",
            " inflated: horse2zebra/trainB/n02391049_4748.jpg\n",
            " inflated: horse2zebra/trainB/n02391049_743.jpg\n",
            " inflated: horse2zebra/trainB/n02391049_8539.jpg\n",
            " inflated: horse2zebra/trainB/n02391049_2485.jpg\n",
            " inflated: horse2zebra/trainB/n02391049_5291.jpg\n",
            " inflated: horse2zebra/trainB/n02391049_9494.jpg\n",
            " inflated: horse2zebra/trainB/n02391049_3289.jpg\n",
            " inflated: horse2zebra/trainB/n02391049_2155.jpg\n",
            " inflated: horse2zebra/trainB/n02391049_10596.jpg\n",
            " inflated: horse2zebra/trainB/n02391049_3148.jpg\n",
            " inflated: horse2zebra/trainB/n02391049_1046.jpg\n",
            " inflated: horse2zebra/trainB/n02391049_43.jpg\n",
            " inflated: horse2zebra/trainB/n02391049_32.jpg\n",
            " inflated: horse2zebra/trainB/n02391049_1095.jpg\n",
            " inflated: horse2zebra/trainB/n02391049_3958.jpg\n",
            " inflated: horse2zebra/trainB/n02391049_5371.jpg\n",
            " inflated: horse2zebra/trainB/n02391049_6655.jpg\n",
            " inflated: horse2zebra/trainB/n02391049_7096.jpg\n",
            " inflated: horse2zebra/trainB/n02391049_3202.jpg\n",
            " inflated: horse2zebra/trainB/n02391049_487.jpg\n",
            " inflated: horse2zebra/trainB/n02391049_8291.jpg\n",
            " inflated: horse2zebra/trainB/n02391049_6503.jpg\n",
            " inflated: horse2zebra/trainB/n02391049_2218.jpg\n",
            " inflated: horse2zebra/trainB/n02391049_10165.jpg\n",
            " inflated: horse2zebra/trainB/n02391049_3306.jpg\n",
            " inflated: horse2zebra/trainB/n02391049_8526.jpg\n",
            " inflated: horse2zebra/trainB/n02391049_5679.jpg\n",
            " inflated: horse2zebra/trainB/n02391049_1973.jpg\n",
            " inflated: horse2zebra/trainB/n02391049_6804.jpg\n",
            " inflated: horse2zebra/trainB/n02391049_2819.jpg\n",
            " inflated: horse2zebra/trainB/n02391049_2731.jpg\n",
            " inflated: horse2zebra/trainB/n02391049_5788.jpg\n",
            " inflated: horse2zebra/trainB/n02391049_4161.jpg\n",
            " inflated: horse2zebra/trainB/n02391049_927.jpg\n",
            " inflated: horse2zebra/trainB/n02391049_35.jpg\n",
            " inflated: horse2zebra/trainB/n02391049_1236.jpg\n",
            " inflated: horse2zebra/trainB/n02391049_7115.jpg\n",
            " inflated: horse2zebra/trainB/n02391049_796.jpg\n",
            " inflated: horse2zebra/trainB/n02391049_2.jpg\n",
            " inflated: horse2zebra/trainB/n02391049_2748.jpg\n",
            " inflated: horse2zebra/trainB/n02391049_283.jpg\n",
            " inflated: horse2zebra/trainB/n02391049_2036.jpg\n",
            " inflated: horse2zebra/trainB/n02391049_3114.jpg\n",
            " inflated: horse2zebra/trainB/n02391049_2228.jpg\n",
            " inflated: horse2zebra/trainB/n02391049_6818.jpg\n",
            " inflated: horse2zebra/trainB/n02391049_1053.jpg\n",
            " inflated: horse2zebra/trainB/n02391049_6074.jpg\n",
            " inflated: horse2zebra/trainB/n02391049_4329.jpg\n",
            " inflated: horse2zebra/trainB/n02391049_6023.jpg\n",
            " inflated: horse2zebra/trainB/n02391049_628.jpg\n",
            " inflated: horse2zebra/trainB/n02391049_7368.jpg\n",
            " inflated: horse2zebra/trainB/n02391049_267.jpg\n",
            " inflated: horse2zebra/trainB/n02391049_1295.jpg\n",
            " inflated: horse2zebra/trainB/n02391049_7589.jpg\n",
            " inflated: horse2zebra/trainB/n02391049_5273.jpg\n",
            " inflated: horse2zebra/trainB/n02391049_1652.jpg\n",
            " inflated: horse2zebra/trainB/n02391049_2805.jpg\n",
            " inflated: horse2zebra/trainB/n02391049_949.jpg\n",
            " inflated: horse2zebra/trainB/n02391049_3371.jpg\n",
            " inflated: horse2zebra/trainB/n02391049_4863.jpg\n",
            " inflated: horse2zebra/trainB/n02391049_3844.jpg\n",
            " inflated: horse2zebra/trainB/n02391049_10591.jpg\n",
            " inflated: horse2zebra/trainB/n02391049_3339.jpg\n",
            " inflated: horse2zebra/trainB/n02391049_2166.jpg\n",
            " inflated: horse2zebra/trainB/n02391049_332.jpg\n",
            " inflated: horse2zebra/trainB/n02391049_915.jpg\n",
            " inflated: horse2zebra/trainB/n02391049_6293.jpg\n",
            " inflated: horse2zebra/trainB/n02391049_7648.jpg\n",
            " inflated: horse2zebra/trainB/n02391049_4644.jpg\n",
            " inflated: horse2zebra/trainB/n02391049_1118.jpg\n",
            " inflated: horse2zebra/trainB/n02391049_2136.jpg\n",
            " inflated: horse2zebra/trainB/n02391049_2057.jpg\n",
            " inflated: horse2zebra/trainB/n02391049_3905.jpg\n",
            " inflated: horse2zebra/trainB/n02391049_2104.jpg\n",
            " inflated: horse2zebra/trainB/n02391049_1946.jpg\n",
            " inflated: horse2zebra/trainB/n02391049_533.jpg\n",
            " inflated: horse2zebra/trainB/n02391049_5909.jpg\n",
            " inflated: horse2zebra/trainB/n02391049_2034.jpg\n",
            " inflated: horse2zebra/trainB/n02391049_6053.jpg\n",
            " inflated: horse2zebra/trainB/n02391049_3276.jpg\n",
            " inflated: horse2zebra/trainB/n02391049_909.jpg\n",
            " inflated: horse2zebra/trainB/n02391049_6951.jpg\n",
            " inflated: horse2zebra/trainB/n02391049_2177.jpg\n",
            " inflated: horse2zebra/trainB/n02391049_10158.jpg\n",
            " inflated: horse2zebra/trainB/n02391049_6386.jpg\n",
            " inflated: horse2zebra/trainB/n02391049_614.jpg\n",
            " inflated: horse2zebra/trainB/n02391049_5189.jpg\n",
            " inflated: horse2zebra/trainB/n02391049_2495.jpg\n",
            " inflated: horse2zebra/trainB/n02391049_6918.jpg\n",
            " inflated: horse2zebra/trainB/n02391049_10398.jpg\n",
            " inflated: horse2zebra/trainB/n02391049_1124.jpg\n",
            " inflated: horse2zebra/trainB/n02391049_272.jpg\n",
            " inflated: horse2zebra/trainB/n02391049_7418.jpg\n",
            " inflated: horse2zebra/trainB/n02391049_261.jpg\n",
            " inflated: horse2zebra/trainB/n02391049_745.jpg\n",
            " inflated: horse2zebra/trainB/n02391049_2656.jpg\n",
            " inflated: horse2zebra/trainB/n02391049_119.jpg\n",
            " inflated: horse2zebra/trainB/n02391049_757.jpg\n",
            " inflated: horse2zebra/trainB/n02391049_9421.jpg\n",
            " inflated: horse2zebra/trainB/n02391049_2571.jpg\n",
            " inflated: horse2zebra/trainB/n02391049_9922.jpg\n",
            " inflated: horse2zebra/trainB/n02391049_8201.jpg\n",
            " inflated: horse2zebra/trainB/n02391049_10636.jpg\n",
            " inflated: horse2zebra/trainB/n02391049_6208.jpg\n",
            " inflated: horse2zebra/trainB/n02391049_1908.jpg\n",
            " inflated: horse2zebra/trainB/n02391049_721.jpg\n",
            " inflated: horse2zebra/trainB/n02391049_2486.jpg\n",
            " inflated: horse2zebra/trainB/n02391049_638.jpg\n",
            " inflated: horse2zebra/trainB/n02391049_2967.jpg\n",
            " inflated: horse2zebra/trainB/n02391049_1135.jpg\n",
            " inflated: horse2zebra/trainB/n02391049_164.jpg\n",
            " inflated: horse2zebra/trainB/n02391049_3293.jpg\n",
            " inflated: horse2zebra/trainB/n02391049_9487.jpg\n",
            " inflated: horse2zebra/trainB/n02391049_9443.jpg\n",
            " inflated: horse2zebra/trainB/n02391049_7563.jpg\n",
            " inflated: horse2zebra/trainB/n02391049_2214.jpg\n",
            " inflated: horse2zebra/trainB/n02391049_234.jpg\n",
            " inflated: horse2zebra/trainB/n02391049_4932.jpg\n",
            " inflated: horse2zebra/trainB/n02391049_1436.jpg\n",
            " inflated: horse2zebra/trainB/n02391049_4351.jpg\n",
            " inflated: horse2zebra/trainB/n02391049_1434.jpg\n",
            " inflated: horse2zebra/trainB/n02391049_8782.jpg\n",
            " inflated: horse2zebra/trainB/n02391049_851.jpg\n",
            " inflated: horse2zebra/trainB/n02391049_475.jpg\n",
            " inflated: horse2zebra/trainB/n02391049_1551.jpg\n",
            " inflated: horse2zebra/trainB/n02391049_2926.jpg\n",
            " inflated: horse2zebra/trainB/n02391049_3139.jpg\n",
            " inflated: horse2zebra/trainB/n02391049_3949.jpg\n",
            " inflated: horse2zebra/trainB/n02391049_944.jpg\n",
            " inflated: horse2zebra/trainB/n02391049_1113.jpg\n",
            " inflated: horse2zebra/trainB/n02391049_2963.jpg\n",
            " inflated: horse2zebra/trainB/n02391049_6469.jpg\n",
            " inflated: horse2zebra/trainB/n02391049_3415.jpg\n",
            " inflated: horse2zebra/trainB/n02391049_3264.jpg\n",
            " inflated: horse2zebra/trainB/n02391049_345.jpg\n",
            " inflated: horse2zebra/trainB/n02391049_468.jpg\n",
            " inflated: horse2zebra/trainB/n02391049_3041.jpg\n",
            " inflated: horse2zebra/trainB/n02391049_3034.jpg\n",
            " inflated: horse2zebra/trainB/n02391049_9377.jpg\n",
            " inflated: horse2zebra/trainB/n02391049_1127.jpg\n",
            " inflated: horse2zebra/trainB/n02391049_2836.jpg\n",
            " inflated: horse2zebra/trainB/n02391049_1223.jpg\n",
            " inflated: horse2zebra/trainB/n02391049_1028.jpg\n",
            " inflated: horse2zebra/trainB/n02391049_2146.jpg\n",
            " inflated: horse2zebra/trainB/n02391049_3446.jpg\n",
            " inflated: horse2zebra/trainB/n02391049_10244.jpg\n",
            " inflated: horse2zebra/trainB/n02391049_10027.jpg\n",
            " inflated: horse2zebra/trainB/n02391049_1159.jpg\n",
            " inflated: horse2zebra/trainB/n02391049_3536.jpg\n",
            " inflated: horse2zebra/trainB/n02391049_3291.jpg\n",
            " inflated: horse2zebra/trainB/n02391049_5383.jpg\n",
            " inflated: horse2zebra/trainB/n02391049_2163.jpg\n",
            " inflated: horse2zebra/trainB/n02391049_1012.jpg\n",
            " inflated: horse2zebra/trainB/n02391049_596.jpg\n",
            " inflated: horse2zebra/trainB/n02391049_966.jpg\n",
            " inflated: horse2zebra/trainB/n02391049_2466.jpg\n",
            " inflated: horse2zebra/trainB/n02391049_3271.jpg\n",
            " inflated: horse2zebra/trainB/n02391049_7048.jpg\n",
            " inflated: horse2zebra/trainB/n02391049_6631.jpg\n",
            " inflated: horse2zebra/trainB/n02391049_1256.jpg\n",
            " inflated: horse2zebra/trainB/n02391049_4576.jpg\n",
            " inflated: horse2zebra/trainB/n02391049_633.jpg\n",
            " inflated: horse2zebra/trainB/n02391049_1555.jpg\n",
            " inflated: horse2zebra/trainB/n02391049_752.jpg\n",
            " inflated: horse2zebra/trainB/n02391049_929.jpg\n",
            " inflated: horse2zebra/trainB/n02391049_976.jpg\n",
            " inflated: horse2zebra/trainB/n02391049_8008.jpg\n",
            " inflated: horse2zebra/trainB/n02391049_2229.jpg\n",
            " inflated: horse2zebra/trainB/n02391049_425.jpg\n",
            " inflated: horse2zebra/trainB/n02391049_74.jpg\n",
            " inflated: horse2zebra/trainB/n02391049_1725.jpg\n",
            " inflated: horse2zebra/trainB/n02391049_9135.jpg\n",
            " inflated: horse2zebra/trainB/n02391049_6245.jpg\n",
            " inflated: horse2zebra/trainB/n02391049_496.jpg\n",
            " inflated: horse2zebra/trainB/n02391049_718.jpg\n",
            " inflated: horse2zebra/trainB/n02391049_10427.jpg\n",
            " inflated: horse2zebra/trainB/n02391049_10339.jpg\n",
            " inflated: horse2zebra/trainB/n02391049_5908.jpg\n",
            " inflated: horse2zebra/trainB/n02391049_1937.jpg\n",
            " inflated: horse2zebra/trainB/n02391049_10209.jpg\n",
            " inflated: horse2zebra/trainB/n02391049_9911.jpg\n",
            " inflated: horse2zebra/trainB/n02391049_5924.jpg\n",
            " inflated: horse2zebra/trainB/n02391049_3937.jpg\n",
            " inflated: horse2zebra/trainB/n02391049_10295.jpg\n",
            " inflated: horse2zebra/trainB/n02391049_2782.jpg\n",
            " inflated: horse2zebra/trainB/n02391049_925.jpg\n",
            " inflated: horse2zebra/trainB/n02391049_2794.jpg\n",
            " inflated: horse2zebra/trainB/n02391049_2895.jpg\n",
            " inflated: horse2zebra/trainB/n02391049_1004.jpg\n",
            " inflated: horse2zebra/trainB/n02391049_834.jpg\n",
            " inflated: horse2zebra/trainB/n02391049_1026.jpg\n",
            " inflated: horse2zebra/trainB/n02391049_7466.jpg\n",
            " inflated: horse2zebra/trainB/n02391049_7318.jpg\n",
            " inflated: horse2zebra/trainB/n02391049_2784.jpg\n",
            " inflated: horse2zebra/trainB/n02391049_333.jpg\n",
            " inflated: horse2zebra/trainB/n02391049_5121.jpg\n",
            " inflated: horse2zebra/trainB/n02391049_6236.jpg\n",
            " inflated: horse2zebra/trainB/n02391049_2457.jpg\n",
            " inflated: horse2zebra/trainB/n02391049_733.jpg\n",
            " inflated: horse2zebra/trainB/n02391049_3098.jpg\n",
            " inflated: horse2zebra/trainB/n02391049_1479.jpg\n",
            " inflated: horse2zebra/trainB/n02391049_1721.jpg\n",
            " inflated: horse2zebra/trainB/n02391049_2997.jpg\n",
            " inflated: horse2zebra/trainB/n02391049_4704.jpg\n",
            " inflated: horse2zebra/trainB/n02391049_5131.jpg\n",
            " inflated: horse2zebra/trainB/n02391049_286.jpg\n",
            " inflated: horse2zebra/trainB/n02391049_58.jpg\n",
            " inflated: horse2zebra/trainB/n02391049_686.jpg\n",
            " inflated: horse2zebra/trainB/n02391049_11128.jpg\n",
            " inflated: horse2zebra/trainB/n02391049_1163.jpg\n",
            " inflated: horse2zebra/trainB/n02391049_738.jpg\n",
            " inflated: horse2zebra/trainB/n02391049_6413.jpg\n",
            " inflated: horse2zebra/trainB/n02391049_8148.jpg\n",
            " inflated: horse2zebra/trainB/n02391049_704.jpg\n",
            " inflated: horse2zebra/trainB/n02391049_276.jpg\n",
            " inflated: horse2zebra/trainB/n02391049_9519.jpg\n",
            " inflated: horse2zebra/trainB/n02391049_1524.jpg\n",
            " inflated: horse2zebra/trainB/n02391049_7319.jpg\n",
            " inflated: horse2zebra/trainB/n02391049_4638.jpg\n",
            " inflated: horse2zebra/trainB/n02391049_897.jpg\n",
            " inflated: horse2zebra/trainB/n02391049_3085.jpg\n",
            " inflated: horse2zebra/trainB/n02391049_2141.jpg\n",
            " inflated: horse2zebra/trainB/n02391049_9497.jpg\n",
            " inflated: horse2zebra/trainB/n02391049_2478.jpg\n",
            " inflated: horse2zebra/trainB/n02391049_6683.jpg\n",
            " inflated: horse2zebra/trainB/n02391049_39.jpg\n",
            " inflated: horse2zebra/trainB/n02391049_8301.jpg\n",
            " inflated: horse2zebra/trainB/n02391049_171.jpg\n",
            " inflated: horse2zebra/trainB/n02391049_1038.jpg\n",
            " inflated: horse2zebra/trainB/n02391049_1417.jpg\n",
            " inflated: horse2zebra/trainB/n02391049_9532.jpg\n",
            " inflated: horse2zebra/trainB/n02391049_5637.jpg\n",
            " inflated: horse2zebra/trainB/n02391049_4677.jpg\n",
            " inflated: horse2zebra/trainB/n02391049_2464.jpg\n",
            " inflated: horse2zebra/trainB/n02391049_2785.jpg\n",
            " inflated: horse2zebra/trainB/n02391049_7851.jpg\n",
            " inflated: horse2zebra/trainB/n02391049_7581.jpg\n",
            " inflated: horse2zebra/trainB/n02391049_2883.jpg\n",
            " inflated: horse2zebra/trainB/n02391049_2781.jpg\n",
            " inflated: horse2zebra/trainB/n02391049_3079.jpg\n",
            " inflated: horse2zebra/trainB/n02391049_146.jpg\n",
            " inflated: horse2zebra/trainB/n02391049_9062.jpg\n",
            " inflated: horse2zebra/trainB/n02391049_121.jpg\n",
            " inflated: horse2zebra/trainB/n02391049_10966.jpg\n",
            " inflated: horse2zebra/trainB/n02391049_314.jpg\n",
            " inflated: horse2zebra/trainB/n02391049_6957.jpg\n",
            " inflated: horse2zebra/trainB/n02391049_659.jpg\n",
            " inflated: horse2zebra/trainB/n02391049_3365.jpg\n",
            " inflated: horse2zebra/trainB/n02391049_6564.jpg\n",
            " inflated: horse2zebra/trainB/n02391049_9365.jpg\n",
            " inflated: horse2zebra/trainB/n02391049_788.jpg\n",
            " inflated: horse2zebra/trainB/n02391049_5208.jpg\n",
            " inflated: horse2zebra/trainB/n02391049_2637.jpg\n",
            " inflated: horse2zebra/trainB/n02391049_5985.jpg\n",
            " inflated: horse2zebra/trainB/n02391049_2671.jpg\n",
            " inflated: horse2zebra/trainB/n02391049_4.jpg\n",
            " inflated: horse2zebra/trainB/n02391049_2922.jpg\n",
            " inflated: horse2zebra/trainB/n02391049_1992.jpg\n",
            " inflated: horse2zebra/trainB/n02391049_2714.jpg\n",
            " inflated: horse2zebra/trainB/n02391049_36.jpg\n",
            " inflated: horse2zebra/trainB/n02391049_9441.jpg\n",
            " inflated: horse2zebra/trainB/n02391049_3087.jpg\n",
            " inflated: horse2zebra/trainB/n02391049_7324.jpg\n",
            " inflated: horse2zebra/trainB/n02391049_1188.jpg\n",
            " inflated: horse2zebra/trainB/n02391049_497.jpg\n",
            " inflated: horse2zebra/trainB/n02391049_9844.jpg\n",
            " inflated: horse2zebra/trainB/n02391049_2111.jpg\n",
            " inflated: horse2zebra/trainB/n02391049_4873.jpg\n",
            " inflated: horse2zebra/trainB/n02391049_541.jpg\n",
            " inflated: horse2zebra/trainB/n02391049_2818.jpg\n",
            " inflated: horse2zebra/trainB/n02391049_626.jpg\n",
            " inflated: horse2zebra/trainB/n02391049_3428.jpg\n",
            " inflated: horse2zebra/trainB/n02391049_6922.jpg\n",
            " inflated: horse2zebra/trainB/n02391049_463.jpg\n",
            " inflated: horse2zebra/trainB/n02391049_2853.jpg\n",
            " inflated: horse2zebra/trainB/n02391049_2825.jpg\n",
            " inflated: horse2zebra/trainB/n02391049_7584.jpg\n",
            " inflated: horse2zebra/trainB/n02391049_167.jpg\n",
            " inflated: horse2zebra/trainB/n02391049_152.jpg\n",
            " inflated: horse2zebra/trainB/n02391049_4889.jpg\n",
            " inflated: horse2zebra/trainB/n02391049_2651.jpg\n",
            " inflated: horse2zebra/trainB/n02391049_9427.jpg\n",
            " inflated: horse2zebra/trainB/n02391049_3072.jpg\n",
            " inflated: horse2zebra/trainB/n02391049_10007.jpg\n",
            " inflated: horse2zebra/trainB/n02391049_2341.jpg\n",
            " inflated: horse2zebra/trainB/n02391049_3917.jpg\n",
            " inflated: horse2zebra/trainB/n02391049_6546.jpg\n",
            " inflated: horse2zebra/trainB/n02391049_6582.jpg\n",
            " inflated: horse2zebra/trainB/n02391049_4448.jpg\n",
            " inflated: horse2zebra/trainB/n02391049_2674.jpg\n",
            " inflated: horse2zebra/trainB/n02391049_1309.jpg\n",
            " inflated: horse2zebra/trainB/n02391049_2379.jpg\n",
            " inflated: horse2zebra/trainB/n02391049_2636.jpg\n",
            " inflated: horse2zebra/trainB/n02391049_4747.jpg\n",
            " inflated: horse2zebra/trainB/n02391049_9309.jpg\n",
            " inflated: horse2zebra/trainB/n02391049_7038.jpg\n",
            " inflated: horse2zebra/trainB/n02391049_9656.jpg\n",
            " inflated: horse2zebra/trainB/n02391049_921.jpg\n",
            " inflated: horse2zebra/trainB/n02391049_2584.jpg\n",
            " inflated: horse2zebra/trainB/n02391049_932.jpg\n",
            " inflated: horse2zebra/trainB/n02391049_353.jpg\n",
            " inflated: horse2zebra/trainB/n02391049_9965.jpg\n",
            " inflated: horse2zebra/trainB/n02391049_2758.jpg\n",
            " inflated: horse2zebra/trainB/n02391049_1267.jpg\n",
            " inflated: horse2zebra/trainB/n02391049_3031.jpg\n",
            " inflated: horse2zebra/trainB/n02391049_2659.jpg\n",
            " inflated: horse2zebra/trainB/n02391049_2857.jpg\n",
            " inflated: horse2zebra/trainB/n02391049_707.jpg\n",
            " inflated: horse2zebra/trainB/n02391049_7512.jpg\n",
            " inflated: horse2zebra/trainB/n02391049_985.jpg\n",
            " inflated: horse2zebra/trainB/n02391049_536.jpg\n",
            " inflated: horse2zebra/trainB/n02391049_4682.jpg\n",
            " inflated: horse2zebra/trainB/n02391049_306.jpg\n",
            " inflated: horse2zebra/trainB/n02391049_2681.jpg\n",
            " inflated: horse2zebra/trainB/n02391049_2333.jpg\n",
            " inflated: horse2zebra/trainB/n02391049_328.jpg\n",
            " inflated: horse2zebra/trainB/n02391049_7018.jpg\n",
            " inflated: horse2zebra/trainB/n02391049_1852.jpg\n",
            " inflated: horse2zebra/trainB/n02391049_924.jpg\n",
            " inflated: horse2zebra/trainB/n02391049_6385.jpg\n",
            " inflated: horse2zebra/trainB/n02391049_3426.jpg\n",
            " inflated: horse2zebra/trainB/n02391049_7927.jpg\n",
            " inflated: horse2zebra/trainB/n02391049_6471.jpg\n",
            " inflated: horse2zebra/trainB/n02391049_9478.jpg\n",
            " inflated: horse2zebra/trainB/n02391049_2741.jpg\n",
            " inflated: horse2zebra/trainB/n02391049_2363.jpg\n",
            " inflated: horse2zebra/trainB/n02391049_10322.jpg\n",
            " inflated: horse2zebra/trainB/n02391049_2957.jpg\n",
            " inflated: horse2zebra/trainB/n02391049_101.jpg\n",
            " inflated: horse2zebra/trainB/n02391049_87.jpg\n",
            " inflated: horse2zebra/trainB/n02391049_1211.jpg\n",
            " inflated: horse2zebra/trainB/n02391049_1105.jpg\n",
            " inflated: horse2zebra/trainB/n02391049_2663.jpg\n",
            " inflated: horse2zebra/trainB/n02391049_776.jpg\n",
            " inflated: horse2zebra/trainB/n02391049_4292.jpg\n",
            " inflated: horse2zebra/trainB/n02391049_7645.jpg\n",
            " inflated: horse2zebra/trainB/n02391049_3578.jpg\n",
            " inflated: horse2zebra/trainB/n02391049_2408.jpg\n",
            " inflated: horse2zebra/trainB/n02391049_2258.jpg\n",
            " inflated: horse2zebra/trainB/n02391049_1464.jpg\n",
            " inflated: horse2zebra/trainB/n02391049_7919.jpg\n",
            " inflated: horse2zebra/trainB/n02391049_3081.jpg\n",
            " inflated: horse2zebra/trainB/n02391049_3221.jpg\n",
            " inflated: horse2zebra/trainB/n02391049_627.jpg\n",
            " inflated: horse2zebra/trainB/n02391049_9747.jpg\n",
            " inflated: horse2zebra/trainB/n02391049_1535.jpg\n",
            " inflated: horse2zebra/trainB/n02391049_978.jpg\n",
            " inflated: horse2zebra/trainB/n02391049_2824.jpg\n",
            " inflated: horse2zebra/trainB/n02391049_6216.jpg\n",
            " inflated: horse2zebra/trainB/n02391049_4693.jpg\n",
            " inflated: horse2zebra/trainB/n02391049_6159.jpg\n",
            " inflated: horse2zebra/trainB/n02391049_787.jpg\n",
            " inflated: horse2zebra/trainB/n02391049_2524.jpg\n",
            " inflated: horse2zebra/trainB/n02391049_11041.jpg\n",
            " inflated: horse2zebra/trainB/n02391049_6097.jpg\n",
            " inflated: horse2zebra/trainB/n02391049_2579.jpg\n",
            " inflated: horse2zebra/trainB/n02391049_578.jpg\n",
            " inflated: horse2zebra/trainB/n02391049_4069.jpg\n",
            " inflated: horse2zebra/trainB/n02391049_10047.jpg\n",
            " inflated: horse2zebra/trainB/n02391049_2356.jpg\n",
            " inflated: horse2zebra/trainB/n02391049_1099.jpg\n",
            " inflated: horse2zebra/trainB/n02391049_2941.jpg\n",
            " inflated: horse2zebra/trainB/n02391049_4525.jpg\n",
            " inflated: horse2zebra/trainB/n02391049_9705.jpg\n",
            " inflated: horse2zebra/trainB/n02391049_841.jpg\n",
            " inflated: horse2zebra/trainB/n02391049_1875.jpg\n",
            " inflated: horse2zebra/trainB/n02391049_8192.jpg\n",
            " inflated: horse2zebra/trainB/n02391049_999.jpg\n",
            " inflated: horse2zebra/trainB/n02391049_2184.jpg\n",
            " inflated: horse2zebra/trainB/n02391049_1441.jpg\n",
            " inflated: horse2zebra/trainB/n02391049_4901.jpg\n",
            " inflated: horse2zebra/trainB/n02391049_4896.jpg\n",
            " inflated: horse2zebra/trainB/n02391049_1442.jpg\n",
            " inflated: horse2zebra/trainB/n02391049_45.jpg\n",
            " inflated: horse2zebra/trainB/n02391049_6487.jpg\n",
            " inflated: horse2zebra/trainB/n02391049_3238.jpg\n",
            " inflated: horse2zebra/trainB/n02391049_9499.jpg\n",
            " inflated: horse2zebra/trainB/n02391049_2191.jpg\n",
            " inflated: horse2zebra/trainB/n02391049_2448.jpg\n",
            " inflated: horse2zebra/trainB/n02391049_4034.jpg\n",
            " inflated: horse2zebra/trainB/n02391049_5853.jpg\n",
            " inflated: horse2zebra/trainB/n02391049_10597.jpg\n",
            " inflated: horse2zebra/trainB/n02391049_9524.jpg\n",
            " inflated: horse2zebra/trainB/n02391049_7071.jpg\n",
            " inflated: horse2zebra/trainB/n02391049_2871.jpg\n",
            " inflated: horse2zebra/trainB/n02391049_3749.jpg\n",
            " inflated: horse2zebra/trainB/n02391049_10356.jpg\n",
            " inflated: horse2zebra/trainB/n02391049_2831.jpg\n",
            " inflated: horse2zebra/trainB/n02391049_993.jpg\n",
            " inflated: horse2zebra/trainB/n02391049_285.jpg\n",
            " inflated: horse2zebra/trainB/n02391049_9137.jpg\n",
            " inflated: horse2zebra/trainB/n02391049_719.jpg\n",
            " inflated: horse2zebra/trainB/n02391049_2798.jpg\n",
            " inflated: horse2zebra/trainB/n02391049_2367.jpg\n",
            " inflated: horse2zebra/trainB/n02391049_629.jpg\n",
            " inflated: horse2zebra/trainB/n02391049_773.jpg\n",
            " inflated: horse2zebra/trainB/n02391049_4475.jpg\n",
            " inflated: horse2zebra/trainB/n02391049_8488.jpg\n",
            " inflated: horse2zebra/trainB/n02391049_2639.jpg\n",
            " inflated: horse2zebra/trainB/n02391049_3509.jpg\n",
            " inflated: horse2zebra/trainB/n02391049_1314.jpg\n",
            " inflated: horse2zebra/trainB/n02391049_2281.jpg\n",
            " inflated: horse2zebra/trainB/n02391049_2183.jpg\n",
            " inflated: horse2zebra/trainB/n02391049_6962.jpg\n",
            " inflated: horse2zebra/trainB/n02391049_2838.jpg\n",
            " inflated: horse2zebra/trainB/n02391049_7566.jpg\n",
            " inflated: horse2zebra/trainB/n02391049_3253.jpg\n",
            " inflated: horse2zebra/trainB/n02391049_2633.jpg\n",
            " inflated: horse2zebra/trainB/n02391049_2973.jpg\n",
            " inflated: horse2zebra/trainB/n02391049_5295.jpg\n",
            " inflated: horse2zebra/trainB/n02391049_6227.jpg\n",
            " inflated: horse2zebra/trainB/n02391049_8334.jpg\n",
            " inflated: horse2zebra/trainB/n02391049_1174.jpg\n",
            " inflated: horse2zebra/trainB/n02391049_3266.jpg\n",
            " inflated: horse2zebra/trainB/n02391049_3868.jpg\n",
            " inflated: horse2zebra/trainB/n02391049_5633.jpg\n",
            " inflated: horse2zebra/trainB/n02391049_4903.jpg\n",
            " inflated: horse2zebra/trainB/n02391049_3091.jpg\n",
            " inflated: horse2zebra/trainB/n02391049_2879.jpg\n",
            " inflated: horse2zebra/trainB/n02391049_7457.jpg\n",
            " inflated: horse2zebra/trainB/n02391049_63.jpg\n",
            " inflated: horse2zebra/trainB/n02391049_9979.jpg\n",
            " inflated: horse2zebra/trainB/n02391049_407.jpg\n",
            " inflated: horse2zebra/trainB/n02391049_5169.jpg\n",
            " inflated: horse2zebra/trainB/n02391049_2593.jpg\n",
            " inflated: horse2zebra/trainB/n02391049_2003.jpg\n",
            " inflated: horse2zebra/trainB/n02391049_3251.jpg\n",
            " inflated: horse2zebra/trainB/n02391049_3333.jpg\n",
            " inflated: horse2zebra/trainB/n02391049_6622.jpg\n",
            " inflated: horse2zebra/trainB/n02391049_3771.jpg\n",
            " inflated: horse2zebra/trainB/n02391049_2964.jpg\n",
            " inflated: horse2zebra/trainB/n02391049_8982.jpg\n",
            " inflated: horse2zebra/trainB/n02391049_8021.jpg\n",
            " inflated: horse2zebra/trainB/n02391049_4965.jpg\n",
            " inflated: horse2zebra/trainB/n02391049_3326.jpg\n",
            " inflated: horse2zebra/trainB/n02391049_9528.jpg\n",
            " inflated: horse2zebra/trainB/n02391049_2877.jpg\n",
            " inflated: horse2zebra/trainB/n02391049_1404.jpg\n",
            " inflated: horse2zebra/trainB/n02391049_5527.jpg\n",
            " inflated: horse2zebra/trainB/n02391049_9864.jpg\n",
            " inflated: horse2zebra/trainB/n02391049_1191.jpg\n",
            " inflated: horse2zebra/trainB/n02391049_2906.jpg\n",
            " inflated: horse2zebra/trainB/n02391049_1064.jpg\n",
            " inflated: horse2zebra/trainB/n02391049_1148.jpg\n",
            " inflated: horse2zebra/trainB/n02391049_2901.jpg\n",
            " inflated: horse2zebra/trainB/n02391049_2231.jpg\n",
            " inflated: horse2zebra/trainB/n02391049_1526.jpg\n",
            " inflated: horse2zebra/trainB/n02391049_873.jpg\n",
            " inflated: horse2zebra/trainB/n02391049_2597.jpg\n",
            " inflated: horse2zebra/trainB/n02391049_1086.jpg\n",
            " inflated: horse2zebra/trainB/n02391049_2684.jpg\n",
            " inflated: horse2zebra/trainB/n02391049_725.jpg\n",
            " inflated: horse2zebra/trainB/n02391049_8616.jpg\n",
            " inflated: horse2zebra/trainB/n02391049_685.jpg\n",
            " inflated: horse2zebra/trainB/n02391049_5782.jpg\n",
            " inflated: horse2zebra/trainB/n02391049_403.jpg\n",
            " inflated: horse2zebra/trainB/n02391049_601.jpg\n",
            " inflated: horse2zebra/trainB/n02391049_1846.jpg\n",
            " inflated: horse2zebra/trainB/n02391049_6664.jpg\n",
            " inflated: horse2zebra/trainB/n02391049_715.jpg\n",
            " inflated: horse2zebra/trainB/n02391049_483.jpg\n",
            " inflated: horse2zebra/trainB/n02391049_2959.jpg\n",
            " inflated: horse2zebra/trainB/n02391049_9533.jpg\n",
            " inflated: horse2zebra/trainB/n02391049_5789.jpg\n",
            " inflated: horse2zebra/trainB/n02391049_6629.jpg\n",
            " inflated: horse2zebra/trainB/n02391049_3513.jpg\n",
            " inflated: horse2zebra/trainB/n02391049_10063.jpg\n",
            " inflated: horse2zebra/trainB/n02391049_8689.jpg\n",
            " inflated: horse2zebra/trainB/n02391049_2829.jpg\n",
            " inflated: horse2zebra/trainB/n02391049_7683.jpg\n",
            " inflated: horse2zebra/trainB/n02391049_22.jpg\n",
            " inflated: horse2zebra/trainB/n02391049_109.jpg\n",
            " inflated: horse2zebra/trainB/n02391049_406.jpg\n",
            " inflated: horse2zebra/trainB/n02391049_602.jpg\n",
            " inflated: horse2zebra/trainB/n02391049_2911.jpg\n",
            " inflated: horse2zebra/trainB/n02391049_2691.jpg\n",
            " inflated: horse2zebra/trainB/n02391049_3086.jpg\n",
            " inflated: horse2zebra/trainB/n02391049_4189.jpg\n",
            " inflated: horse2zebra/trainB/n02391049_1199.jpg\n",
            " inflated: horse2zebra/trainB/n02391049_10435.jpg\n",
            " inflated: horse2zebra/trainB/n02391049_2386.jpg\n",
            " inflated: horse2zebra/trainB/n02391049_786.jpg\n",
            " inflated: horse2zebra/trainB/n02391049_8994.jpg\n",
            " inflated: horse2zebra/trainB/n02391049_4879.jpg\n",
            " inflated: horse2zebra/trainB/n02391049_4734.jpg\n",
            " inflated: horse2zebra/trainB/n02391049_2372.jpg\n",
            " inflated: horse2zebra/trainB/n02391049_8593.jpg\n",
            " inflated: horse2zebra/trainB/n02391049_7258.jpg\n",
            " inflated: horse2zebra/trainB/n02391049_268.jpg\n",
            " inflated: horse2zebra/trainB/n02391049_699.jpg\n",
            " inflated: horse2zebra/trainB/n02391049_2905.jpg\n",
            " inflated: horse2zebra/trainB/n02391049_10131.jpg\n",
            " inflated: horse2zebra/trainB/n02391049_2788.jpg\n",
            " inflated: horse2zebra/trainB/n02391049_1063.jpg\n",
            " inflated: horse2zebra/trainB/n02391049_6935.jpg\n",
            " inflated: horse2zebra/trainB/n02391049_2091.jpg\n",
            " inflated: horse2zebra/trainB/n02391049_2875.jpg\n",
            " inflated: horse2zebra/trainB/n02391049_9055.jpg\n",
            " inflated: horse2zebra/trainB/n02391049_7979.jpg\n",
            " inflated: horse2zebra/trainB/n02391049_5618.jpg\n",
            " inflated: horse2zebra/trainB/n02391049_2766.jpg\n",
            " inflated: horse2zebra/trainB/n02391049_8394.jpg\n",
            " inflated: horse2zebra/trainB/n02391049_4839.jpg\n",
            " inflated: horse2zebra/trainB/n02391049_6735.jpg\n",
            " inflated: horse2zebra/trainB/n02391049_2477.jpg\n",
            " inflated: horse2zebra/trainB/n02391049_85.jpg\n",
            " inflated: horse2zebra/trainB/n02391049_2616.jpg\n",
            " inflated: horse2zebra/trainB/n02391049_1145.jpg\n",
            " inflated: horse2zebra/trainB/n02391049_857.jpg\n",
            " inflated: horse2zebra/trainB/n02391049_3294.jpg\n",
            " inflated: horse2zebra/trainB/n02391049_916.jpg\n",
            " inflated: horse2zebra/trainB/n02391049_3324.jpg\n",
            " inflated: horse2zebra/trainB/n02391049_396.jpg\n",
            " inflated: horse2zebra/trainB/n02391049_9629.jpg\n",
            " inflated: horse2zebra/trainB/n02391049_9626.jpg\n",
            " inflated: horse2zebra/trainB/n02391049_5586.jpg\n",
            " inflated: horse2zebra/trainB/n02391049_7409.jpg\n",
            " inflated: horse2zebra/trainB/n02391049_108.jpg\n",
            " inflated: horse2zebra/trainB/n02391049_1952.jpg\n",
            " inflated: horse2zebra/trainB/n02391049_1181.jpg\n",
            " inflated: horse2zebra/trainB/n02391049_7416.jpg\n",
            " inflated: horse2zebra/trainB/n02391049_1789.jpg\n",
            " inflated: horse2zebra/trainB/n02391049_9726.jpg\n",
            " inflated: horse2zebra/trainB/n02391049_2803.jpg\n",
            " inflated: horse2zebra/trainB/n02391049_1131.jpg\n",
            " inflated: horse2zebra/trainB/n02391049_3267.jpg\n",
            " inflated: horse2zebra/trainB/n02391049_2817.jpg\n",
            " inflated: horse2zebra/trainB/n02391049_404.jpg\n",
            " inflated: horse2zebra/trainB/n02391049_421.jpg\n",
            " inflated: horse2zebra/trainB/n02391049_7236.jpg\n",
            " inflated: horse2zebra/trainB/n02391049_8288.jpg\n",
            " inflated: horse2zebra/trainB/n02391049_1567.jpg\n",
            " inflated: horse2zebra/trainB/n02391049_6517.jpg\n",
            " inflated: horse2zebra/trainB/n02391049_7721.jpg\n",
            " inflated: horse2zebra/trainB/n02391049_984.jpg\n",
            " inflated: horse2zebra/trainB/n02391049_2747.jpg\n",
            " inflated: horse2zebra/trainB/n02391049_2749.jpg\n",
            " inflated: horse2zebra/trainB/n02391049_3053.jpg\n",
            " inflated: horse2zebra/trainB/n02391049_8831.jpg\n",
            " inflated: horse2zebra/trainB/n02391049_392.jpg\n",
            " inflated: horse2zebra/trainB/n02391049_3096.jpg\n",
            " inflated: horse2zebra/trainB/n02391049_7306.jpg\n",
            " inflated: horse2zebra/trainB/n02391049_2588.jpg\n",
            " inflated: horse2zebra/trainB/n02391049_611.jpg\n",
            " inflated: horse2zebra/trainB/n02391049_2935.jpg\n",
            " inflated: horse2zebra/trainB/n02391049_2014.jpg\n",
            " inflated: horse2zebra/trainB/n02391049_918.jpg\n",
            " inflated: horse2zebra/trainB/n02391049_1184.jpg\n",
            " inflated: horse2zebra/trainB/n02391049_957.jpg\n",
            " inflated: horse2zebra/trainB/n02391049_2585.jpg\n",
            " inflated: horse2zebra/trainB/n02391049_2888.jpg\n",
            " inflated: horse2zebra/trainB/n02391049_3026.jpg\n",
            " inflated: horse2zebra/trainB/n02391049_5276.jpg\n",
            " inflated: horse2zebra/trainB/n02391049_161.jpg\n",
            " inflated: horse2zebra/trainB/n02391049_10336.jpg\n",
            " inflated: horse2zebra/trainB/n02391049_2165.jpg\n",
            " inflated: horse2zebra/trainB/n02391049_501.jpg\n",
            " inflated: horse2zebra/trainB/n02391049_3069.jpg\n",
            " inflated: horse2zebra/trainB/n02391049_6775.jpg\n",
            " inflated: horse2zebra/trainB/n02391049_2405.jpg\n",
            " inflated: horse2zebra/trainB/n02391049_1827.jpg\n",
            " inflated: horse2zebra/trainB/n02391049_10123.jpg\n",
            " inflated: horse2zebra/trainB/n02391049_7847.jpg\n",
            " inflated: horse2zebra/trainB/n02391049_2876.jpg\n",
            " inflated: horse2zebra/trainB/n02391049_3177.jpg\n",
            " inflated: horse2zebra/trainB/n02391049_1195.jpg\n",
            " inflated: horse2zebra/trainB/n02391049_10682.jpg\n",
            " inflated: horse2zebra/trainB/n02391049_1129.jpg\n",
            " inflated: horse2zebra/trainB/n02391049_675.jpg\n",
            " inflated: horse2zebra/trainB/n02391049_3162.jpg\n",
            " inflated: horse2zebra/trainB/n02391049_2469.jpg\n",
            " inflated: horse2zebra/trainB/n02391049_2631.jpg\n",
            " inflated: horse2zebra/trainB/n02391049_2609.jpg\n",
            " inflated: horse2zebra/trainB/n02391049_5714.jpg\n",
            " inflated: horse2zebra/trainB/n02391049_1742.jpg\n",
            " inflated: horse2zebra/trainB/n02391049_10749.jpg\n",
            " inflated: horse2zebra/trainB/n02391049_2018.jpg\n",
            " inflated: horse2zebra/trainB/n02391049_1855.jpg\n",
            " inflated: horse2zebra/trainB/n02391049_621.jpg\n",
            " inflated: horse2zebra/trainB/n02391049_2221.jpg\n",
            " inflated: horse2zebra/trainB/n02391049_2702.jpg\n",
            " inflated: horse2zebra/trainB/n02391049_7378.jpg\n",
            " inflated: horse2zebra/trainB/n02391049_5755.jpg\n",
            " inflated: horse2zebra/trainB/n02391049_2437.jpg\n",
            " inflated: horse2zebra/trainB/n02391049_2752.jpg\n",
            " inflated: horse2zebra/trainB/n02391049_166.jpg\n",
            " inflated: horse2zebra/trainB/n02391049_2337.jpg\n",
            " inflated: horse2zebra/trainB/n02391049_163.jpg\n",
            " inflated: horse2zebra/trainB/n02391049_9583.jpg\n",
            " inflated: horse2zebra/trainB/n02391049_7557.jpg\n",
            " inflated: horse2zebra/trainB/n02391049_676.jpg\n",
            " inflated: horse2zebra/trainB/n02391049_943.jpg\n",
            " inflated: horse2zebra/trainB/n02391049_1097.jpg\n",
            " inflated: horse2zebra/trainB/n02391049_10129.jpg\n",
            " inflated: horse2zebra/trainB/n02391049_41.jpg\n",
            " inflated: horse2zebra/trainB/n02391049_10754.jpg\n",
            " inflated: horse2zebra/trainB/n02391049_1355.jpg\n",
            " inflated: horse2zebra/trainB/n02391049_6317.jpg\n",
            " inflated: horse2zebra/trainB/n02391049_3319.jpg\n",
            " inflated: horse2zebra/trainB/n02391049_3805.jpg\n",
            " inflated: horse2zebra/trainB/n02391049_9625.jpg\n",
            " inflated: horse2zebra/trainB/n02391049_587.jpg\n",
            " inflated: horse2zebra/trainB/n02391049_2518.jpg\n",
            " inflated: horse2zebra/trainB/n02391049_9951.jpg\n",
            " inflated: horse2zebra/trainB/n02391049_9317.jpg\n",
            " inflated: horse2zebra/trainB/n02391049_713.jpg\n",
            " inflated: horse2zebra/trainB/n02391049_2322.jpg\n",
            " inflated: horse2zebra/trainB/n02391049_127.jpg\n",
            " inflated: horse2zebra/trainB/n02391049_6856.jpg\n",
            " inflated: horse2zebra/trainB/n02391049_1378.jpg\n",
            " inflated: horse2zebra/trainB/n02391049_605.jpg\n",
            " inflated: horse2zebra/trainB/n02391049_3317.jpg\n",
            " inflated: horse2zebra/trainB/n02391049_2693.jpg\n",
            " inflated: horse2zebra/trainB/n02391049_1419.jpg\n",
            " inflated: horse2zebra/trainB/n02391049_8855.jpg\n",
            " inflated: horse2zebra/trainB/n02391049_1125.jpg\n",
            " inflated: horse2zebra/trainB/n02391049_25.jpg\n",
            " inflated: horse2zebra/trainB/n02391049_913.jpg\n",
            " inflated: horse2zebra/trainB/n02391049_9058.jpg\n",
            " inflated: horse2zebra/trainB/n02391049_3187.jpg\n",
            " inflated: horse2zebra/trainB/n02391049_551.jpg\n",
            " inflated: horse2zebra/trainB/n02391049_18.jpg\n",
            " inflated: horse2zebra/trainB/n02391049_2771.jpg\n",
            " inflated: horse2zebra/trainB/n02391049_809.jpg\n",
            " inflated: horse2zebra/trainB/n02391049_2491.jpg\n",
            " inflated: horse2zebra/trainB/n02391049_7364.jpg\n",
            " inflated: horse2zebra/trainB/n02391049_4261.jpg\n",
            " inflated: horse2zebra/trainB/n02391049_221.jpg\n",
            " inflated: horse2zebra/trainB/n02391049_1884.jpg\n",
            " inflated: horse2zebra/trainB/n02391049_3137.jpg\n",
            " inflated: horse2zebra/trainB/n02391049_5661.jpg\n",
            " inflated: horse2zebra/trainB/n02391049_6919.jpg\n",
            " inflated: horse2zebra/trainB/n02391049_2297.jpg\n",
            " inflated: horse2zebra/trainB/n02391049_4814.jpg\n",
            " inflated: horse2zebra/trainB/n02391049_4445.jpg\n",
            " inflated: horse2zebra/trainB/n02391049_3314.jpg\n",
            " inflated: horse2zebra/trainB/n02391049_3232.jpg\n",
            " inflated: horse2zebra/trainB/n02391049_10122.jpg\n",
            " inflated: horse2zebra/trainB/n02391049_847.jpg\n",
            " inflated: horse2zebra/trainB/n02391049_4584.jpg\n",
            " inflated: horse2zebra/trainB/n02391049_10239.jpg\n",
            " inflated: horse2zebra/trainB/n02391049_3088.jpg\n",
            " inflated: horse2zebra/trainB/n02391049_1495.jpg\n",
            " inflated: horse2zebra/trainB/n02391049_3158.jpg\n",
            " inflated: horse2zebra/trainB/n02391049_969.jpg\n",
            " inflated: horse2zebra/trainB/n02391049_461.jpg\n",
            " inflated: horse2zebra/trainB/n02391049_8158.jpg\n",
            " inflated: horse2zebra/trainB/n02391049_9303.jpg\n",
            " inflated: horse2zebra/trainB/n02391049_9016.jpg\n",
            " inflated: horse2zebra/trainB/n02391049_3149.jpg\n",
            " inflated: horse2zebra/trainB/n02391049_2286.jpg\n",
            " inflated: horse2zebra/trainB/n02391049_9331.jpg\n",
            " inflated: horse2zebra/trainB/n02391049_3262.jpg\n",
            " inflated: horse2zebra/trainB/n02391049_9417.jpg\n",
            " inflated: horse2zebra/trainB/n02391049_5947.jpg\n",
            " inflated: horse2zebra/trainB/n02391049_1844.jpg\n",
            " inflated: horse2zebra/trainB/n02391049_6378.jpg\n",
            " inflated: horse2zebra/trainB/n02391049_5889.jpg\n",
            " inflated: horse2zebra/trainB/n02391049_10837.jpg\n",
            " inflated: horse2zebra/trainB/n02391049_10454.jpg\n",
            " inflated: horse2zebra/trainB/n02391049_3443.jpg\n",
            " inflated: horse2zebra/trainB/n02391049_2733.jpg\n",
            " inflated: horse2zebra/trainB/n02391049_3249.jpg\n",
            " inflated: horse2zebra/trainB/n02391049_7812.jpg\n",
            " inflated: horse2zebra/trainB/n02391049_2756.jpg\n",
            " inflated: horse2zebra/trainB/n02391049_4144.jpg\n",
            " inflated: horse2zebra/trainB/n02391049_6186.jpg\n",
            " inflated: horse2zebra/trainB/n02391049_249.jpg\n",
            " inflated: horse2zebra/trainB/n02391049_8633.jpg\n",
            " inflated: horse2zebra/trainB/n02391049_102.jpg\n",
            " inflated: horse2zebra/trainB/n02391049_2375.jpg\n",
            " inflated: horse2zebra/trainB/n02391049_8059.jpg\n",
            " inflated: horse2zebra/trainB/n02391049_9762.jpg\n",
            " inflated: horse2zebra/trainB/n02391049_10504.jpg\n",
            " inflated: horse2zebra/trainB/n02391049_926.jpg\n",
            " inflated: horse2zebra/trainB/n02391049_992.jpg\n",
            " inflated: horse2zebra/trainB/n02391049_3043.jpg\n",
            " inflated: horse2zebra/trainB/n02391049_6609.jpg\n",
            " inflated: horse2zebra/trainB/n02391049_682.jpg\n",
            " inflated: horse2zebra/trainB/n02391049_224.jpg\n",
            " inflated: horse2zebra/trainB/n02391049_2197.jpg\n",
            " inflated: horse2zebra/trainB/n02391049_2974.jpg\n",
            " inflated: horse2zebra/trainB/n02391049_4413.jpg\n",
            " inflated: horse2zebra/trainB/n02391049_362.jpg\n",
            " inflated: horse2zebra/trainB/n02391049_335.jpg\n",
            " inflated: horse2zebra/trainB/n02391049_3623.jpg\n",
            " inflated: horse2zebra/trainB/n02391049_2897.jpg\n",
            " inflated: horse2zebra/trainB/n02391049_3191.jpg\n",
            " inflated: horse2zebra/trainB/n02391049_2266.jpg\n",
            " inflated: horse2zebra/trainB/n02391049_1235.jpg\n",
            " inflated: horse2zebra/trainB/n02391049_5216.jpg\n",
            " inflated: horse2zebra/trainB/n02391049_358.jpg\n",
            " inflated: horse2zebra/trainB/n02391049_5724.jpg\n",
            " inflated: horse2zebra/trainB/n02391049_7344.jpg\n",
            " inflated: horse2zebra/trainB/n02391049_9219.jpg\n",
            " inflated: horse2zebra/trainB/n02391049_7949.jpg\n",
            " inflated: horse2zebra/trainB/n02391049_3582.jpg\n",
            " inflated: horse2zebra/trainB/n02391049_2642.jpg\n",
            " inflated: horse2zebra/trainB/n02391049_646.jpg\n",
            " inflated: horse2zebra/trainB/n02391049_1712.jpg\n",
            " inflated: horse2zebra/trainB/n02391049_866.jpg\n",
            " inflated: horse2zebra/trainB/n02391049_2439.jpg\n",
            " inflated: horse2zebra/trainB/n02391049_107.jpg\n",
            " inflated: horse2zebra/trainB/n02391049_7848.jpg\n",
            " inflated: horse2zebra/trainB/n02391049_3122.jpg\n",
            " inflated: horse2zebra/trainB/n02391049_2746.jpg\n",
            " inflated: horse2zebra/trainB/n02391049_8182.jpg\n",
            " inflated: horse2zebra/trainB/n02391049_2647.jpg\n",
            " inflated: horse2zebra/trainB/n02391049_12.jpg\n",
            " inflated: horse2zebra/trainB/n02391049_3054.jpg\n",
            " inflated: horse2zebra/trainB/n02391049_8902.jpg\n",
            " inflated: horse2zebra/trainB/n02391049_2848.jpg\n",
            " inflated: horse2zebra/trainB/n02391049_2381.jpg\n",
            " inflated: horse2zebra/trainB/n02391049_6359.jpg\n",
            " inflated: horse2zebra/trainB/n02391049_2223.jpg\n",
            " inflated: horse2zebra/trainB/n02391049_6561.jpg\n",
            " inflated: horse2zebra/trainB/n02391049_8266.jpg\n",
            " inflated: horse2zebra/trainB/n02391049_2767.jpg\n",
            " inflated: horse2zebra/trainB/n02391049_9387.jpg\n",
            " inflated: horse2zebra/trainB/n02391049_7074.jpg\n",
            " inflated: horse2zebra/trainB/n02391049_3246.jpg\n",
            " inflated: horse2zebra/trainB/n02391049_4528.jpg\n",
            " inflated: horse2zebra/trainB/n02391049_6757.jpg\n",
            " inflated: horse2zebra/trainB/n02391049_6987.jpg\n",
            " inflated: horse2zebra/trainB/n02391049_11153.jpg\n",
            " inflated: horse2zebra/trainB/n02391049_7077.jpg\n",
            " inflated: horse2zebra/trainB/n02391049_565.jpg\n",
            " inflated: horse2zebra/trainB/n02391049_7.jpg\n",
            " inflated: horse2zebra/trainB/n02391049_603.jpg\n",
            " inflated: horse2zebra/trainB/n02391049_4729.jpg\n",
            " inflated: horse2zebra/trainB/n02391049_2951.jpg\n",
            " inflated: horse2zebra/trainB/n02391049_3682.jpg\n",
            " inflated: horse2zebra/trainB/n02391049_3018.jpg\n",
            " inflated: horse2zebra/trainB/n02391049_10613.jpg\n",
            " inflated: horse2zebra/trainB/n02391049_775.jpg\n",
            " inflated: horse2zebra/trainB/n02391049_11063.jpg\n",
            " inflated: horse2zebra/trainB/n02391049_671.jpg\n",
            " inflated: horse2zebra/trainB/n02391049_2729.jpg\n",
            " inflated: horse2zebra/trainB/n02391049_9002.jpg\n",
            " inflated: horse2zebra/trainB/n02391049_4922.jpg\n",
            " inflated: horse2zebra/trainB/n02391049_4909.jpg\n",
            " inflated: horse2zebra/trainB/n02391049_122.jpg\n",
            " inflated: horse2zebra/trainB/n02391049_2949.jpg\n",
            " inflated: horse2zebra/trainB/n02391049_2743.jpg\n",
            " inflated: horse2zebra/trainB/n02391049_2704.jpg\n",
            " inflated: horse2zebra/trainB/n02391049_395.jpg\n",
            " inflated: horse2zebra/trainB/n02391049_357.jpg\n",
            " inflated: horse2zebra/trainB/n02391049_2842.jpg\n",
            " inflated: horse2zebra/trainB/n02391049_2757.jpg\n",
            " inflated: horse2zebra/trainB/n02391049_15.jpg\n",
            " inflated: horse2zebra/trainB/n02391049_9555.jpg\n",
            " inflated: horse2zebra/trainB/n02391049_1175.jpg\n",
            " inflated: horse2zebra/trainB/n02391049_812.jpg\n",
            " inflated: horse2zebra/trainB/n02391049_8321.jpg\n",
            " inflated: horse2zebra/trainB/n02391049_5711.jpg\n",
            " inflated: horse2zebra/trainB/n02391049_10452.jpg\n",
            " inflated: horse2zebra/trainB/n02391049_1183.jpg\n",
            " inflated: horse2zebra/trainB/n02391049_9987.jpg\n",
            " inflated: horse2zebra/trainB/n02391049_3878.jpg\n",
            " inflated: horse2zebra/trainB/n02391049_9777.jpg\n",
            " inflated: horse2zebra/trainB/n02391049_4564.jpg\n",
            " inflated: horse2zebra/trainB/n02391049_7779.jpg\n",
            " inflated: horse2zebra/trainB/n02391049_8149.jpg\n",
            " inflated: horse2zebra/trainB/n02391049_5093.jpg\n",
            " inflated: horse2zebra/trainB/n02391049_879.jpg\n",
            " inflated: horse2zebra/trainB/n02391049_2311.jpg\n",
            " inflated: horse2zebra/trainB/n02391049_379.jpg\n",
            " inflated: horse2zebra/trainB/n02391049_2567.jpg\n",
            " inflated: horse2zebra/trainB/n02391049_111.jpg\n",
            " inflated: horse2zebra/trainB/n02391049_356.jpg\n",
            " inflated: horse2zebra/trainB/n02391049_5356.jpg\n",
            " inflated: horse2zebra/trainB/n02391049_5367.jpg\n",
            " inflated: horse2zebra/trainB/n02391049_1067.jpg\n",
            " inflated: horse2zebra/trainB/n02391049_2586.jpg\n",
            " inflated: horse2zebra/trainB/n02391049_3219.jpg\n",
            " inflated: horse2zebra/trainB/n02391049_5236.jpg\n",
            " inflated: horse2zebra/trainB/n02391049_10426.jpg\n",
            " inflated: horse2zebra/trainB/n02391049_1516.jpg\n",
            " inflated: horse2zebra/trainB/n02391049_584.jpg\n",
            " inflated: horse2zebra/trainB/n02391049_2814.jpg\n",
            " inflated: horse2zebra/trainB/n02391049_8102.jpg\n",
            " inflated: horse2zebra/trainB/n02391049_3037.jpg\n",
            " inflated: horse2zebra/trainB/n02391049_6512.jpg\n",
            " inflated: horse2zebra/trainB/n02391049_3265.jpg\n",
            " inflated: horse2zebra/trainB/n02391049_968.jpg\n",
            " inflated: horse2zebra/trainB/n02391049_5333.jpg\n",
            " inflated: horse2zebra/trainB/n02391049_1062.jpg\n",
            " inflated: horse2zebra/trainB/n02391049_2306.jpg\n",
            " inflated: horse2zebra/trainB/n02391049_7678.jpg\n",
            " inflated: horse2zebra/trainB/n02391049_2826.jpg\n",
            " inflated: horse2zebra/trainB/n02391049_5015.jpg\n",
            " inflated: horse2zebra/trainB/n02391049_7434.jpg\n",
            " inflated: horse2zebra/trainB/n02391049_2225.jpg\n",
            " inflated: horse2zebra/trainB/n02391049_506.jpg\n",
            " inflated: horse2zebra/trainB/n02391049_5005.jpg\n",
            " inflated: horse2zebra/trainB/n02391049_1198.jpg\n",
            " inflated: horse2zebra/trainB/n02391049_9122.jpg\n",
            " inflated: horse2zebra/trainB/n02391049_7205.jpg\n",
            " inflated: horse2zebra/trainB/n02391049_875.jpg\n",
            " inflated: horse2zebra/trainB/n02391049_118.jpg\n",
            " inflated: horse2zebra/trainB/n02391049_6991.jpg\n",
            " inflated: horse2zebra/trainB/n02391049_202.jpg\n",
            " inflated: horse2zebra/trainB/n02391049_3024.jpg\n",
            " inflated: horse2zebra/trainB/n02391049_9556.jpg\n",
            " inflated: horse2zebra/trainB/n02391049_2117.jpg\n",
            " inflated: horse2zebra/trainB/n02391049_8445.jpg\n",
            " inflated: horse2zebra/trainB/n02391049_8696.jpg\n",
            " inflated: horse2zebra/trainB/n02391049_9027.jpg\n",
            " inflated: horse2zebra/trainB/n02391049_9258.jpg\n",
            " inflated: horse2zebra/trainB/n02391049_7521.jpg\n",
            " inflated: horse2zebra/trainB/n02391049_8937.jpg\n",
            " inflated: horse2zebra/trainB/n02391049_4218.jpg\n",
            " inflated: horse2zebra/trainB/n02391049_9665.jpg\n",
            " inflated: horse2zebra/trainB/n02391049_2294.jpg\n",
            " inflated: horse2zebra/trainB/n02391049_6942.jpg\n",
            " inflated: horse2zebra/trainB/n02391049_2813.jpg\n",
            " inflated: horse2zebra/trainB/n02391049_4106.jpg\n",
            " inflated: horse2zebra/trainB/n02391049_3247.jpg\n",
            " inflated: horse2zebra/trainB/n02391049_2217.jpg\n",
            " inflated: horse2zebra/trainB/n02391049_3119.jpg\n",
            "  created: horse2zebra/testA/\n",
            " inflated: horse2zebra/testA/n02381460_1110.jpg\n",
            " inflated: horse2zebra/testA/n02381460_1740.jpg\n",
            " inflated: horse2zebra/testA/n02381460_1300.jpg\n",
            " inflated: horse2zebra/testA/n02381460_1260.jpg\n",
            " inflated: horse2zebra/testA/n02381460_4410.jpg\n",
            " inflated: horse2zebra/testA/n02381460_4260.jpg\n",
            " inflated: horse2zebra/testA/n02381460_1690.jpg\n",
            " inflated: horse2zebra/testA/n02381460_9240.jpg\n",
            " inflated: horse2zebra/testA/n02381460_670.jpg\n",
            " inflated: horse2zebra/testA/n02381460_4430.jpg\n",
            " inflated: horse2zebra/testA/n02381460_4110.jpg\n",
            " inflated: horse2zebra/testA/n02381460_6920.jpg\n",
            " inflated: horse2zebra/testA/n02381460_20.jpg\n",
            " inflated: horse2zebra/testA/n02381460_4010.jpg\n",
            " inflated: horse2zebra/testA/n02381460_2950.jpg\n",
            " inflated: horse2zebra/testA/n02381460_3120.jpg\n",
            " inflated: horse2zebra/testA/n02381460_2050.jpg\n",
            " inflated: horse2zebra/testA/n02381460_2150.jpg\n",
            " inflated: horse2zebra/testA/n02381460_5090.jpg\n",
            " inflated: horse2zebra/testA/n02381460_1750.jpg\n",
            " inflated: horse2zebra/testA/n02381460_6300.jpg\n",
            " inflated: horse2zebra/testA/n02381460_7190.jpg\n",
            " inflated: horse2zebra/testA/n02381460_3660.jpg\n",
            " inflated: horse2zebra/testA/n02381460_5500.jpg\n",
            " inflated: horse2zebra/testA/n02381460_1100.jpg\n",
            " inflated: horse2zebra/testA/n02381460_2540.jpg\n",
            " inflated: horse2zebra/testA/n02381460_6640.jpg\n",
            " inflated: horse2zebra/testA/n02381460_2890.jpg\n",
            " inflated: horse2zebra/testA/n02381460_4630.jpg\n",
            " inflated: horse2zebra/testA/n02381460_7140.jpg\n",
            " inflated: horse2zebra/testA/n02381460_7250.jpg\n",
            " inflated: horse2zebra/testA/n02381460_2120.jpg\n",
            " inflated: horse2zebra/testA/n02381460_4160.jpg\n",
            " inflated: horse2zebra/testA/n02381460_900.jpg\n",
            " inflated: horse2zebra/testA/n02381460_1350.jpg\n",
            " inflated: horse2zebra/testA/n02381460_2870.jpg\n",
            " inflated: horse2zebra/testA/n02381460_360.jpg\n",
            " inflated: horse2zebra/testA/n02381460_8900.jpg\n",
            " inflated: horse2zebra/testA/n02381460_500.jpg\n",
            " inflated: horse2zebra/testA/n02381460_440.jpg\n",
            " inflated: horse2zebra/testA/n02381460_1540.jpg\n",
            " inflated: horse2zebra/testA/n02381460_7300.jpg\n",
            " inflated: horse2zebra/testA/n02381460_3240.jpg\n",
            " inflated: horse2zebra/testA/n02381460_4640.jpg\n",
            " inflated: horse2zebra/testA/n02381460_7170.jpg\n",
            " inflated: horse2zebra/testA/n02381460_9260.jpg\n",
            " inflated: horse2zebra/testA/n02381460_1000.jpg\n",
            " inflated: horse2zebra/testA/n02381460_140.jpg\n",
            " inflated: horse2zebra/testA/n02381460_4470.jpg\n",
            " inflated: horse2zebra/testA/n02381460_7620.jpg\n",
            " inflated: horse2zebra/testA/n02381460_1210.jpg\n",
            " inflated: horse2zebra/testA/n02381460_7660.jpg\n",
            " inflated: horse2zebra/testA/n02381460_4370.jpg\n",
            " inflated: horse2zebra/testA/n02381460_1830.jpg\n",
            " inflated: horse2zebra/testA/n02381460_5940.jpg\n",
            " inflated: horse2zebra/testA/n02381460_3910.jpg\n",
            " inflated: horse2zebra/testA/n02381460_4450.jpg\n",
            " inflated: horse2zebra/testA/n02381460_2940.jpg\n",
            " inflated: horse2zebra/testA/n02381460_2100.jpg\n",
            " inflated: horse2zebra/testA/n02381460_6950.jpg\n",
            " inflated: horse2zebra/testA/n02381460_4530.jpg\n",
            " inflated: horse2zebra/testA/n02381460_1360.jpg\n",
            " inflated: horse2zebra/testA/n02381460_510.jpg\n",
            " inflated: horse2zebra/testA/n02381460_2710.jpg\n",
            " inflated: horse2zebra/testA/n02381460_4550.jpg\n",
            " inflated: horse2zebra/testA/n02381460_2580.jpg\n",
            " inflated: horse2zebra/testA/n02381460_4650.jpg\n",
            " inflated: horse2zebra/testA/n02381460_3330.jpg\n",
            " inflated: horse2zebra/testA/n02381460_470.jpg\n",
            " inflated: horse2zebra/testA/n02381460_1870.jpg\n",
            " inflated: horse2zebra/testA/n02381460_490.jpg\n",
            " inflated: horse2zebra/testA/n02381460_3040.jpg\n",
            " inflated: horse2zebra/testA/n02381460_2460.jpg\n",
            " inflated: horse2zebra/testA/n02381460_640.jpg\n",
            " inflated: horse2zebra/testA/n02381460_4800.jpg\n",
            " inflated: horse2zebra/testA/n02381460_2650.jpg\n",
            " inflated: horse2zebra/testA/n02381460_4740.jpg\n",
            " inflated: horse2zebra/testA/n02381460_950.jpg\n",
            " inflated: horse2zebra/testA/n02381460_180.jpg\n",
            " inflated: horse2zebra/testA/n02381460_6790.jpg\n",
            " inflated: horse2zebra/testA/n02381460_1010.jpg\n",
            " inflated: horse2zebra/testA/n02381460_1920.jpg\n",
            " inflated: horse2zebra/testA/n02381460_4790.jpg\n",
            " inflated: horse2zebra/testA/n02381460_2280.jpg\n",
            " inflated: horse2zebra/testA/n02381460_530.jpg\n",
            " inflated: horse2zebra/testA/n02381460_40.jpg\n",
            " inflated: horse2zebra/testA/n02381460_8980.jpg\n",
            " inflated: horse2zebra/testA/n02381460_1630.jpg\n",
            " inflated: horse2zebra/testA/n02381460_6290.jpg\n",
            " inflated: horse2zebra/testA/n02381460_3110.jpg\n",
            " inflated: horse2zebra/testA/n02381460_50.jpg\n",
            " inflated: horse2zebra/testA/n02381460_1620.jpg\n",
            " inflated: horse2zebra/testA/n02381460_1160.jpg\n",
            " inflated: horse2zebra/testA/n02381460_1090.jpg\n",
            " inflated: horse2zebra/testA/n02381460_600.jpg\n",
            " inflated: horse2zebra/testA/n02381460_1120.jpg\n",
            " inflated: horse2zebra/testA/n02381460_690.jpg\n",
            " inflated: horse2zebra/testA/n02381460_7890.jpg\n",
            " inflated: horse2zebra/testA/n02381460_7700.jpg\n",
            " inflated: horse2zebra/testA/n02381460_7400.jpg\n",
            " inflated: horse2zebra/testA/n02381460_200.jpg\n",
            " inflated: horse2zebra/testA/n02381460_6690.jpg\n",
            " inflated: horse2zebra/testA/n02381460_3010.jpg\n",
            " inflated: horse2zebra/testA/n02381460_7230.jpg\n",
            " inflated: horse2zebra/testA/n02381460_1030.jpg\n",
            " inflated: horse2zebra/testA/n02381460_910.jpg\n",
            " inflated: horse2zebra/testA/n02381460_5670.jpg\n",
            " inflated: horse2zebra/testA/n02381460_4420.jpg\n",
            " inflated: horse2zebra/testA/n02381460_800.jpg\n",
            " inflated: horse2zebra/testA/n02381460_4660.jpg\n",
            " inflated: horse2zebra/testA/n02381460_1420.jpg\n",
            " inflated: horse2zebra/testA/n02381460_840.jpg\n",
            " inflated: horse2zebra/testA/n02381460_4120.jpg\n",
            " inflated: horse2zebra/testA/n02381460_120.jpg\n",
            " inflated: horse2zebra/testA/n02381460_1820.jpg\n",
            " inflated: horse2zebra/testA/n02381460_1660.jpg\n",
            " inflated: horse2zebra/testA/n02381460_4310.jpg\n",
            " inflated: horse2zebra/testA/n02381460_7500.jpg\n",
            " inflated: horse2zebra/testA/n02381460_4240.jpg\n",
            " inflated: horse2zebra/testA/n02381460_7970.jpg\n"
          ]
        }
      ]
    },
    {
      "cell_type": "code",
      "source": [
        "import torch\n",
        "import albumentations as A\n",
        "from albumentations.pytorch import ToTensorV2\n",
        "\n",
        "DEVICE = \"cuda\" if torch.cuda.is_available() else \"cpu\"\n",
        "TRAIN_DIR = \"/content/horse2zebra\"\n",
        "VAL_DIR = \"/content/horse2zebra\"\n",
        "BATCH_SIZE = 8\n",
        "LEARNING_RATE = 1e-5\n",
        "LAMBDA_IDENTITY = 0.0\n",
        "LAMBDA_CYCLE = 10\n",
        "NUM_WORKERS = 4\n",
        "NUM_EPOCHS = 200\n",
        "LOAD_MODEL = False\n",
        "SAVE_MODEL = True\n",
        "CHECKPOINT_GEN_H = \"/content/gdrive/MyDrive/Horse_2_Zebra/genh.pth.tar\"\n",
        "CHECKPOINT_GEN_Z = \"/content/gdrive/MyDrive/Horse_2_Zebra/genz.pth.tar\"\n",
        "CHECKPOINT_CRITIC_H = \"/content/gdrive/MyDrive/Horse_2_Zebra/critich.pth.tar\"\n",
        "CHECKPOINT_CRITIC_Z = \"/content/gdrive/MyDrive/Horse_2_Zebra/criticz.pth.tar\"\n",
        "\n",
        "transforms = A.Compose(\n",
        "    [\n",
        "        A.Resize(width=256, height=256),\n",
        "        A.HorizontalFlip(p=0.5),\n",
        "        A.Normalize(mean=[0.5, 0.5, 0.5], std=[0.5, 0.5, 0.5], max_pixel_value=255),\n",
        "        ToTensorV2(),\n",
        "    ],\n",
        "    additional_targets={\"image0\": \"image\"},\n",
        ")"
      ],
      "metadata": {
        "id": "nS9rRYAp_wrb"
      },
      "execution_count": null,
      "outputs": []
    },
    {
      "cell_type": "code",
      "source": [
        "from PIL import Image\n",
        "import os\n",
        "import numpy as np\n",
        "import torch.utils.data as data\n",
        "from typing import Tuple\n",
        "\n",
        "class HorseZebraDataset(data.Dataset):\n",
        "    def __init__(self, root_zebra: str, root_horse: str, transform=None) -> None:\n",
        "        self.root_zebra = os.path.abspath(root_zebra)\n",
        "        self.root_horse = os.path.abspath(root_horse)\n",
        "        self.transform = transform\n",
        "\n",
        "        self.zebra_images = os.listdir(self.root_zebra)\n",
        "        self.horse_images = os.listdir(self.root_horse)\n",
        "        self.length_dataset = max(len(self.zebra_images), len(self.horse_images))\n",
        "        self.zebra_len = len(self.zebra_images)\n",
        "        self.horse_len = len(self.horse_images)\n",
        "\n",
        "    def __len__(self) -> int:\n",
        "        return self.length_dataset\n",
        "\n",
        "    def __getitem__(self, index: int) -> Tuple[np.ndarray, np.ndarray]:\n",
        "        zebra_img = self.zebra_images[index % self.zebra_len]\n",
        "        horse_img = self.horse_images[index % self.horse_len]\n",
        "\n",
        "        zebra_path = os.path.join(self.root_zebra, zebra_img)\n",
        "        horse_path = os.path.join(self.root_horse, horse_img)\n",
        "\n",
        "        zebra_img = np.array(Image.open(zebra_path).convert(\"RGB\"))\n",
        "        horse_img = np.array(Image.open(horse_path).convert(\"RGB\"))\n",
        "\n",
        "        if self.transform:\n",
        "            augmentations = self.transform(image=zebra_img, image0=horse_img)\n",
        "            zebra_img = augmentations[\"image\"]\n",
        "            horse_img = augmentations[\"image0\"]\n",
        "\n",
        "        return zebra_img, horse_img\n"
      ],
      "metadata": {
        "id": "zTdDYhkQ_4P-"
      },
      "execution_count": null,
      "outputs": []
    },
    {
      "cell_type": "code",
      "source": [
        "import torch\n",
        "import torch.nn as nn\n",
        "\n",
        "\n",
        "class Block(nn.Module):\n",
        "    def __init__(self, in_channels, out_channels, stride):\n",
        "        super().__init__()\n",
        "        self.conv = nn.Sequential(\n",
        "            nn.Conv2d(\n",
        "                in_channels,\n",
        "                out_channels,\n",
        "                kernel_size=4,\n",
        "                stride=stride,\n",
        "                padding=1,\n",
        "                bias=True,\n",
        "                padding_mode=\"reflect\",\n",
        "            ),\n",
        "            nn.InstanceNorm2d(out_channels),\n",
        "            nn.LeakyReLU(0.2, inplace=True),\n",
        "        )\n",
        "\n",
        "    def forward(self, x):\n",
        "        return self.conv(x)\n",
        "\n",
        "\n",
        "class Discriminator(nn.Module):\n",
        "    def __init__(self, in_channels=3, features=[64, 128, 256, 512]):\n",
        "        super().__init__()\n",
        "        self.initial = nn.Sequential(\n",
        "            nn.Conv2d(\n",
        "                in_channels,\n",
        "                features[0],\n",
        "                kernel_size=4,\n",
        "                stride=2,\n",
        "                padding=1,\n",
        "                padding_mode=\"reflect\",\n",
        "            ),\n",
        "            nn.LeakyReLU(0.2, inplace=True),\n",
        "        )\n",
        "\n",
        "        layers = []\n",
        "        in_channels = features[0]\n",
        "        for feature in features[1:]:\n",
        "            layers.append(\n",
        "                Block(in_channels, feature, stride=1 if feature == features[-1] else 2)\n",
        "            )\n",
        "            in_channels = feature\n",
        "        layers.append(\n",
        "            nn.Conv2d(\n",
        "                in_channels,\n",
        "                1,\n",
        "                kernel_size=4,\n",
        "                stride=1,\n",
        "                padding=1,\n",
        "                padding_mode=\"reflect\",\n",
        "            )\n",
        "        )\n",
        "        self.model = nn.Sequential(*layers)\n",
        "\n",
        "    def forward(self, x):\n",
        "        x = self.initial(x)\n",
        "        return torch.sigmoid(self.model(x))\n",
        "\n",
        "\n",
        "\n"
      ],
      "metadata": {
        "id": "2F5slmKM_-41"
      },
      "execution_count": null,
      "outputs": []
    },
    {
      "cell_type": "code",
      "source": [
        "import torch\n",
        "import torch.nn as nn\n",
        "\n",
        "\n",
        "class ConvBlock(nn.Module):\n",
        "    def __init__(self, in_channels, out_channels, down=True, use_act=True, **kwargs):\n",
        "        super().__init__()\n",
        "        self.conv = nn.Sequential(\n",
        "            nn.Conv2d(in_channels, out_channels, padding_mode=\"reflect\", **kwargs)\n",
        "            if down\n",
        "            else nn.ConvTranspose2d(in_channels, out_channels, **kwargs),\n",
        "            nn.InstanceNorm2d(out_channels),\n",
        "            nn.ReLU(inplace=True) if use_act else nn.Identity(),\n",
        "        )\n",
        "\n",
        "    def forward(self, x):\n",
        "        return self.conv(x)\n",
        "\n",
        "\n",
        "class ResidualBlock(nn.Module):\n",
        "    def __init__(self, channels):\n",
        "        super().__init__()\n",
        "        self.block = nn.Sequential(\n",
        "            ConvBlock(channels, channels, kernel_size=3, padding=1),\n",
        "            ConvBlock(channels, channels, use_act=False, kernel_size=3, padding=1),\n",
        "        )\n",
        "\n",
        "    def forward(self, x):\n",
        "        return x + self.block(x)\n",
        "\n",
        "\n",
        "class Generator(nn.Module):\n",
        "    def __init__(self, img_channels, num_features=64, num_residuals=9):\n",
        "        super().__init__()\n",
        "        self.initial = nn.Sequential(\n",
        "            nn.Conv2d(\n",
        "                img_channels,\n",
        "                num_features,\n",
        "                kernel_size=7,\n",
        "                stride=1,\n",
        "                padding=3,\n",
        "                padding_mode=\"reflect\",\n",
        "            ),\n",
        "            nn.InstanceNorm2d(num_features),\n",
        "            nn.ReLU(inplace=True),\n",
        "        )\n",
        "        self.down_blocks = nn.ModuleList(\n",
        "            [\n",
        "                ConvBlock(\n",
        "                    num_features, num_features * 2, kernel_size=3, stride=2, padding=1\n",
        "                ),\n",
        "                ConvBlock(\n",
        "                    num_features * 2,\n",
        "                    num_features * 4,\n",
        "                    kernel_size=3,\n",
        "                    stride=2,\n",
        "                    padding=1,\n",
        "                ),\n",
        "            ]\n",
        "        )\n",
        "        self.res_blocks = nn.ModuleList(\n",
        "            [ResidualBlock(num_features * 4) for _ in range(num_residuals)]\n",
        "        )\n",
        "        self.up_blocks = nn.ModuleList(\n",
        "            [\n",
        "                ConvBlock(\n",
        "                    num_features * 4,\n",
        "                    num_features * 2,\n",
        "                    down=False,\n",
        "                    kernel_size=3,\n",
        "                    stride=2,\n",
        "                    padding=1,\n",
        "                    output_padding=1,\n",
        "                ),\n",
        "                ConvBlock(\n",
        "                    num_features * 2,\n",
        "                    num_features * 1,\n",
        "                    down=False,\n",
        "                    kernel_size=3,\n",
        "                    stride=2,\n",
        "                    padding=1,\n",
        "                    output_padding=1,\n",
        "                ),\n",
        "            ]\n",
        "        )\n",
        "\n",
        "        self.last = nn.Conv2d(\n",
        "            num_features * 1,\n",
        "            img_channels,\n",
        "            kernel_size=7,\n",
        "            stride=1,\n",
        "            padding=3,\n",
        "            padding_mode=\"reflect\",\n",
        "        )\n",
        "\n",
        "    def forward(self, x):\n",
        "        x = self.initial(x)\n",
        "        for layer in self.down_blocks:\n",
        "            x = layer(x)\n",
        "        for layer in self.res_blocks:\n",
        "            x = layer(x)\n",
        "        for layer in self.up_blocks:\n",
        "            x = layer(x)\n",
        "        return torch.tanh(self.last(x))\n",
        "\n",
        "\n",
        "\n"
      ],
      "metadata": {
        "id": "dk0QcDPiAIn8"
      },
      "execution_count": null,
      "outputs": []
    },
    {
      "cell_type": "code",
      "source": [
        "import random\n",
        "import torch\n",
        "import os\n",
        "import numpy as np\n",
        "import torch.nn as nn\n",
        "import copy\n",
        "\n",
        "\n",
        "def save_checkpoint(model, optimizer, filename=\"/content/gdrive/MyDrive/Horse_2_Zebra/my_checkpoint.pth.tar\"):\n",
        "    print(\"=> Saving checkpoint\")\n",
        "    checkpoint = {\n",
        "        \"state_dict\": model.state_dict(),\n",
        "        \"optimizer\": optimizer.state_dict(),\n",
        "    }\n",
        "    torch.save(checkpoint, filename)\n",
        "\n",
        "\n",
        "def load_checkpoint(checkpoint_file, model, optimizer, lr):\n",
        "    print(\"=> Loading checkpoint\")\n",
        "    checkpoint = torch.load(checkpoint_file, map_location=torch.device(\"cuda\" if torch.cuda.is_available() else \"cpu\"))\n",
        "    model.load_state_dict(checkpoint[\"state_dict\"])\n",
        "    optimizer.load_state_dict(checkpoint[\"optimizer\"])\n",
        "\n",
        "    # Update the learning rate from the loaded checkpoint\n",
        "    for param_group in optimizer.param_groups:\n",
        "        param_group[\"lr\"] = lr\n",
        "\n",
        "\n",
        "def seed_everything(seed=42):\n",
        "    os.environ[\"PYTHONHASHSEED\"] = str(seed)\n",
        "    random.seed(seed)\n",
        "    np.random.seed(seed)\n",
        "    torch.manual_seed(seed)\n",
        "    if torch.cuda.is_available():\n",
        "        torch.cuda.manual_seed(seed)\n",
        "        torch.cuda.manual_seed_all(seed)\n",
        "        torch.backends.cudnn.deterministic = True\n",
        "        torch.backends.cudnn.benchmark = False\n",
        "\n"
      ],
      "metadata": {
        "id": "3Yld6j3KAiGh"
      },
      "execution_count": null,
      "outputs": []
    },
    {
      "cell_type": "code",
      "source": [
        "def wasserstein_loss(real_samples, generated_samples):\n",
        "    real_samples = np.array(real_samples)\n",
        "    generated_samples = np.array(generated_samples)\n",
        "    return np.mean(real_samples) - np.mean(generated_samples)"
      ],
      "metadata": {
        "id": "CmeFjv6taFgl"
      },
      "execution_count": null,
      "outputs": []
    },
    {
      "cell_type": "code",
      "source": [
        "import torch\n",
        "import sys\n",
        "\n",
        "from torch.utils.data import DataLoader\n",
        "import torch.nn as nn\n",
        "import torch.optim as optim\n",
        "\n",
        "from tqdm import tqdm\n",
        "from torchvision.utils import save_image\n",
        "import matplotlib.pyplot as plt\n",
        "\n",
        "\n",
        "\n",
        "def train_fn(\n",
        "    disc_H, disc_Z, gen_Z, gen_H, loader, opt_disc, opt_gen, wasserstein_loss, mse, d_scaler, g_scaler,epoch\n",
        "):\n",
        "    H_reals = 0\n",
        "    H_fakes = 0\n",
        "    loop = tqdm(loader, leave=True)\n",
        "\n",
        "    for idx, (zebra, horse) in enumerate(loop):\n",
        "        zebra = zebra.to(DEVICE)\n",
        "        horse = horse.to(DEVICE)\n",
        "\n",
        "        # Train Discriminators H and Z\n",
        "        with torch.cuda.amp.autocast():\n",
        "            fake_horse = gen_H(zebra)\n",
        "            D_H_real = disc_H(horse)\n",
        "            D_H_fake = disc_H(fake_horse.detach())\n",
        "            H_reals += D_H_real.mean().item()\n",
        "            H_fakes += D_H_fake.mean().item()\n",
        "            D_H_real_loss = mse(D_H_real, torch.ones_like(D_H_real))\n",
        "            D_H_fake_loss = mse(D_H_fake, torch.zeros_like(D_H_fake))\n",
        "            D_H_loss = D_H_real_loss + D_H_fake_loss\n",
        "\n",
        "            fake_zebra = gen_Z(horse)\n",
        "            D_Z_real = disc_Z(zebra)\n",
        "            D_Z_fake = disc_Z(fake_zebra.detach())\n",
        "            D_Z_real_loss = mse(D_Z_real, torch.ones_like(D_Z_real))\n",
        "            D_Z_fake_loss = mse(D_Z_fake, torch.zeros_like(D_Z_fake))\n",
        "            D_Z_loss = D_Z_real_loss + D_Z_fake_loss\n",
        "\n",
        "            # put it togethor\n",
        "            D_loss = (D_H_loss + D_Z_loss) / 2\n",
        "\n",
        "        opt_disc.zero_grad()\n",
        "        d_scaler.scale(D_loss).backward()\n",
        "        d_scaler.step(opt_disc)\n",
        "        d_scaler.update()\n",
        "\n",
        "        # Train Generators H and Z\n",
        "        with torch.cuda.amp.autocast():\n",
        "            # adversarial loss for both generators\n",
        "            D_H_fake = disc_H(fake_horse)\n",
        "            D_Z_fake = disc_Z(fake_zebra)\n",
        "            loss_G_H = mse(D_H_fake, torch.ones_like(D_H_fake))\n",
        "            loss_G_Z = mse(D_Z_fake, torch.ones_like(D_Z_fake))\n",
        "\n",
        "            # cycle loss\n",
        "            cycle_zebra = gen_Z(fake_horse)\n",
        "            cycle_horse = gen_H(fake_zebra)\n",
        "            cycle_zebra_loss = wasserstein_loss(zebra.cpu().detach().numpy(), cycle_zebra.cpu().detach().numpy())\n",
        "            cycle_horse_loss = wasserstein_loss(horse.cpu().detach().numpy(), cycle_horse.cpu().detach().numpy())\n",
        "\n",
        "            # This is Not use in this model because Horse 2 Zebra is not necessary to use\n",
        "            identity_zebra = gen_Z(zebra)\n",
        "            identity_horse = gen_H(horse)\n",
        "            identity_zebra_loss = wasserstein_loss(zebra.cpu().detach().numpy(), identity_zebra.cpu().detach().numpy())\n",
        "            identity_horse_loss = wasserstein_loss(horse.cpu().detach().numpy(), identity_horse.cpu().detach().numpy())\n",
        "\n",
        "            # add all togethor\n",
        "            G_loss = (\n",
        "                loss_G_Z\n",
        "                + loss_G_H\n",
        "                + cycle_zebra_loss * LAMBDA_CYCLE\n",
        "                + cycle_horse_loss * LAMBDA_CYCLE\n",
        "                + identity_horse_loss * LAMBDA_IDENTITY\n",
        "                + identity_zebra_loss * LAMBDA_IDENTITY\n",
        "            )\n",
        "\n",
        "        opt_gen.zero_grad()\n",
        "        g_scaler.scale(G_loss).backward()\n",
        "        g_scaler.step(opt_gen)\n",
        "        g_scaler.update()\n",
        "\n",
        "        if idx % 200 == 0:\n",
        "\n",
        "            save_image(fake_horse[0] * 0.5 + 0.5, f\"/content/gdrive/MyDrive/Horse_2_Zebra/saved_images/fake_horse_{epoch}+{idx}.png\")\n",
        "            save_image(zebra[0] * 0.5 + 0.5, f\"/content/gdrive/MyDrive/Horse_2_Zebra/saved_images/orignal_zebra_{epoch}+{idx}.png\")\n",
        "\n",
        "            save_image(fake_zebra[0] * 0.5 + 0.5, f\"/content/gdrive/MyDrive/Horse_2_Zebra/saved_images/fake_zebra_{epoch}+{idx}.png\")\n",
        "            save_image(horse[0] * 0.5 + 0.5, f\"/content/gdrive/MyDrive/Horse_2_Zebra/saved_images/orignal_horse_{epoch}+{idx}.png\")\n",
        "\n",
        "        loop.set_postfix(H_real=H_reals / (idx + 1), H_fake=H_fakes / (idx + 1))\n",
        "\n",
        "\n",
        "def main():\n",
        "    disc_H = Discriminator(in_channels=3).to(DEVICE)\n",
        "    disc_Z = Discriminator(in_channels=3).to(DEVICE)\n",
        "    gen_Z = Generator(img_channels=3, num_residuals=9).to(DEVICE)\n",
        "    gen_H = Generator(img_channels=3, num_residuals=9).to(DEVICE)\n",
        "    opt_disc = optim.Adam(\n",
        "        list(disc_H.parameters()) + list(disc_Z.parameters()),\n",
        "        lr=LEARNING_RATE,\n",
        "        betas=(0.5, 0.999),\n",
        "    )\n",
        "\n",
        "    opt_gen = optim.Adam(\n",
        "        list(gen_Z.parameters()) + list(gen_H.parameters()),\n",
        "        lr=LEARNING_RATE,\n",
        "        betas=(0.5, 0.999),\n",
        "    )\n",
        "\n",
        "    mse = nn.MSELoss()\n",
        "\n",
        "    if LOAD_MODEL:\n",
        "        load_checkpoint(\n",
        "            CHECKPOINT_GEN_H,\n",
        "            gen_H,\n",
        "            opt_gen,\n",
        "            LEARNING_RATE,\n",
        "        )\n",
        "        load_checkpoint(\n",
        "            CHECKPOINT_GEN_Z,\n",
        "            gen_Z,\n",
        "            opt_gen,\n",
        "            LEARNING_RATE,\n",
        "        )\n",
        "        load_checkpoint(\n",
        "            CHECKPOINT_CRITIC_H,\n",
        "            disc_H,\n",
        "            opt_disc,\n",
        "            LEARNING_RATE,\n",
        "        )\n",
        "        load_checkpoint(\n",
        "            CHECKPOINT_CRITIC_Z,\n",
        "            disc_Z,\n",
        "            opt_disc,\n",
        "            LEARNING_RATE,\n",
        "        )\n",
        "\n",
        "    dataset = HorseZebraDataset(\n",
        "        root_horse=TRAIN_DIR + \"/trainA\",\n",
        "        root_zebra=TRAIN_DIR + \"/trainB\",\n",
        "        transform=transforms,\n",
        "    )\n",
        "    val_dataset = HorseZebraDataset(\n",
        "        root_horse=\"/content/horse2zebra/testA\",\n",
        "        root_zebra=\"/content/horse2zebra/testB\",\n",
        "        transform=transforms,\n",
        "    )\n",
        "    val_loader = DataLoader(\n",
        "        val_dataset,\n",
        "        batch_size=8,\n",
        "        shuffle=False,\n",
        "        pin_memory=True,\n",
        "    )\n",
        "    loader = DataLoader(\n",
        "        dataset,\n",
        "        batch_size=BATCH_SIZE,\n",
        "        shuffle=True,\n",
        "        num_workers=NUM_WORKERS,\n",
        "        pin_memory=True,\n",
        "    )\n",
        "    g_scaler = torch.cuda.amp.GradScaler()\n",
        "    d_scaler = torch.cuda.amp.GradScaler()\n",
        "\n",
        "    for epoch in range(NUM_EPOCHS):\n",
        "        print(\"Epochs : \",epoch)\n",
        "        train_fn(\n",
        "            disc_H,\n",
        "            disc_Z,\n",
        "            gen_Z,\n",
        "            gen_H,\n",
        "            loader,\n",
        "            opt_disc,\n",
        "            opt_gen,\n",
        "            wasserstein_loss,\n",
        "            mse,\n",
        "            d_scaler,\n",
        "            g_scaler,\n",
        "            epoch,\n",
        "        )\n",
        "\n",
        "        if SAVE_MODEL:\n",
        "            save_checkpoint(gen_H, opt_gen, filename=CHECKPOINT_GEN_H)\n",
        "            save_checkpoint(gen_Z, opt_gen, filename=CHECKPOINT_GEN_Z)\n",
        "            save_checkpoint(disc_H, opt_disc, filename=CHECKPOINT_CRITIC_H)\n",
        "            save_checkpoint(disc_Z, opt_disc, filename=CHECKPOINT_CRITIC_Z)\n"
      ],
      "metadata": {
        "id": "kwYKsnGZAQ_x"
      },
      "execution_count": null,
      "outputs": []
    },
    {
      "cell_type": "code",
      "source": [
        "main()"
      ],
      "metadata": {
        "colab": {
          "base_uri": "https://localhost:8080/"
        },
        "id": "AdQnKbj2FFkK",
        "outputId": "a748f2a4-b067-4a05-991a-afe952bbbc4f"
      },
      "execution_count": null,
      "outputs": [
        {
          "output_type": "stream",
          "name": "stdout",
          "text": [
            "=> Loading checkpoint\n",
            "=> Loading checkpoint\n",
            "=> Loading checkpoint\n",
            "=> Loading checkpoint\n"
          ]
        },
        {
          "output_type": "stream",
          "name": "stderr",
          "text": [
            "/usr/local/lib/python3.10/dist-packages/torch/utils/data/dataloader.py:560: UserWarning: This DataLoader will create 4 worker processes in total. Our suggested max number of worker in current system is 2, which is smaller than what this DataLoader is going to create. Please be aware that excessive worker creation might get DataLoader running slow or even freeze, lower the worker number to avoid potential slowness/freeze if necessary.\n",
            "  warnings.warn(_create_warning_msg(\n"
          ]
        },
        {
          "output_type": "stream",
          "name": "stdout",
          "text": [
            "Epochs :  0\n"
          ]
        },
        {
          "output_type": "stream",
          "name": "stderr",
          "text": [
            "100%|██████████| 167/167 [02:58<00:00,  1.07s/it, H_fake=0.48, H_real=0.517]\n"
          ]
        },
        {
          "output_type": "stream",
          "name": "stdout",
          "text": [
            "=> Saving checkpoint\n",
            "=> Saving checkpoint\n",
            "=> Saving checkpoint\n",
            "=> Saving checkpoint\n",
            "Epochs :  1\n"
          ]
        },
        {
          "output_type": "stream",
          "name": "stderr",
          "text": [
            "100%|██████████| 167/167 [02:48<00:00,  1.01s/it, H_fake=0.479, H_real=0.521]\n"
          ]
        },
        {
          "output_type": "stream",
          "name": "stdout",
          "text": [
            "=> Saving checkpoint\n",
            "=> Saving checkpoint\n",
            "=> Saving checkpoint\n",
            "=> Saving checkpoint\n",
            "Epochs :  2\n"
          ]
        },
        {
          "output_type": "stream",
          "name": "stderr",
          "text": [
            "100%|██████████| 167/167 [02:48<00:00,  1.01s/it, H_fake=0.48, H_real=0.517]\n"
          ]
        },
        {
          "output_type": "stream",
          "name": "stdout",
          "text": [
            "=> Saving checkpoint\n",
            "=> Saving checkpoint\n",
            "=> Saving checkpoint\n",
            "=> Saving checkpoint\n",
            "Epochs :  3\n"
          ]
        },
        {
          "output_type": "stream",
          "name": "stderr",
          "text": [
            "100%|██████████| 167/167 [02:48<00:00,  1.01s/it, H_fake=0.478, H_real=0.52]\n"
          ]
        },
        {
          "output_type": "stream",
          "name": "stdout",
          "text": [
            "=> Saving checkpoint\n",
            "=> Saving checkpoint\n",
            "=> Saving checkpoint\n",
            "=> Saving checkpoint\n",
            "Epochs :  4\n"
          ]
        },
        {
          "output_type": "stream",
          "name": "stderr",
          "text": [
            "100%|██████████| 167/167 [02:48<00:00,  1.01s/it, H_fake=0.477, H_real=0.52]\n"
          ]
        },
        {
          "output_type": "stream",
          "name": "stdout",
          "text": [
            "=> Saving checkpoint\n",
            "=> Saving checkpoint\n",
            "=> Saving checkpoint\n",
            "=> Saving checkpoint\n",
            "Epochs :  5\n"
          ]
        },
        {
          "output_type": "stream",
          "name": "stderr",
          "text": [
            "100%|██████████| 167/167 [02:48<00:00,  1.01s/it, H_fake=0.478, H_real=0.521]\n"
          ]
        },
        {
          "output_type": "stream",
          "name": "stdout",
          "text": [
            "=> Saving checkpoint\n",
            "=> Saving checkpoint\n",
            "=> Saving checkpoint\n",
            "=> Saving checkpoint\n",
            "Epochs :  6\n"
          ]
        },
        {
          "output_type": "stream",
          "name": "stderr",
          "text": [
            "100%|██████████| 167/167 [02:48<00:00,  1.01s/it, H_fake=0.478, H_real=0.519]\n"
          ]
        },
        {
          "output_type": "stream",
          "name": "stdout",
          "text": [
            "=> Saving checkpoint\n",
            "=> Saving checkpoint\n",
            "=> Saving checkpoint\n",
            "=> Saving checkpoint\n",
            "Epochs :  7\n"
          ]
        },
        {
          "output_type": "stream",
          "name": "stderr",
          "text": [
            "100%|██████████| 167/167 [02:48<00:00,  1.01s/it, H_fake=0.479, H_real=0.52]\n"
          ]
        },
        {
          "output_type": "stream",
          "name": "stdout",
          "text": [
            "=> Saving checkpoint\n",
            "=> Saving checkpoint\n",
            "=> Saving checkpoint\n",
            "=> Saving checkpoint\n",
            "Epochs :  8\n"
          ]
        },
        {
          "output_type": "stream",
          "name": "stderr",
          "text": [
            "100%|██████████| 167/167 [02:48<00:00,  1.01s/it, H_fake=0.478, H_real=0.52]\n"
          ]
        },
        {
          "output_type": "stream",
          "name": "stdout",
          "text": [
            "=> Saving checkpoint\n",
            "=> Saving checkpoint\n",
            "=> Saving checkpoint\n",
            "=> Saving checkpoint\n",
            "Epochs :  9\n"
          ]
        },
        {
          "output_type": "stream",
          "name": "stderr",
          "text": [
            "100%|██████████| 167/167 [02:48<00:00,  1.01s/it, H_fake=0.478, H_real=0.521]\n"
          ]
        },
        {
          "output_type": "stream",
          "name": "stdout",
          "text": [
            "=> Saving checkpoint\n",
            "=> Saving checkpoint\n",
            "=> Saving checkpoint\n",
            "=> Saving checkpoint\n",
            "Epochs :  10\n"
          ]
        },
        {
          "output_type": "stream",
          "name": "stderr",
          "text": [
            "100%|██████████| 167/167 [02:48<00:00,  1.01s/it, H_fake=0.477, H_real=0.522]\n"
          ]
        },
        {
          "output_type": "stream",
          "name": "stdout",
          "text": [
            "=> Saving checkpoint\n",
            "=> Saving checkpoint\n",
            "=> Saving checkpoint\n",
            "=> Saving checkpoint\n",
            "Epochs :  11\n"
          ]
        },
        {
          "output_type": "stream",
          "name": "stderr",
          "text": [
            "100%|██████████| 167/167 [02:48<00:00,  1.01s/it, H_fake=0.478, H_real=0.521]\n"
          ]
        },
        {
          "output_type": "stream",
          "name": "stdout",
          "text": [
            "=> Saving checkpoint\n",
            "=> Saving checkpoint\n",
            "=> Saving checkpoint\n",
            "=> Saving checkpoint\n",
            "Epochs :  12\n"
          ]
        },
        {
          "output_type": "stream",
          "name": "stderr",
          "text": [
            "100%|██████████| 167/167 [02:48<00:00,  1.01s/it, H_fake=0.477, H_real=0.52]\n"
          ]
        },
        {
          "output_type": "stream",
          "name": "stdout",
          "text": [
            "=> Saving checkpoint\n",
            "=> Saving checkpoint\n",
            "=> Saving checkpoint\n",
            "=> Saving checkpoint\n",
            "Epochs :  13\n"
          ]
        },
        {
          "output_type": "stream",
          "name": "stderr",
          "text": [
            "100%|██████████| 167/167 [02:48<00:00,  1.01s/it, H_fake=0.478, H_real=0.521]\n"
          ]
        },
        {
          "output_type": "stream",
          "name": "stdout",
          "text": [
            "=> Saving checkpoint\n",
            "=> Saving checkpoint\n",
            "=> Saving checkpoint\n",
            "=> Saving checkpoint\n",
            "Epochs :  14\n"
          ]
        },
        {
          "output_type": "stream",
          "name": "stderr",
          "text": [
            "100%|██████████| 167/167 [02:48<00:00,  1.01s/it, H_fake=0.477, H_real=0.522]\n"
          ]
        },
        {
          "output_type": "stream",
          "name": "stdout",
          "text": [
            "=> Saving checkpoint\n",
            "=> Saving checkpoint\n",
            "=> Saving checkpoint\n",
            "=> Saving checkpoint\n",
            "Epochs :  15\n"
          ]
        },
        {
          "output_type": "stream",
          "name": "stderr",
          "text": [
            "100%|██████████| 167/167 [02:48<00:00,  1.01s/it, H_fake=0.477, H_real=0.52]\n"
          ]
        },
        {
          "output_type": "stream",
          "name": "stdout",
          "text": [
            "=> Saving checkpoint\n",
            "=> Saving checkpoint\n",
            "=> Saving checkpoint\n",
            "=> Saving checkpoint\n",
            "Epochs :  16\n"
          ]
        },
        {
          "output_type": "stream",
          "name": "stderr",
          "text": [
            "100%|██████████| 167/167 [02:48<00:00,  1.01s/it, H_fake=0.476, H_real=0.521]\n"
          ]
        },
        {
          "output_type": "stream",
          "name": "stdout",
          "text": [
            "=> Saving checkpoint\n",
            "=> Saving checkpoint\n",
            "=> Saving checkpoint\n",
            "=> Saving checkpoint\n",
            "Epochs :  17\n"
          ]
        },
        {
          "output_type": "stream",
          "name": "stderr",
          "text": [
            "100%|██████████| 167/167 [02:47<00:00,  1.01s/it, H_fake=0.477, H_real=0.522]\n"
          ]
        },
        {
          "output_type": "stream",
          "name": "stdout",
          "text": [
            "=> Saving checkpoint\n",
            "=> Saving checkpoint\n",
            "=> Saving checkpoint\n",
            "=> Saving checkpoint\n",
            "Epochs :  18\n"
          ]
        },
        {
          "output_type": "stream",
          "name": "stderr",
          "text": [
            "100%|██████████| 167/167 [02:47<00:00,  1.01s/it, H_fake=0.476, H_real=0.522]\n"
          ]
        },
        {
          "output_type": "stream",
          "name": "stdout",
          "text": [
            "=> Saving checkpoint\n",
            "=> Saving checkpoint\n",
            "=> Saving checkpoint\n",
            "=> Saving checkpoint\n",
            "Epochs :  19\n"
          ]
        },
        {
          "output_type": "stream",
          "name": "stderr",
          "text": [
            "100%|██████████| 167/167 [02:48<00:00,  1.01s/it, H_fake=0.476, H_real=0.522]\n"
          ]
        },
        {
          "output_type": "stream",
          "name": "stdout",
          "text": [
            "=> Saving checkpoint\n",
            "=> Saving checkpoint\n",
            "=> Saving checkpoint\n",
            "=> Saving checkpoint\n",
            "Epochs :  20\n"
          ]
        },
        {
          "output_type": "stream",
          "name": "stderr",
          "text": [
            "100%|██████████| 167/167 [02:48<00:00,  1.01s/it, H_fake=0.476, H_real=0.523]\n"
          ]
        },
        {
          "output_type": "stream",
          "name": "stdout",
          "text": [
            "=> Saving checkpoint\n",
            "=> Saving checkpoint\n",
            "=> Saving checkpoint\n",
            "=> Saving checkpoint\n",
            "Epochs :  21\n"
          ]
        },
        {
          "output_type": "stream",
          "name": "stderr",
          "text": [
            "100%|██████████| 167/167 [02:48<00:00,  1.01s/it, H_fake=0.475, H_real=0.523]\n"
          ]
        },
        {
          "output_type": "stream",
          "name": "stdout",
          "text": [
            "=> Saving checkpoint\n",
            "=> Saving checkpoint\n",
            "=> Saving checkpoint\n",
            "=> Saving checkpoint\n",
            "Epochs :  22\n"
          ]
        },
        {
          "output_type": "stream",
          "name": "stderr",
          "text": [
            "100%|██████████| 167/167 [02:48<00:00,  1.01s/it, H_fake=0.475, H_real=0.524]\n"
          ]
        },
        {
          "output_type": "stream",
          "name": "stdout",
          "text": [
            "=> Saving checkpoint\n",
            "=> Saving checkpoint\n",
            "=> Saving checkpoint\n",
            "=> Saving checkpoint\n",
            "Epochs :  23\n"
          ]
        },
        {
          "output_type": "stream",
          "name": "stderr",
          "text": [
            "100%|██████████| 167/167 [02:48<00:00,  1.01s/it, H_fake=0.477, H_real=0.523]\n"
          ]
        },
        {
          "output_type": "stream",
          "name": "stdout",
          "text": [
            "=> Saving checkpoint\n",
            "=> Saving checkpoint\n",
            "=> Saving checkpoint\n",
            "=> Saving checkpoint\n",
            "Epochs :  24\n"
          ]
        },
        {
          "output_type": "stream",
          "name": "stderr",
          "text": [
            "100%|██████████| 167/167 [02:48<00:00,  1.01s/it, H_fake=0.476, H_real=0.522]\n"
          ]
        },
        {
          "output_type": "stream",
          "name": "stdout",
          "text": [
            "=> Saving checkpoint\n",
            "=> Saving checkpoint\n",
            "=> Saving checkpoint\n",
            "=> Saving checkpoint\n",
            "Epochs :  25\n"
          ]
        },
        {
          "output_type": "stream",
          "name": "stderr",
          "text": [
            "100%|██████████| 167/167 [02:47<00:00,  1.00s/it, H_fake=0.476, H_real=0.522]\n"
          ]
        },
        {
          "output_type": "stream",
          "name": "stdout",
          "text": [
            "=> Saving checkpoint\n",
            "=> Saving checkpoint\n",
            "=> Saving checkpoint\n",
            "=> Saving checkpoint\n",
            "Epochs :  26\n"
          ]
        },
        {
          "output_type": "stream",
          "name": "stderr",
          "text": [
            "100%|██████████| 167/167 [02:47<00:00,  1.01s/it, H_fake=0.475, H_real=0.523]\n"
          ]
        },
        {
          "output_type": "stream",
          "name": "stdout",
          "text": [
            "=> Saving checkpoint\n",
            "=> Saving checkpoint\n",
            "=> Saving checkpoint\n",
            "=> Saving checkpoint\n",
            "Epochs :  27\n"
          ]
        },
        {
          "output_type": "stream",
          "name": "stderr",
          "text": [
            "100%|██████████| 167/167 [02:48<00:00,  1.01s/it, H_fake=0.475, H_real=0.524]\n"
          ]
        },
        {
          "output_type": "stream",
          "name": "stdout",
          "text": [
            "=> Saving checkpoint\n",
            "=> Saving checkpoint\n",
            "=> Saving checkpoint\n",
            "=> Saving checkpoint\n",
            "Epochs :  28\n"
          ]
        },
        {
          "output_type": "stream",
          "name": "stderr",
          "text": [
            "100%|██████████| 167/167 [02:48<00:00,  1.01s/it, H_fake=0.476, H_real=0.522]\n"
          ]
        },
        {
          "output_type": "stream",
          "name": "stdout",
          "text": [
            "=> Saving checkpoint\n",
            "=> Saving checkpoint\n",
            "=> Saving checkpoint\n",
            "=> Saving checkpoint\n",
            "Epochs :  29\n"
          ]
        },
        {
          "output_type": "stream",
          "name": "stderr",
          "text": [
            "100%|██████████| 167/167 [02:48<00:00,  1.01s/it, H_fake=0.476, H_real=0.523]\n"
          ]
        },
        {
          "output_type": "stream",
          "name": "stdout",
          "text": [
            "=> Saving checkpoint\n",
            "=> Saving checkpoint\n",
            "=> Saving checkpoint\n",
            "=> Saving checkpoint\n",
            "Epochs :  30\n"
          ]
        },
        {
          "output_type": "stream",
          "name": "stderr",
          "text": [
            "100%|██████████| 167/167 [02:47<00:00,  1.01s/it, H_fake=0.476, H_real=0.523]\n"
          ]
        },
        {
          "output_type": "stream",
          "name": "stdout",
          "text": [
            "=> Saving checkpoint\n",
            "=> Saving checkpoint\n",
            "=> Saving checkpoint\n",
            "=> Saving checkpoint\n",
            "Epochs :  31\n"
          ]
        },
        {
          "output_type": "stream",
          "name": "stderr",
          "text": [
            "100%|██████████| 167/167 [02:48<00:00,  1.01s/it, H_fake=0.474, H_real=0.524]\n"
          ]
        },
        {
          "output_type": "stream",
          "name": "stdout",
          "text": [
            "=> Saving checkpoint\n",
            "=> Saving checkpoint\n",
            "=> Saving checkpoint\n",
            "=> Saving checkpoint\n",
            "Epochs :  32\n"
          ]
        },
        {
          "output_type": "stream",
          "name": "stderr",
          "text": [
            "100%|██████████| 167/167 [02:48<00:00,  1.01s/it, H_fake=0.475, H_real=0.523]\n"
          ]
        },
        {
          "output_type": "stream",
          "name": "stdout",
          "text": [
            "=> Saving checkpoint\n",
            "=> Saving checkpoint\n",
            "=> Saving checkpoint\n",
            "=> Saving checkpoint\n",
            "Epochs :  33\n"
          ]
        },
        {
          "output_type": "stream",
          "name": "stderr",
          "text": [
            "100%|██████████| 167/167 [02:48<00:00,  1.01s/it, H_fake=0.474, H_real=0.524]\n"
          ]
        },
        {
          "output_type": "stream",
          "name": "stdout",
          "text": [
            "=> Saving checkpoint\n",
            "=> Saving checkpoint\n",
            "=> Saving checkpoint\n",
            "=> Saving checkpoint\n",
            "Epochs :  34\n"
          ]
        },
        {
          "output_type": "stream",
          "name": "stderr",
          "text": [
            "100%|██████████| 167/167 [02:48<00:00,  1.01s/it, H_fake=0.476, H_real=0.524]\n"
          ]
        },
        {
          "output_type": "stream",
          "name": "stdout",
          "text": [
            "=> Saving checkpoint\n",
            "=> Saving checkpoint\n",
            "=> Saving checkpoint\n",
            "=> Saving checkpoint\n",
            "Epochs :  35\n"
          ]
        },
        {
          "output_type": "stream",
          "name": "stderr",
          "text": [
            "100%|██████████| 167/167 [02:47<00:00,  1.01s/it, H_fake=0.475, H_real=0.523]\n"
          ]
        },
        {
          "output_type": "stream",
          "name": "stdout",
          "text": [
            "=> Saving checkpoint\n",
            "=> Saving checkpoint\n",
            "=> Saving checkpoint\n",
            "=> Saving checkpoint\n",
            "Epochs :  36\n"
          ]
        },
        {
          "output_type": "stream",
          "name": "stderr",
          "text": [
            "100%|██████████| 167/167 [02:48<00:00,  1.01s/it, H_fake=0.475, H_real=0.523]\n"
          ]
        },
        {
          "output_type": "stream",
          "name": "stdout",
          "text": [
            "=> Saving checkpoint\n",
            "=> Saving checkpoint\n",
            "=> Saving checkpoint\n",
            "=> Saving checkpoint\n",
            "Epochs :  37\n"
          ]
        },
        {
          "output_type": "stream",
          "name": "stderr",
          "text": [
            "100%|██████████| 167/167 [02:48<00:00,  1.01s/it, H_fake=0.475, H_real=0.524]\n"
          ]
        },
        {
          "output_type": "stream",
          "name": "stdout",
          "text": [
            "=> Saving checkpoint\n",
            "=> Saving checkpoint\n",
            "=> Saving checkpoint\n",
            "=> Saving checkpoint\n",
            "Epochs :  38\n"
          ]
        },
        {
          "output_type": "stream",
          "name": "stderr",
          "text": [
            "100%|██████████| 167/167 [02:48<00:00,  1.01s/it, H_fake=0.474, H_real=0.523]\n"
          ]
        },
        {
          "output_type": "stream",
          "name": "stdout",
          "text": [
            "=> Saving checkpoint\n",
            "=> Saving checkpoint\n",
            "=> Saving checkpoint\n",
            "=> Saving checkpoint\n",
            "Epochs :  39\n"
          ]
        },
        {
          "output_type": "stream",
          "name": "stderr",
          "text": [
            "100%|██████████| 167/167 [02:48<00:00,  1.01s/it, H_fake=0.475, H_real=0.523]\n"
          ]
        },
        {
          "output_type": "stream",
          "name": "stdout",
          "text": [
            "=> Saving checkpoint\n",
            "=> Saving checkpoint\n",
            "=> Saving checkpoint\n",
            "=> Saving checkpoint\n",
            "Epochs :  40\n"
          ]
        },
        {
          "output_type": "stream",
          "name": "stderr",
          "text": [
            "100%|██████████| 167/167 [02:48<00:00,  1.01s/it, H_fake=0.475, H_real=0.523]\n"
          ]
        },
        {
          "output_type": "stream",
          "name": "stdout",
          "text": [
            "=> Saving checkpoint\n",
            "=> Saving checkpoint\n",
            "=> Saving checkpoint\n",
            "=> Saving checkpoint\n",
            "Epochs :  41\n"
          ]
        },
        {
          "output_type": "stream",
          "name": "stderr",
          "text": [
            "100%|██████████| 167/167 [02:48<00:00,  1.01s/it, H_fake=0.474, H_real=0.524]\n"
          ]
        },
        {
          "output_type": "stream",
          "name": "stdout",
          "text": [
            "=> Saving checkpoint\n",
            "=> Saving checkpoint\n",
            "=> Saving checkpoint\n",
            "=> Saving checkpoint\n",
            "Epochs :  42\n"
          ]
        },
        {
          "output_type": "stream",
          "name": "stderr",
          "text": [
            "100%|██████████| 167/167 [02:47<00:00,  1.01s/it, H_fake=0.475, H_real=0.524]\n"
          ]
        },
        {
          "output_type": "stream",
          "name": "stdout",
          "text": [
            "=> Saving checkpoint\n",
            "=> Saving checkpoint\n",
            "=> Saving checkpoint\n",
            "=> Saving checkpoint\n",
            "Epochs :  43\n"
          ]
        },
        {
          "output_type": "stream",
          "name": "stderr",
          "text": [
            "100%|██████████| 167/167 [02:48<00:00,  1.01s/it, H_fake=0.476, H_real=0.523]\n"
          ]
        },
        {
          "output_type": "stream",
          "name": "stdout",
          "text": [
            "=> Saving checkpoint\n",
            "=> Saving checkpoint\n",
            "=> Saving checkpoint\n",
            "=> Saving checkpoint\n",
            "Epochs :  44\n"
          ]
        },
        {
          "output_type": "stream",
          "name": "stderr",
          "text": [
            "100%|██████████| 167/167 [02:48<00:00,  1.01s/it, H_fake=0.474, H_real=0.524]\n"
          ]
        },
        {
          "output_type": "stream",
          "name": "stdout",
          "text": [
            "=> Saving checkpoint\n",
            "=> Saving checkpoint\n",
            "=> Saving checkpoint\n",
            "=> Saving checkpoint\n",
            "Epochs :  45\n"
          ]
        },
        {
          "output_type": "stream",
          "name": "stderr",
          "text": [
            "100%|██████████| 167/167 [02:47<00:00,  1.00s/it, H_fake=0.474, H_real=0.524]\n"
          ]
        },
        {
          "output_type": "stream",
          "name": "stdout",
          "text": [
            "=> Saving checkpoint\n",
            "=> Saving checkpoint\n",
            "=> Saving checkpoint\n",
            "=> Saving checkpoint\n",
            "Epochs :  46\n"
          ]
        },
        {
          "output_type": "stream",
          "name": "stderr",
          "text": [
            "100%|██████████| 167/167 [02:48<00:00,  1.01s/it, H_fake=0.475, H_real=0.524]\n"
          ]
        },
        {
          "output_type": "stream",
          "name": "stdout",
          "text": [
            "=> Saving checkpoint\n",
            "=> Saving checkpoint\n",
            "=> Saving checkpoint\n",
            "=> Saving checkpoint\n",
            "Epochs :  47\n"
          ]
        },
        {
          "output_type": "stream",
          "name": "stderr",
          "text": [
            "100%|██████████| 167/167 [02:47<00:00,  1.00s/it, H_fake=0.475, H_real=0.523]\n"
          ]
        },
        {
          "output_type": "stream",
          "name": "stdout",
          "text": [
            "=> Saving checkpoint\n",
            "=> Saving checkpoint\n",
            "=> Saving checkpoint\n",
            "=> Saving checkpoint\n",
            "Epochs :  48\n"
          ]
        },
        {
          "output_type": "stream",
          "name": "stderr",
          "text": [
            "100%|██████████| 167/167 [02:48<00:00,  1.01s/it, H_fake=0.474, H_real=0.524]\n"
          ]
        },
        {
          "output_type": "stream",
          "name": "stdout",
          "text": [
            "=> Saving checkpoint\n",
            "=> Saving checkpoint\n",
            "=> Saving checkpoint\n",
            "=> Saving checkpoint\n",
            "Epochs :  49\n"
          ]
        },
        {
          "output_type": "stream",
          "name": "stderr",
          "text": [
            "100%|██████████| 167/167 [02:48<00:00,  1.01s/it, H_fake=0.474, H_real=0.524]\n"
          ]
        },
        {
          "output_type": "stream",
          "name": "stdout",
          "text": [
            "=> Saving checkpoint\n",
            "=> Saving checkpoint\n",
            "=> Saving checkpoint\n",
            "=> Saving checkpoint\n",
            "Epochs :  50\n"
          ]
        },
        {
          "output_type": "stream",
          "name": "stderr",
          "text": [
            "100%|██████████| 167/167 [02:48<00:00,  1.01s/it, H_fake=0.475, H_real=0.524]\n"
          ]
        },
        {
          "output_type": "stream",
          "name": "stdout",
          "text": [
            "=> Saving checkpoint\n",
            "=> Saving checkpoint\n",
            "=> Saving checkpoint\n",
            "=> Saving checkpoint\n",
            "Epochs :  51\n"
          ]
        },
        {
          "output_type": "stream",
          "name": "stderr",
          "text": [
            "100%|██████████| 167/167 [02:48<00:00,  1.01s/it, H_fake=0.474, H_real=0.523]\n"
          ]
        },
        {
          "output_type": "stream",
          "name": "stdout",
          "text": [
            "=> Saving checkpoint\n",
            "=> Saving checkpoint\n",
            "=> Saving checkpoint\n",
            "=> Saving checkpoint\n",
            "Epochs :  52\n"
          ]
        },
        {
          "output_type": "stream",
          "name": "stderr",
          "text": [
            "100%|██████████| 167/167 [02:48<00:00,  1.01s/it, H_fake=0.475, H_real=0.524]\n"
          ]
        },
        {
          "output_type": "stream",
          "name": "stdout",
          "text": [
            "=> Saving checkpoint\n",
            "=> Saving checkpoint\n",
            "=> Saving checkpoint\n",
            "=> Saving checkpoint\n",
            "Epochs :  53\n"
          ]
        },
        {
          "output_type": "stream",
          "name": "stderr",
          "text": [
            "100%|██████████| 167/167 [02:48<00:00,  1.01s/it, H_fake=0.474, H_real=0.523]\n"
          ]
        },
        {
          "output_type": "stream",
          "name": "stdout",
          "text": [
            "=> Saving checkpoint\n",
            "=> Saving checkpoint\n",
            "=> Saving checkpoint\n",
            "=> Saving checkpoint\n",
            "Epochs :  54\n"
          ]
        },
        {
          "output_type": "stream",
          "name": "stderr",
          "text": [
            "100%|██████████| 167/167 [02:48<00:00,  1.01s/it, H_fake=0.473, H_real=0.524]\n"
          ]
        },
        {
          "output_type": "stream",
          "name": "stdout",
          "text": [
            "=> Saving checkpoint\n",
            "=> Saving checkpoint\n",
            "=> Saving checkpoint\n",
            "=> Saving checkpoint\n",
            "Epochs :  55\n"
          ]
        },
        {
          "output_type": "stream",
          "name": "stderr",
          "text": [
            "100%|██████████| 167/167 [02:48<00:00,  1.01s/it, H_fake=0.474, H_real=0.525]\n"
          ]
        },
        {
          "output_type": "stream",
          "name": "stdout",
          "text": [
            "=> Saving checkpoint\n",
            "=> Saving checkpoint\n",
            "=> Saving checkpoint\n",
            "=> Saving checkpoint\n",
            "Epochs :  56\n"
          ]
        },
        {
          "output_type": "stream",
          "name": "stderr",
          "text": [
            "100%|██████████| 167/167 [02:48<00:00,  1.01s/it, H_fake=0.474, H_real=0.524]\n"
          ]
        },
        {
          "output_type": "stream",
          "name": "stdout",
          "text": [
            "=> Saving checkpoint\n",
            "=> Saving checkpoint\n",
            "=> Saving checkpoint\n",
            "=> Saving checkpoint\n",
            "Epochs :  57\n"
          ]
        },
        {
          "output_type": "stream",
          "name": "stderr",
          "text": [
            "100%|██████████| 167/167 [02:47<00:00,  1.01s/it, H_fake=0.475, H_real=0.524]\n"
          ]
        },
        {
          "output_type": "stream",
          "name": "stdout",
          "text": [
            "=> Saving checkpoint\n",
            "=> Saving checkpoint\n",
            "=> Saving checkpoint\n",
            "=> Saving checkpoint\n",
            "Epochs :  58\n"
          ]
        },
        {
          "output_type": "stream",
          "name": "stderr",
          "text": [
            "100%|██████████| 167/167 [02:47<00:00,  1.01s/it, H_fake=0.474, H_real=0.523]\n"
          ]
        },
        {
          "output_type": "stream",
          "name": "stdout",
          "text": [
            "=> Saving checkpoint\n",
            "=> Saving checkpoint\n",
            "=> Saving checkpoint\n",
            "=> Saving checkpoint\n",
            "Epochs :  59\n"
          ]
        },
        {
          "output_type": "stream",
          "name": "stderr",
          "text": [
            "100%|██████████| 167/167 [02:48<00:00,  1.01s/it, H_fake=0.475, H_real=0.524]\n"
          ]
        },
        {
          "output_type": "stream",
          "name": "stdout",
          "text": [
            "=> Saving checkpoint\n",
            "=> Saving checkpoint\n",
            "=> Saving checkpoint\n",
            "=> Saving checkpoint\n",
            "Epochs :  60\n"
          ]
        },
        {
          "output_type": "stream",
          "name": "stderr",
          "text": [
            "100%|██████████| 167/167 [02:48<00:00,  1.01s/it, H_fake=0.475, H_real=0.524]\n"
          ]
        },
        {
          "output_type": "stream",
          "name": "stdout",
          "text": [
            "=> Saving checkpoint\n",
            "=> Saving checkpoint\n",
            "=> Saving checkpoint\n",
            "=> Saving checkpoint\n",
            "Epochs :  61\n"
          ]
        },
        {
          "output_type": "stream",
          "name": "stderr",
          "text": [
            "100%|██████████| 167/167 [02:47<00:00,  1.00s/it, H_fake=0.475, H_real=0.524]\n"
          ]
        },
        {
          "output_type": "stream",
          "name": "stdout",
          "text": [
            "=> Saving checkpoint\n",
            "=> Saving checkpoint\n",
            "=> Saving checkpoint\n",
            "=> Saving checkpoint\n",
            "Epochs :  62\n"
          ]
        },
        {
          "output_type": "stream",
          "name": "stderr",
          "text": [
            "100%|██████████| 167/167 [02:48<00:00,  1.01s/it, H_fake=0.474, H_real=0.523]\n"
          ]
        },
        {
          "output_type": "stream",
          "name": "stdout",
          "text": [
            "=> Saving checkpoint\n",
            "=> Saving checkpoint\n",
            "=> Saving checkpoint\n",
            "=> Saving checkpoint\n",
            "Epochs :  63\n"
          ]
        },
        {
          "output_type": "stream",
          "name": "stderr",
          "text": [
            "100%|██████████| 167/167 [02:48<00:00,  1.01s/it, H_fake=0.475, H_real=0.524]\n"
          ]
        },
        {
          "output_type": "stream",
          "name": "stdout",
          "text": [
            "=> Saving checkpoint\n",
            "=> Saving checkpoint\n",
            "=> Saving checkpoint\n",
            "=> Saving checkpoint\n",
            "Epochs :  64\n"
          ]
        },
        {
          "output_type": "stream",
          "name": "stderr",
          "text": [
            "100%|██████████| 167/167 [02:48<00:00,  1.01s/it, H_fake=0.474, H_real=0.524]\n"
          ]
        },
        {
          "output_type": "stream",
          "name": "stdout",
          "text": [
            "=> Saving checkpoint\n",
            "=> Saving checkpoint\n",
            "=> Saving checkpoint\n",
            "=> Saving checkpoint\n",
            "Epochs :  65\n"
          ]
        },
        {
          "output_type": "stream",
          "name": "stderr",
          "text": [
            "100%|██████████| 167/167 [02:48<00:00,  1.01s/it, H_fake=0.475, H_real=0.523]\n"
          ]
        },
        {
          "output_type": "stream",
          "name": "stdout",
          "text": [
            "=> Saving checkpoint\n",
            "=> Saving checkpoint\n",
            "=> Saving checkpoint\n",
            "=> Saving checkpoint\n",
            "Epochs :  66\n"
          ]
        },
        {
          "output_type": "stream",
          "name": "stderr",
          "text": [
            "100%|██████████| 167/167 [02:48<00:00,  1.01s/it, H_fake=0.475, H_real=0.523]\n"
          ]
        },
        {
          "output_type": "stream",
          "name": "stdout",
          "text": [
            "=> Saving checkpoint\n",
            "=> Saving checkpoint\n",
            "=> Saving checkpoint\n",
            "=> Saving checkpoint\n",
            "Epochs :  67\n"
          ]
        },
        {
          "output_type": "stream",
          "name": "stderr",
          "text": [
            "100%|██████████| 167/167 [02:48<00:00,  1.01s/it, H_fake=0.475, H_real=0.523]\n"
          ]
        },
        {
          "output_type": "stream",
          "name": "stdout",
          "text": [
            "=> Saving checkpoint\n",
            "=> Saving checkpoint\n",
            "=> Saving checkpoint\n",
            "=> Saving checkpoint\n",
            "Epochs :  68\n"
          ]
        },
        {
          "output_type": "stream",
          "name": "stderr",
          "text": [
            "100%|██████████| 167/167 [02:48<00:00,  1.01s/it, H_fake=0.475, H_real=0.523]\n"
          ]
        },
        {
          "output_type": "stream",
          "name": "stdout",
          "text": [
            "=> Saving checkpoint\n",
            "=> Saving checkpoint\n",
            "=> Saving checkpoint\n",
            "=> Saving checkpoint\n",
            "Epochs :  69\n"
          ]
        },
        {
          "output_type": "stream",
          "name": "stderr",
          "text": [
            "100%|██████████| 167/167 [02:48<00:00,  1.01s/it, H_fake=0.475, H_real=0.523]\n"
          ]
        },
        {
          "output_type": "stream",
          "name": "stdout",
          "text": [
            "=> Saving checkpoint\n",
            "=> Saving checkpoint\n",
            "=> Saving checkpoint\n",
            "=> Saving checkpoint\n",
            "Epochs :  70\n"
          ]
        },
        {
          "output_type": "stream",
          "name": "stderr",
          "text": [
            "100%|██████████| 167/167 [02:48<00:00,  1.01s/it, H_fake=0.476, H_real=0.522]\n"
          ]
        },
        {
          "output_type": "stream",
          "name": "stdout",
          "text": [
            "=> Saving checkpoint\n",
            "=> Saving checkpoint\n",
            "=> Saving checkpoint\n",
            "=> Saving checkpoint\n",
            "Epochs :  71\n"
          ]
        },
        {
          "output_type": "stream",
          "name": "stderr",
          "text": [
            "100%|██████████| 167/167 [02:48<00:00,  1.01s/it, H_fake=0.476, H_real=0.522]\n"
          ]
        },
        {
          "output_type": "stream",
          "name": "stdout",
          "text": [
            "=> Saving checkpoint\n",
            "=> Saving checkpoint\n",
            "=> Saving checkpoint\n",
            "=> Saving checkpoint\n",
            "Epochs :  72\n"
          ]
        },
        {
          "output_type": "stream",
          "name": "stderr",
          "text": [
            "100%|██████████| 167/167 [02:48<00:00,  1.01s/it, H_fake=0.477, H_real=0.522]\n"
          ]
        },
        {
          "output_type": "stream",
          "name": "stdout",
          "text": [
            "=> Saving checkpoint\n",
            "=> Saving checkpoint\n",
            "=> Saving checkpoint\n",
            "=> Saving checkpoint\n",
            "Epochs :  73\n"
          ]
        },
        {
          "output_type": "stream",
          "name": "stderr",
          "text": [
            "100%|██████████| 167/167 [02:48<00:00,  1.01s/it, H_fake=0.476, H_real=0.521]\n"
          ]
        },
        {
          "output_type": "stream",
          "name": "stdout",
          "text": [
            "=> Saving checkpoint\n",
            "=> Saving checkpoint\n",
            "=> Saving checkpoint\n",
            "=> Saving checkpoint\n",
            "Epochs :  74\n"
          ]
        },
        {
          "output_type": "stream",
          "name": "stderr",
          "text": [
            "100%|██████████| 167/167 [02:48<00:00,  1.01s/it, H_fake=0.476, H_real=0.522]\n"
          ]
        },
        {
          "output_type": "stream",
          "name": "stdout",
          "text": [
            "=> Saving checkpoint\n",
            "=> Saving checkpoint\n",
            "=> Saving checkpoint\n",
            "=> Saving checkpoint\n",
            "Epochs :  75\n"
          ]
        },
        {
          "output_type": "stream",
          "name": "stderr",
          "text": [
            "100%|██████████| 167/167 [02:48<00:00,  1.01s/it, H_fake=0.476, H_real=0.522]\n"
          ]
        },
        {
          "output_type": "stream",
          "name": "stdout",
          "text": [
            "=> Saving checkpoint\n",
            "=> Saving checkpoint\n",
            "=> Saving checkpoint\n",
            "=> Saving checkpoint\n",
            "Epochs :  76\n"
          ]
        },
        {
          "output_type": "stream",
          "name": "stderr",
          "text": [
            "100%|██████████| 167/167 [02:48<00:00,  1.01s/it, H_fake=0.476, H_real=0.522]\n"
          ]
        },
        {
          "output_type": "stream",
          "name": "stdout",
          "text": [
            "=> Saving checkpoint\n",
            "=> Saving checkpoint\n",
            "=> Saving checkpoint\n",
            "=> Saving checkpoint\n",
            "Epochs :  77\n"
          ]
        },
        {
          "output_type": "stream",
          "name": "stderr",
          "text": [
            "100%|██████████| 167/167 [02:48<00:00,  1.01s/it, H_fake=0.476, H_real=0.522]\n"
          ]
        },
        {
          "output_type": "stream",
          "name": "stdout",
          "text": [
            "=> Saving checkpoint\n",
            "=> Saving checkpoint\n",
            "=> Saving checkpoint\n",
            "=> Saving checkpoint\n",
            "Epochs :  78\n"
          ]
        },
        {
          "output_type": "stream",
          "name": "stderr",
          "text": [
            "100%|██████████| 167/167 [02:48<00:00,  1.01s/it, H_fake=0.477, H_real=0.521]\n"
          ]
        },
        {
          "output_type": "stream",
          "name": "stdout",
          "text": [
            "=> Saving checkpoint\n",
            "=> Saving checkpoint\n",
            "=> Saving checkpoint\n",
            "=> Saving checkpoint\n",
            "Epochs :  79\n"
          ]
        },
        {
          "output_type": "stream",
          "name": "stderr",
          "text": [
            "100%|██████████| 167/167 [02:48<00:00,  1.01s/it, H_fake=0.477, H_real=0.521]\n"
          ]
        },
        {
          "output_type": "stream",
          "name": "stdout",
          "text": [
            "=> Saving checkpoint\n",
            "=> Saving checkpoint\n",
            "=> Saving checkpoint\n",
            "=> Saving checkpoint\n",
            "Epochs :  80\n"
          ]
        },
        {
          "output_type": "stream",
          "name": "stderr",
          "text": [
            "100%|██████████| 167/167 [02:48<00:00,  1.01s/it, H_fake=0.477, H_real=0.521]\n"
          ]
        },
        {
          "output_type": "stream",
          "name": "stdout",
          "text": [
            "=> Saving checkpoint\n",
            "=> Saving checkpoint\n",
            "=> Saving checkpoint\n",
            "=> Saving checkpoint\n",
            "Epochs :  81\n"
          ]
        },
        {
          "output_type": "stream",
          "name": "stderr",
          "text": [
            "100%|██████████| 167/167 [02:48<00:00,  1.01s/it, H_fake=0.477, H_real=0.521]\n"
          ]
        },
        {
          "output_type": "stream",
          "name": "stdout",
          "text": [
            "=> Saving checkpoint\n",
            "=> Saving checkpoint\n",
            "=> Saving checkpoint\n",
            "=> Saving checkpoint\n",
            "Epochs :  82\n"
          ]
        },
        {
          "output_type": "stream",
          "name": "stderr",
          "text": [
            "100%|██████████| 167/167 [02:46<00:00,  1.00it/s, H_fake=0.477, H_real=0.521]\n"
          ]
        },
        {
          "output_type": "stream",
          "name": "stdout",
          "text": [
            "=> Saving checkpoint\n",
            "=> Saving checkpoint\n",
            "=> Saving checkpoint\n",
            "=> Saving checkpoint\n",
            "Epochs :  83\n"
          ]
        },
        {
          "output_type": "stream",
          "name": "stderr",
          "text": [
            "100%|██████████| 167/167 [02:46<00:00,  1.00it/s, H_fake=0.477, H_real=0.52]\n"
          ]
        },
        {
          "output_type": "stream",
          "name": "stdout",
          "text": [
            "=> Saving checkpoint\n",
            "=> Saving checkpoint\n",
            "=> Saving checkpoint\n",
            "=> Saving checkpoint\n",
            "Epochs :  84\n"
          ]
        },
        {
          "output_type": "stream",
          "name": "stderr",
          "text": [
            "100%|██████████| 167/167 [02:47<00:00,  1.00s/it, H_fake=0.478, H_real=0.52]\n"
          ]
        },
        {
          "output_type": "stream",
          "name": "stdout",
          "text": [
            "=> Saving checkpoint\n",
            "=> Saving checkpoint\n",
            "=> Saving checkpoint\n",
            "=> Saving checkpoint\n",
            "Epochs :  85\n"
          ]
        },
        {
          "output_type": "stream",
          "name": "stderr",
          "text": [
            "100%|██████████| 167/167 [02:46<00:00,  1.00it/s, H_fake=0.477, H_real=0.521]\n"
          ]
        },
        {
          "output_type": "stream",
          "name": "stdout",
          "text": [
            "=> Saving checkpoint\n",
            "=> Saving checkpoint\n",
            "=> Saving checkpoint\n",
            "=> Saving checkpoint\n",
            "Epochs :  86\n"
          ]
        },
        {
          "output_type": "stream",
          "name": "stderr",
          "text": [
            "100%|██████████| 167/167 [02:47<00:00,  1.00s/it, H_fake=0.478, H_real=0.52]\n"
          ]
        },
        {
          "output_type": "stream",
          "name": "stdout",
          "text": [
            "=> Saving checkpoint\n",
            "=> Saving checkpoint\n",
            "=> Saving checkpoint\n",
            "=> Saving checkpoint\n",
            "Epochs :  87\n"
          ]
        },
        {
          "output_type": "stream",
          "name": "stderr",
          "text": [
            "100%|██████████| 167/167 [02:46<00:00,  1.00it/s, H_fake=0.478, H_real=0.52]\n"
          ]
        },
        {
          "output_type": "stream",
          "name": "stdout",
          "text": [
            "=> Saving checkpoint\n",
            "=> Saving checkpoint\n",
            "=> Saving checkpoint\n",
            "=> Saving checkpoint\n",
            "Epochs :  88\n"
          ]
        },
        {
          "output_type": "stream",
          "name": "stderr",
          "text": [
            "100%|██████████| 167/167 [02:46<00:00,  1.00it/s, H_fake=0.478, H_real=0.52]\n"
          ]
        },
        {
          "output_type": "stream",
          "name": "stdout",
          "text": [
            "=> Saving checkpoint\n",
            "=> Saving checkpoint\n",
            "=> Saving checkpoint\n",
            "=> Saving checkpoint\n",
            "Epochs :  89\n"
          ]
        },
        {
          "output_type": "stream",
          "name": "stderr",
          "text": [
            "100%|██████████| 167/167 [02:46<00:00,  1.00it/s, H_fake=0.477, H_real=0.52]\n"
          ]
        },
        {
          "output_type": "stream",
          "name": "stdout",
          "text": [
            "=> Saving checkpoint\n",
            "=> Saving checkpoint\n",
            "=> Saving checkpoint\n",
            "=> Saving checkpoint\n",
            "Epochs :  90\n"
          ]
        },
        {
          "output_type": "stream",
          "name": "stderr",
          "text": [
            "100%|██████████| 167/167 [02:47<00:00,  1.00s/it, H_fake=0.479, H_real=0.52]\n"
          ]
        },
        {
          "output_type": "stream",
          "name": "stdout",
          "text": [
            "=> Saving checkpoint\n",
            "=> Saving checkpoint\n",
            "=> Saving checkpoint\n",
            "=> Saving checkpoint\n",
            "Epochs :  91\n"
          ]
        },
        {
          "output_type": "stream",
          "name": "stderr",
          "text": [
            "100%|██████████| 167/167 [02:47<00:00,  1.00s/it, H_fake=0.478, H_real=0.519]\n"
          ]
        },
        {
          "output_type": "stream",
          "name": "stdout",
          "text": [
            "=> Saving checkpoint\n",
            "=> Saving checkpoint\n",
            "=> Saving checkpoint\n",
            "=> Saving checkpoint\n",
            "Epochs :  92\n"
          ]
        },
        {
          "output_type": "stream",
          "name": "stderr",
          "text": [
            "100%|██████████| 167/167 [02:47<00:00,  1.00s/it, H_fake=0.478, H_real=0.52]\n"
          ]
        },
        {
          "output_type": "stream",
          "name": "stdout",
          "text": [
            "=> Saving checkpoint\n",
            "=> Saving checkpoint\n",
            "=> Saving checkpoint\n",
            "=> Saving checkpoint\n",
            "Epochs :  93\n"
          ]
        },
        {
          "output_type": "stream",
          "name": "stderr",
          "text": [
            "100%|██████████| 167/167 [02:46<00:00,  1.00it/s, H_fake=0.478, H_real=0.519]\n"
          ]
        },
        {
          "output_type": "stream",
          "name": "stdout",
          "text": [
            "=> Saving checkpoint\n",
            "=> Saving checkpoint\n",
            "=> Saving checkpoint\n",
            "=> Saving checkpoint\n",
            "Epochs :  94\n"
          ]
        },
        {
          "output_type": "stream",
          "name": "stderr",
          "text": [
            "100%|██████████| 167/167 [02:47<00:00,  1.00s/it, H_fake=0.478, H_real=0.519]\n"
          ]
        },
        {
          "output_type": "stream",
          "name": "stdout",
          "text": [
            "=> Saving checkpoint\n",
            "=> Saving checkpoint\n",
            "=> Saving checkpoint\n",
            "=> Saving checkpoint\n",
            "Epochs :  95\n"
          ]
        },
        {
          "output_type": "stream",
          "name": "stderr",
          "text": [
            "100%|██████████| 167/167 [02:47<00:00,  1.00s/it, H_fake=0.479, H_real=0.519]\n"
          ]
        },
        {
          "output_type": "stream",
          "name": "stdout",
          "text": [
            "=> Saving checkpoint\n",
            "=> Saving checkpoint\n",
            "=> Saving checkpoint\n",
            "=> Saving checkpoint\n",
            "Epochs :  96\n"
          ]
        },
        {
          "output_type": "stream",
          "name": "stderr",
          "text": [
            "100%|██████████| 167/167 [02:47<00:00,  1.00s/it, H_fake=0.479, H_real=0.519]\n"
          ]
        },
        {
          "output_type": "stream",
          "name": "stdout",
          "text": [
            "=> Saving checkpoint\n",
            "=> Saving checkpoint\n",
            "=> Saving checkpoint\n",
            "=> Saving checkpoint\n",
            "Epochs :  97\n"
          ]
        },
        {
          "output_type": "stream",
          "name": "stderr",
          "text": [
            "100%|██████████| 167/167 [02:47<00:00,  1.00s/it, H_fake=0.479, H_real=0.518]\n"
          ]
        },
        {
          "output_type": "stream",
          "name": "stdout",
          "text": [
            "=> Saving checkpoint\n",
            "=> Saving checkpoint\n",
            "=> Saving checkpoint\n",
            "=> Saving checkpoint\n",
            "Epochs :  98\n"
          ]
        },
        {
          "output_type": "stream",
          "name": "stderr",
          "text": [
            "100%|██████████| 167/167 [02:46<00:00,  1.00it/s, H_fake=0.479, H_real=0.519]\n"
          ]
        },
        {
          "output_type": "stream",
          "name": "stdout",
          "text": [
            "=> Saving checkpoint\n",
            "=> Saving checkpoint\n",
            "=> Saving checkpoint\n",
            "=> Saving checkpoint\n",
            "Epochs :  99\n"
          ]
        },
        {
          "output_type": "stream",
          "name": "stderr",
          "text": [
            "100%|██████████| 167/167 [02:47<00:00,  1.00s/it, H_fake=0.479, H_real=0.519]\n"
          ]
        },
        {
          "output_type": "stream",
          "name": "stdout",
          "text": [
            "=> Saving checkpoint\n",
            "=> Saving checkpoint\n",
            "=> Saving checkpoint\n",
            "=> Saving checkpoint\n",
            "Epochs :  100\n"
          ]
        },
        {
          "output_type": "stream",
          "name": "stderr",
          "text": [
            "100%|██████████| 167/167 [02:47<00:00,  1.00s/it, H_fake=0.479, H_real=0.519]\n"
          ]
        },
        {
          "output_type": "stream",
          "name": "stdout",
          "text": [
            "=> Saving checkpoint\n",
            "=> Saving checkpoint\n",
            "=> Saving checkpoint\n",
            "=> Saving checkpoint\n",
            "Epochs :  101\n"
          ]
        },
        {
          "output_type": "stream",
          "name": "stderr",
          "text": [
            "100%|██████████| 167/167 [02:47<00:00,  1.00s/it, H_fake=0.479, H_real=0.518]\n"
          ]
        },
        {
          "output_type": "stream",
          "name": "stdout",
          "text": [
            "=> Saving checkpoint\n",
            "=> Saving checkpoint\n",
            "=> Saving checkpoint\n",
            "=> Saving checkpoint\n",
            "Epochs :  102\n"
          ]
        },
        {
          "output_type": "stream",
          "name": "stderr",
          "text": [
            "100%|██████████| 167/167 [02:47<00:00,  1.00s/it, H_fake=0.479, H_real=0.518]\n"
          ]
        },
        {
          "output_type": "stream",
          "name": "stdout",
          "text": [
            "=> Saving checkpoint\n",
            "=> Saving checkpoint\n",
            "=> Saving checkpoint\n",
            "=> Saving checkpoint\n",
            "Epochs :  103\n"
          ]
        },
        {
          "output_type": "stream",
          "name": "stderr",
          "text": [
            "100%|██████████| 167/167 [02:47<00:00,  1.00s/it, H_fake=0.479, H_real=0.518]\n"
          ]
        },
        {
          "output_type": "stream",
          "name": "stdout",
          "text": [
            "=> Saving checkpoint\n",
            "=> Saving checkpoint\n",
            "=> Saving checkpoint\n",
            "=> Saving checkpoint\n",
            "Epochs :  104\n"
          ]
        },
        {
          "output_type": "stream",
          "name": "stderr",
          "text": [
            "100%|██████████| 167/167 [02:47<00:00,  1.00s/it, H_fake=0.48, H_real=0.518]\n"
          ]
        },
        {
          "output_type": "stream",
          "name": "stdout",
          "text": [
            "=> Saving checkpoint\n",
            "=> Saving checkpoint\n",
            "=> Saving checkpoint\n",
            "=> Saving checkpoint\n",
            "Epochs :  105\n"
          ]
        },
        {
          "output_type": "stream",
          "name": "stderr",
          "text": [
            "100%|██████████| 167/167 [02:47<00:00,  1.00s/it, H_fake=0.479, H_real=0.518]\n"
          ]
        },
        {
          "output_type": "stream",
          "name": "stdout",
          "text": [
            "=> Saving checkpoint\n",
            "=> Saving checkpoint\n",
            "=> Saving checkpoint\n",
            "=> Saving checkpoint\n",
            "Epochs :  106\n"
          ]
        },
        {
          "output_type": "stream",
          "name": "stderr",
          "text": [
            "100%|██████████| 167/167 [02:47<00:00,  1.01s/it, H_fake=0.479, H_real=0.518]\n"
          ]
        },
        {
          "output_type": "stream",
          "name": "stdout",
          "text": [
            "=> Saving checkpoint\n",
            "=> Saving checkpoint\n",
            "=> Saving checkpoint\n",
            "=> Saving checkpoint\n",
            "Epochs :  107\n"
          ]
        },
        {
          "output_type": "stream",
          "name": "stderr",
          "text": [
            "100%|██████████| 167/167 [02:47<00:00,  1.00s/it, H_fake=0.48, H_real=0.518]\n"
          ]
        },
        {
          "output_type": "stream",
          "name": "stdout",
          "text": [
            "=> Saving checkpoint\n",
            "=> Saving checkpoint\n",
            "=> Saving checkpoint\n",
            "=> Saving checkpoint\n",
            "Epochs :  108\n"
          ]
        },
        {
          "output_type": "stream",
          "name": "stderr",
          "text": [
            "100%|██████████| 167/167 [02:48<00:00,  1.01s/it, H_fake=0.479, H_real=0.517]\n"
          ]
        },
        {
          "output_type": "stream",
          "name": "stdout",
          "text": [
            "=> Saving checkpoint\n",
            "=> Saving checkpoint\n",
            "=> Saving checkpoint\n",
            "=> Saving checkpoint\n",
            "Epochs :  109\n"
          ]
        },
        {
          "output_type": "stream",
          "name": "stderr",
          "text": [
            "100%|██████████| 167/167 [02:47<00:00,  1.00s/it, H_fake=0.479, H_real=0.518]\n"
          ]
        },
        {
          "output_type": "stream",
          "name": "stdout",
          "text": [
            "=> Saving checkpoint\n",
            "=> Saving checkpoint\n",
            "=> Saving checkpoint\n",
            "=> Saving checkpoint\n",
            "Epochs :  110\n"
          ]
        },
        {
          "output_type": "stream",
          "name": "stderr",
          "text": [
            "100%|██████████| 167/167 [02:47<00:00,  1.00s/it, H_fake=0.48, H_real=0.518]\n"
          ]
        },
        {
          "output_type": "stream",
          "name": "stdout",
          "text": [
            "=> Saving checkpoint\n",
            "=> Saving checkpoint\n",
            "=> Saving checkpoint\n",
            "=> Saving checkpoint\n",
            "Epochs :  111\n"
          ]
        },
        {
          "output_type": "stream",
          "name": "stderr",
          "text": [
            "100%|██████████| 167/167 [02:47<00:00,  1.00s/it, H_fake=0.479, H_real=0.517]\n"
          ]
        },
        {
          "output_type": "stream",
          "name": "stdout",
          "text": [
            "=> Saving checkpoint\n",
            "=> Saving checkpoint\n",
            "=> Saving checkpoint\n",
            "=> Saving checkpoint\n",
            "Epochs :  112\n"
          ]
        },
        {
          "output_type": "stream",
          "name": "stderr",
          "text": [
            "100%|██████████| 167/167 [02:47<00:00,  1.00s/it, H_fake=0.48, H_real=0.518]\n"
          ]
        },
        {
          "output_type": "stream",
          "name": "stdout",
          "text": [
            "=> Saving checkpoint\n",
            "=> Saving checkpoint\n",
            "=> Saving checkpoint\n",
            "=> Saving checkpoint\n",
            "Epochs :  113\n"
          ]
        },
        {
          "output_type": "stream",
          "name": "stderr",
          "text": [
            "100%|██████████| 167/167 [02:47<00:00,  1.00s/it, H_fake=0.48, H_real=0.517]\n"
          ]
        },
        {
          "output_type": "stream",
          "name": "stdout",
          "text": [
            "=> Saving checkpoint\n",
            "=> Saving checkpoint\n",
            "=> Saving checkpoint\n",
            "=> Saving checkpoint\n",
            "Epochs :  114\n"
          ]
        },
        {
          "output_type": "stream",
          "name": "stderr",
          "text": [
            "100%|██████████| 167/167 [02:47<00:00,  1.00s/it, H_fake=0.48, H_real=0.517]\n"
          ]
        },
        {
          "output_type": "stream",
          "name": "stdout",
          "text": [
            "=> Saving checkpoint\n",
            "=> Saving checkpoint\n",
            "=> Saving checkpoint\n",
            "=> Saving checkpoint\n",
            "Epochs :  115\n"
          ]
        },
        {
          "output_type": "stream",
          "name": "stderr",
          "text": [
            "100%|██████████| 167/167 [02:47<00:00,  1.00s/it, H_fake=0.48, H_real=0.517]\n"
          ]
        },
        {
          "output_type": "stream",
          "name": "stdout",
          "text": [
            "=> Saving checkpoint\n",
            "=> Saving checkpoint\n",
            "=> Saving checkpoint\n",
            "=> Saving checkpoint\n",
            "Epochs :  116\n"
          ]
        },
        {
          "output_type": "stream",
          "name": "stderr",
          "text": [
            "100%|██████████| 167/167 [02:47<00:00,  1.00s/it, H_fake=0.48, H_real=0.517]\n"
          ]
        },
        {
          "output_type": "stream",
          "name": "stdout",
          "text": [
            "=> Saving checkpoint\n",
            "=> Saving checkpoint\n",
            "=> Saving checkpoint\n",
            "=> Saving checkpoint\n",
            "Epochs :  117\n"
          ]
        },
        {
          "output_type": "stream",
          "name": "stderr",
          "text": [
            "100%|██████████| 167/167 [02:46<00:00,  1.00it/s, H_fake=0.48, H_real=0.518]\n"
          ]
        },
        {
          "output_type": "stream",
          "name": "stdout",
          "text": [
            "=> Saving checkpoint\n",
            "=> Saving checkpoint\n",
            "=> Saving checkpoint\n",
            "=> Saving checkpoint\n",
            "Epochs :  118\n"
          ]
        },
        {
          "output_type": "stream",
          "name": "stderr",
          "text": [
            "100%|██████████| 167/167 [02:47<00:00,  1.00s/it, H_fake=0.48, H_real=0.517]\n"
          ]
        },
        {
          "output_type": "stream",
          "name": "stdout",
          "text": [
            "=> Saving checkpoint\n",
            "=> Saving checkpoint\n",
            "=> Saving checkpoint\n",
            "=> Saving checkpoint\n",
            "Epochs :  119\n"
          ]
        },
        {
          "output_type": "stream",
          "name": "stderr",
          "text": [
            "100%|██████████| 167/167 [02:47<00:00,  1.00s/it, H_fake=0.48, H_real=0.517]\n"
          ]
        },
        {
          "output_type": "stream",
          "name": "stdout",
          "text": [
            "=> Saving checkpoint\n",
            "=> Saving checkpoint\n",
            "=> Saving checkpoint\n",
            "=> Saving checkpoint\n",
            "Epochs :  120\n"
          ]
        },
        {
          "output_type": "stream",
          "name": "stderr",
          "text": [
            "100%|██████████| 167/167 [02:46<00:00,  1.00it/s, H_fake=0.48, H_real=0.517]\n"
          ]
        },
        {
          "output_type": "stream",
          "name": "stdout",
          "text": [
            "=> Saving checkpoint\n",
            "=> Saving checkpoint\n",
            "=> Saving checkpoint\n",
            "=> Saving checkpoint\n",
            "Epochs :  121\n"
          ]
        },
        {
          "output_type": "stream",
          "name": "stderr",
          "text": [
            "100%|██████████| 167/167 [02:46<00:00,  1.00it/s, H_fake=0.48, H_real=0.517]\n"
          ]
        },
        {
          "output_type": "stream",
          "name": "stdout",
          "text": [
            "=> Saving checkpoint\n",
            "=> Saving checkpoint\n",
            "=> Saving checkpoint\n",
            "=> Saving checkpoint\n",
            "Epochs :  122\n"
          ]
        },
        {
          "output_type": "stream",
          "name": "stderr",
          "text": [
            "100%|██████████| 167/167 [02:46<00:00,  1.00it/s, H_fake=0.48, H_real=0.517]\n"
          ]
        },
        {
          "output_type": "stream",
          "name": "stdout",
          "text": [
            "=> Saving checkpoint\n",
            "=> Saving checkpoint\n",
            "=> Saving checkpoint\n",
            "=> Saving checkpoint\n",
            "Epochs :  123\n"
          ]
        },
        {
          "output_type": "stream",
          "name": "stderr",
          "text": [
            "100%|██████████| 167/167 [02:46<00:00,  1.00it/s, H_fake=0.48, H_real=0.517]\n"
          ]
        },
        {
          "output_type": "stream",
          "name": "stdout",
          "text": [
            "=> Saving checkpoint\n",
            "=> Saving checkpoint\n",
            "=> Saving checkpoint\n",
            "=> Saving checkpoint\n",
            "Epochs :  124\n"
          ]
        },
        {
          "output_type": "stream",
          "name": "stderr",
          "text": [
            "100%|██████████| 167/167 [02:47<00:00,  1.00s/it, H_fake=0.48, H_real=0.516]\n"
          ]
        },
        {
          "output_type": "stream",
          "name": "stdout",
          "text": [
            "=> Saving checkpoint\n",
            "=> Saving checkpoint\n",
            "=> Saving checkpoint\n",
            "=> Saving checkpoint\n",
            "Epochs :  125\n"
          ]
        },
        {
          "output_type": "stream",
          "name": "stderr",
          "text": [
            "100%|██████████| 167/167 [02:47<00:00,  1.00s/it, H_fake=0.48, H_real=0.517]\n"
          ]
        },
        {
          "output_type": "stream",
          "name": "stdout",
          "text": [
            "=> Saving checkpoint\n",
            "=> Saving checkpoint\n",
            "=> Saving checkpoint\n",
            "=> Saving checkpoint\n",
            "Epochs :  126\n"
          ]
        },
        {
          "output_type": "stream",
          "name": "stderr",
          "text": [
            "100%|██████████| 167/167 [02:47<00:00,  1.00s/it, H_fake=0.48, H_real=0.517]\n"
          ]
        },
        {
          "output_type": "stream",
          "name": "stdout",
          "text": [
            "=> Saving checkpoint\n",
            "=> Saving checkpoint\n",
            "=> Saving checkpoint\n",
            "=> Saving checkpoint\n",
            "Epochs :  127\n"
          ]
        },
        {
          "output_type": "stream",
          "name": "stderr",
          "text": [
            "100%|██████████| 167/167 [02:46<00:00,  1.00it/s, H_fake=0.481, H_real=0.517]\n"
          ]
        },
        {
          "output_type": "stream",
          "name": "stdout",
          "text": [
            "=> Saving checkpoint\n",
            "=> Saving checkpoint\n",
            "=> Saving checkpoint\n",
            "=> Saving checkpoint\n",
            "Epochs :  128\n"
          ]
        },
        {
          "output_type": "stream",
          "name": "stderr",
          "text": [
            " 38%|███▊      | 64/167 [01:04<01:43,  1.01s/it, H_fake=0.48, H_real=0.515]"
          ]
        }
      ]
    }
  ]
}